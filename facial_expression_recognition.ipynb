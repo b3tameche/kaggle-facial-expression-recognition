{
  "cells": [
    {
      "cell_type": "markdown",
      "metadata": {
        "id": "zOB1myDYM4eV"
      },
      "source": [
        "# 1. Initializations and Dataset Download"
      ]
    },
    {
      "cell_type": "code",
      "execution_count": 1,
      "metadata": {
        "colab": {
          "base_uri": "https://localhost:8080/"
        },
        "id": "Fr-W57XmM4eW",
        "outputId": "8e0462e5-de66-4a9e-9ac4-6c9ba6987a9d"
      },
      "outputs": [
        {
          "output_type": "stream",
          "name": "stdout",
          "text": [
            "\u001b[2K   \u001b[90m━━━━━━━━━━━━━━━━━━━━━━━━━━━━━━━━━━━━━━━━\u001b[0m \u001b[32m23.2/23.2 MB\u001b[0m \u001b[31m39.5 MB/s\u001b[0m eta \u001b[36m0:00:00\u001b[0m\n",
            "\u001b[2K   \u001b[90m━━━━━━━━━━━━━━━━━━━━━━━━━━━━━━━━━━━━━━━━\u001b[0m \u001b[32m17.6/17.6 MB\u001b[0m \u001b[31m40.9 MB/s\u001b[0m eta \u001b[36m0:00:00\u001b[0m\n",
            "\u001b[?25hMounted at /content/drive\n"
          ]
        }
      ],
      "source": [
        "!pip install kaggle wandb onnx -Uq\n",
        "from google.colab import drive\n",
        "drive.mount('/content/drive')"
      ]
    },
    {
      "cell_type": "code",
      "execution_count": 2,
      "metadata": {
        "id": "tn1Tr6q6M4eX"
      },
      "outputs": [],
      "source": [
        "! mkdir ~/.kaggle"
      ]
    },
    {
      "cell_type": "code",
      "execution_count": 3,
      "metadata": {
        "id": "dr3GSGhHM4eX"
      },
      "outputs": [],
      "source": [
        "!cp /content/drive/MyDrive/ML/kaggle/kaggle.json ~/.kaggle/kaggle.json"
      ]
    },
    {
      "cell_type": "code",
      "execution_count": 4,
      "metadata": {
        "id": "e0XzCxHzM4eX"
      },
      "outputs": [],
      "source": [
        "! chmod 600 ~/.kaggle/kaggle.json"
      ]
    },
    {
      "cell_type": "code",
      "execution_count": 5,
      "metadata": {
        "colab": {
          "base_uri": "https://localhost:8080/"
        },
        "id": "1DOrykZSM4eY",
        "outputId": "9a29fdb9-b49e-43bf-edb8-7d2ca620bfd2"
      },
      "outputs": [
        {
          "output_type": "stream",
          "name": "stdout",
          "text": [
            "Downloading challenges-in-representation-learning-facial-expression-recognition-challenge.zip to /content\n",
            " 83% 238M/285M [00:00<00:00, 326MB/s]\n",
            "100% 285M/285M [00:00<00:00, 353MB/s]\n"
          ]
        }
      ],
      "source": [
        "! kaggle competitions download -c challenges-in-representation-learning-facial-expression-recognition-challenge"
      ]
    },
    {
      "cell_type": "code",
      "execution_count": 6,
      "metadata": {
        "colab": {
          "base_uri": "https://localhost:8080/"
        },
        "id": "XbF23WCAM4eY",
        "outputId": "df9cf23f-470b-4470-d31d-983edff79b80"
      },
      "outputs": [
        {
          "output_type": "stream",
          "name": "stdout",
          "text": [
            "Archive:  challenges-in-representation-learning-facial-expression-recognition-challenge.zip\n",
            "  inflating: facial-expression-recognition-dataset/example_submission.csv  \n",
            "  inflating: facial-expression-recognition-dataset/fer2013.tar.gz  \n",
            "  inflating: facial-expression-recognition-dataset/icml_face_data.csv  \n",
            "  inflating: facial-expression-recognition-dataset/test.csv  \n",
            "  inflating: facial-expression-recognition-dataset/train.csv  \n"
          ]
        }
      ],
      "source": [
        "! unzip challenges-in-representation-learning-facial-expression-recognition-challenge.zip -d facial-expression-recognition-dataset"
      ]
    },
    {
      "cell_type": "code",
      "execution_count": 7,
      "metadata": {
        "colab": {
          "base_uri": "https://localhost:8080/"
        },
        "id": "ClIOvCANUl2v",
        "outputId": "976c136f-3f3d-4f45-e9eb-86bdc3e467d9"
      },
      "outputs": [
        {
          "output_type": "stream",
          "name": "stdout",
          "text": [
            "fer2013/fer2013.csv\n",
            "fer2013/README\n",
            "fer2013/fer2013.bib\n",
            "fer2013/\n"
          ]
        }
      ],
      "source": [
        "!tar -xzvf facial-expression-recognition-dataset/fer2013.tar.gz"
      ]
    },
    {
      "cell_type": "markdown",
      "metadata": {
        "id": "hTBp-uigM4eY"
      },
      "source": [
        "Now I should have directory `facial-expression-recognition-dataset` containing dataset files from kaggle"
      ]
    },
    {
      "cell_type": "markdown",
      "metadata": {
        "id": "HnLmsXVzM4eZ"
      },
      "source": [
        "# 2. Imports\n",
        "Lets start by getting all our imports, keep in mind that PyTorch is not automatically detects and trains on GPU, you have to tell it to use cuda. In case you want to train on Mac Silicon replace cuda with mps."
      ]
    },
    {
      "cell_type": "code",
      "execution_count": 8,
      "metadata": {
        "colab": {
          "base_uri": "https://localhost:8080/"
        },
        "id": "H-b1wLCJM4eZ",
        "outputId": "8f42e761-e89c-46f2-c6c8-91f7979eb3c6"
      },
      "outputs": [
        {
          "output_type": "stream",
          "name": "stdout",
          "text": [
            "Device available:  cuda\n"
          ]
        }
      ],
      "source": [
        "import torch # Main PyTorch Library\n",
        "import torchvision.transforms as transforms # Transform function used to modify and preprocess all the images\n",
        "import matplotlib.pyplot as plt # Used for visualizing the images and plotting the training progress\n",
        "import pandas as pd # Used to read/create dataframes (csv) and process tabular data\n",
        "import numpy as np # preprocessing and numerical/mathematical operations\n",
        "import os # Used to read the images path from the directory\n",
        "import wandb\n",
        "import seaborn as sns\n",
        "\n",
        "from torch import nn # Used for creating the layers and loss function\n",
        "from torch.optim import Adam # Adam Optimizer\n",
        "from torch.utils.data import Dataset, DataLoader # Dataset class and DataLoader for creating the objects\n",
        "from sklearn.preprocessing import LabelEncoder # Label Encoder to encode the classes from strings to numbers\n",
        "from sklearn.model_selection import train_test_split # Train/Test split\n",
        "from sklearn.metrics import confusion_matrix\n",
        "from tqdm import tqdm\n",
        "from PIL import Image # Used to read the images from the directory\n",
        "\n",
        "device = \"cuda\" if torch.cuda.is_available() else \"cpu\" # detect the GPU if any, if not use CPU, change cuda to mps if you have a mac\n",
        "print(\"Device available: \", device)"
      ]
    },
    {
      "cell_type": "markdown",
      "metadata": {
        "id": "U-aQ21lLO2ZQ"
      },
      "source": [
        "# 3. Data Exploration"
      ]
    },
    {
      "cell_type": "markdown",
      "metadata": {
        "id": "QaMOp_-uUENH"
      },
      "source": [
        "### 3.1 Data Loading"
      ]
    },
    {
      "cell_type": "code",
      "execution_count": 25,
      "metadata": {
        "colab": {
          "base_uri": "https://localhost:8080/"
        },
        "id": "OaZ5lKjwQelQ",
        "outputId": "f1599145-ba93-4885-b152-2f4d0dabddd8"
      },
      "outputs": [
        {
          "output_type": "stream",
          "name": "stdout",
          "text": [
            "trainset shape: (28709, 2)\n",
            "valset shape: (3589, 2)\n",
            "testset shape: (3589, 2)\n",
            "\n",
            "Emotion distribution in trainset:\n",
            "emotion\n",
            "3    7215\n",
            "6    4965\n",
            "4    4830\n",
            "2    4097\n",
            "0    3995\n",
            "5    3171\n",
            "1     436\n",
            "Name: count, dtype: int64\n"
          ]
        }
      ],
      "source": [
        "df = pd.read_csv('fer2013/fer2013.csv')\n",
        "\n",
        "train_df = df[df['Usage'] == 'Training'].drop('Usage', axis=1)\n",
        "val_df = df[df['Usage'] == \"PublicTest\"].drop('Usage', axis=1)\n",
        "test_df = df[df['Usage'] == \"PrivateTest\"].drop('Usage', axis=1)\n",
        "\n",
        "print(f\"trainset shape: {train_df.shape}\")\n",
        "print(f\"valset shape: {val_df.shape}\")\n",
        "print(f\"testset shape: {test_df.shape}\")\n",
        "print(f\"\\nEmotion distribution in trainset:\")\n",
        "print(train_df['emotion'].value_counts().sort_values(ascending=False))\n",
        "\n",
        "emotion_labels = {0: 'Angry', 1: 'Disgust', 2: 'Fear', 3: 'Happy', 4: 'Sad', 5: 'Surprise', 6: 'Neutral'}"
      ]
    },
    {
      "cell_type": "markdown",
      "metadata": {
        "id": "Fga_2S-bQ5h6"
      },
      "source": [
        "### 3.2 Data Inspection"
      ]
    },
    {
      "cell_type": "code",
      "execution_count": 26,
      "metadata": {
        "colab": {
          "base_uri": "https://localhost:8080/",
          "height": 409
        },
        "id": "2BzoO6znUOYR",
        "outputId": "d24b4625-0581-4e6f-9962-41c2eac59521"
      },
      "outputs": [
        {
          "output_type": "display_data",
          "data": {
            "text/plain": [
              "<Figure size 800x400 with 8 Axes>"
            ],
            "image/png": "[encoded data removed]"
          },
          "metadata": {}
        }
      ],
      "source": [
        "def plot_sample_images(df, num_samples=8):\n",
        "    _, axes = plt.subplots(2, 4, figsize=(8, 4))\n",
        "    axes = axes.ravel()\n",
        "\n",
        "    for i in range(num_samples):\n",
        "        # random sample\n",
        "        idx = np.random.randint(0, len(df))\n",
        "        emotion = df.iloc[idx]['emotion']\n",
        "        pixels = df.iloc[idx]['pixels']\n",
        "\n",
        "        # convert bytearray to grayscale image\n",
        "        pixel_values = np.array(pixels.split(), dtype=np.uint8)\n",
        "        image = pixel_values.reshape(48, 48)\n",
        "\n",
        "        axes[i].imshow(image, cmap='gray')\n",
        "        axes[i].set_title(f'{emotion_labels[emotion]}')\n",
        "        axes[i].axis('off')\n",
        "\n",
        "    plt.tight_layout()\n",
        "    plt.show()\n",
        "\n",
        "plot_sample_images(train_df)"
      ]
    },
    {
      "cell_type": "markdown",
      "metadata": {
        "id": "Xh2dx4hAUahc"
      },
      "source": [
        "### 3.3 Custom Dataset Class"
      ]
    },
    {
      "cell_type": "code",
      "execution_count": 61,
      "metadata": {
        "id": "oaVJ92Z_e5cY"
      },
      "outputs": [],
      "source": [
        "class FERDataset(Dataset):\n",
        "    def __init__(self, dataframe, transform=None):\n",
        "        self.dataframe = dataframe\n",
        "        self.transform = transform\n",
        "\n",
        "    def __len__(self):\n",
        "        return self.dataframe.shape[0]\n",
        "\n",
        "    def __getitem__(self, idx):\n",
        "        pixels = self.dataframe.iloc[idx]['pixels']\n",
        "        pixel_values = np.array(pixels.split(), dtype=np.uint8)\n",
        "        image = pixel_values.reshape(48, 48, 1) # add channel\n",
        "        image = Image.fromarray(image.squeeze(), mode='L') # convert to PIL image\n",
        "\n",
        "        if self.transform:\n",
        "            image = self.transform(image)\n",
        "\n",
        "        emotion = self.dataframe.iloc[idx]['emotion']\n",
        "        return image, emotion"
      ]
    },
    {
      "cell_type": "markdown",
      "metadata": {
        "id": "F3RtY1V7hAb_"
      },
      "source": [
        "### 3.4 Data Transforms and Data Loaders"
      ]
    },
    {
      "cell_type": "code",
      "execution_count": 62,
      "metadata": {
        "id": "pAPT1D6CiipC"
      },
      "outputs": [],
      "source": [
        "train_transform_chain = transforms.Compose([\n",
        "    transforms.RandomHorizontalFlip(p=0.5), # randomly flip horizontally, try to maintain symmetry between turned faces\n",
        "    transforms.RandomRotation(degrees=10), # randomly rotate with -10/+10 degrees, try to maintain symmetry between tilted faces\n",
        "    transforms.ToTensor(),\n",
        "    transforms.Normalize(mean=[0.5], std=[0.5])\n",
        "])\n",
        "\n",
        "val_transform_chain = transforms.Compose([\n",
        "    transforms.ToTensor(),\n",
        "    transforms.Normalize(mean=[0.5], std=[0.5])\n",
        "])\n",
        "\n",
        "# create datasets\n",
        "train_dataset = FERDataset(train_df.reset_index(drop=True), transform=train_transform_chain)\n",
        "val_dataset = FERDataset(val_df, transform=val_transform_chain)\n",
        "test_dataset = FERDataset(test_df, transform=val_transform_chain)"
      ]
    },
    {
      "cell_type": "markdown",
      "metadata": {
        "id": "v3xWR775sxT3"
      },
      "source": [
        "# 4. Training"
      ]
    },
    {
      "cell_type": "markdown",
      "metadata": {
        "id": "u7XyI6VohKLR"
      },
      "source": [
        "## 4.1 Define training helpers"
      ]
    },
    {
      "cell_type": "code",
      "execution_count": 70,
      "metadata": {
        "id": "_emn_RNHhN3O"
      },
      "outputs": [],
      "source": [
        "def train_epoch(model, train_loader, optimizer, criterion, device):\n",
        "    model.train()           # set model to training mode (for BN and Dropout, to only include in training phase)\n",
        "    running_loss = 0.0      # total loss across all batches\n",
        "    correct = 0             # correct predictions\n",
        "    total = 0               # total number of images processed\n",
        "\n",
        "    # iterate through all batches in the training data loader (tqdm for progress bar to estimate time remaining)\n",
        "    for inputs, labels in tqdm(train_loader, desc=\"Training\"):\n",
        "        inputs, labels = inputs.to(device), labels.to(device) # use GPU\n",
        "\n",
        "        optimizer.zero_grad()               # clear gradients from previous batch\n",
        "        output = model(inputs)              # forward\n",
        "        loss = criterion(output, labels)    # loss\n",
        "        loss.backward()                     # backward\n",
        "        optimizer.step()                    # update model parameters\n",
        "\n",
        "        running_loss += loss.item()\n",
        "        _, predicted = torch.max(output.data, 1)        # predicted class\n",
        "        total += labels.size(0)                         # update total number of images processed\n",
        "        correct += (predicted == labels).sum().item()   # update count of correct predictions\n",
        "\n",
        "    epoch_loss = running_loss / len(train_loader)   # average loss per batch\n",
        "    epoch_acc = correct / total * 100.              # accuracy as percentage\n",
        "\n",
        "    return epoch_loss, epoch_acc\n",
        "\n",
        "def validate_epoch(model, val_loader, criterion, device):\n",
        "    model.eval()            # set model to evaluation mode (disables dropout, BN uses running info)\n",
        "    running_loss = 0.0      # total validation loss\n",
        "    correct = 0             # correct predictions\n",
        "    total = 0               # total number of validation images\n",
        "    preds = []              # predictions\n",
        "    true_labels = []        # true labels\n",
        "\n",
        "    # without gradient computation\n",
        "    with torch.no_grad():\n",
        "\n",
        "        # iterate through all batches in the validation data loader\n",
        "        for inputs, labels in tqdm(val_loader, desc=\"Validation\"):\n",
        "            inputs, labels = inputs.to(device), labels.to(device)   # use GPU\n",
        "            output = model(inputs)                                  # forward\n",
        "            loss = criterion(output, labels)                        # loss\n",
        "\n",
        "            running_loss += loss.item()\n",
        "            _, predicted = torch.max(output.data, 1)        # predicted class\n",
        "            total += labels.size(0)                         # update total number of images processed\n",
        "            correct += (predicted == labels).sum().item()   # update count of correct predictions\n",
        "\n",
        "            # numpy works with CPU\n",
        "            preds.extend(predicted.cpu().numpy())\n",
        "            true_labels.extend(labels.cpu().numpy())\n",
        "\n",
        "    epoch_loss = running_loss / len(val_loader)     # average loss per batch\n",
        "    epoch_acc = correct / total * 100.              # accuracy as percentage\n",
        "\n",
        "    return epoch_loss, epoch_acc, preds, true_labels\n",
        "\n",
        "def train_model(model, train_loader, val_loader, num_epochs, optimizer, criterion, device, model_name):\n",
        "    # initialize wandb\n",
        "    wandb.init(\n",
        "        project=\"Facial Expression Recognition\",\n",
        "        name=model_name,\n",
        "        config={\n",
        "            \"model\": model_name,\n",
        "            \"epochs\": num_epochs,\n",
        "            \"optimizer\": optimizer.__class__.__name__,\n",
        "            \"learning_rate\": optimizer.param_groups[0]['lr'],\n",
        "            \"batch_size\": train_loader.batch_size,\n",
        "        }\n",
        "    )\n",
        "\n",
        "    # watch gradients\n",
        "    wandb.watch(model, log=\"all\")\n",
        "\n",
        "    train_losses = []   # training loss per epoch\n",
        "    train_accs = []     # training accuracy per epoch\n",
        "    val_losses = []     # validation loss per epoch\n",
        "    val_accs = []       # validation accuracy per epoch\n",
        "\n",
        "    best_val_acc = 0.0\n",
        "\n",
        "    for epoch in range(num_epochs):\n",
        "        print(f'\\nEpoch {epoch+1}/{num_epochs}')\n",
        "        print('-' * 10)\n",
        "\n",
        "        # train\n",
        "        train_loss, train_acc = train_epoch(model, train_loader, optimizer, criterion, device)\n",
        "\n",
        "        # validate\n",
        "        val_loss, val_acc, val_preds, val_targets = validate_epoch(model, val_loader, criterion, device)\n",
        "\n",
        "        # store metrics for plotting\n",
        "        train_losses.append(train_loss)\n",
        "        train_accs.append(train_acc)\n",
        "        val_losses.append(val_loss)\n",
        "        val_accs.append(val_acc)\n",
        "\n",
        "        wandb.log({\n",
        "            \"epoch\": epoch + 1,\n",
        "            \"train_loss\": train_loss,\n",
        "            \"train_accuracy\": train_acc,\n",
        "            \"val_loss\": val_loss,\n",
        "            \"val_accuracy\": val_acc,\n",
        "        })\n",
        "\n",
        "        print(f'Train Loss: {train_loss:.4f}, Train Acc: {train_acc:.2f}%')\n",
        "        print(f'Val Loss: {val_loss:.4f}, Val Acc: {val_acc:.2f}%')\n",
        "\n",
        "        # save best model\n",
        "        best_val_acc = max(best_val_acc, val_acc)\n",
        "\n",
        "    # plotting\n",
        "    plt.figure(figsize=(15, 5))\n",
        "\n",
        "    # loss curves\n",
        "    plt.subplot(1, 2, 1)\n",
        "    plt.plot(train_losses, label='Train Loss')      # training loss over epochs\n",
        "    plt.plot(val_losses, label='Val Loss')          # validation loss over epochs\n",
        "    plt.title(f'{model_name} - Loss')\n",
        "    plt.xlabel('Epoch')\n",
        "    plt.ylabel('Loss')\n",
        "    plt.legend()\n",
        "\n",
        "    # accuracy curves\n",
        "    plt.subplot(1, 2, 2)\n",
        "    plt.plot(train_accs, label='Train Acc')     # training accuracy over epochs\n",
        "    plt.plot(val_accs, label='Val Acc')         # validation accuracy over epochs\n",
        "    plt.title(f'{model_name} - Accuracy')\n",
        "    plt.xlabel('Epoch')\n",
        "    plt.ylabel('Accuracy')\n",
        "    plt.legend()\n",
        "\n",
        "    plt.tight_layout()\n",
        "    plt.show()\n",
        "\n",
        "    # log final metrics to wandb\n",
        "    wandb.log({\n",
        "        \"best_val_accuracy\": best_val_acc,\n",
        "        \"final_train_accuracy\": train_accs[-1],\n",
        "        \"final_val_accuracy\": val_accs[-1],\n",
        "    })\n",
        "\n",
        "    # log model\n",
        "    model.eval()\n",
        "    dummy_input = torch.randn(1, 1, 48, 48).to(device) # dummy input for exporting\n",
        "    torch.onnx.export(model, dummy_input, f\"{model_name}.onnx\")\n",
        "    wandb.save(f\"{model_name}.onnx\")\n",
        "\n",
        "    wandb.finish()\n",
        "\n",
        "    return train_losses, train_accs, val_losses, val_accs, best_val_acc"
      ]
    },
    {
      "cell_type": "code",
      "execution_count": 71,
      "metadata": {
        "id": "d0o9QujahodM"
      },
      "outputs": [],
      "source": [
        "# hyperparameters\n",
        "BATCH_SIZE = 64\n",
        "NUM_EPOCHS = 10\n",
        "LR = 0.005\n",
        "\n",
        "# data loaders\n",
        "train_loader = DataLoader(train_dataset, batch_size=BATCH_SIZE, shuffle=True)\n",
        "val_loader = DataLoader(val_dataset, batch_size=BATCH_SIZE, shuffle=False)\n",
        "test_loader = DataLoader(test_dataset, batch_size=BATCH_SIZE, shuffle=False)\n",
        "\n",
        "# results\n",
        "results = {}"
      ]
    },
    {
      "cell_type": "markdown",
      "metadata": {
        "id": "KoEZdO_Hh6qQ"
      },
      "source": [
        "## 4.2 Architectures"
      ]
    },
    {
      "cell_type": "markdown",
      "metadata": {
        "id": "JrMJBsc2iB1G"
      },
      "source": [
        "### 4.2.1 Basic CNN (No BatchNorm, No Dropout)"
      ]
    },
    {
      "cell_type": "code",
      "execution_count": 72,
      "metadata": {
        "id": "HaFUel-ziHyl"
      },
      "outputs": [],
      "source": [
        "# 1. conv layer 1\n",
        "#    ReLU\n",
        "#    max pooling\n",
        "\n",
        "# 2. conv layer 2\n",
        "#    ReLU\n",
        "#    max pooling\n",
        "\n",
        "# 3. conv layer 3\n",
        "#    ReLU\n",
        "#    max pooling\n",
        "\n",
        "# 4. flatten\n",
        "# 5. linear layer\n",
        "# 6. softmax\n",
        "\n",
        "class BasicCNN(nn.Module):\n",
        "    def __init__(self, num_classes=7):\n",
        "        super().__init__()\n",
        "\n",
        "        self.conv_layers = nn.Sequential(\n",
        "            # conv 1\n",
        "            nn.Conv2d(1, 32, kernel_size=3, padding=1), # 32 x 48 x 48\n",
        "            nn.ReLU(),\n",
        "            nn.MaxPool2d(2, 2), # 32 x 24 x 24\n",
        "\n",
        "            # conv 2\n",
        "            nn.Conv2d(32, 64, kernel_size=3, padding=1), # 64 x 24 x 24\n",
        "            nn.ReLU(),\n",
        "            nn.MaxPool2d(2, 2), # 64 x 12 x 12\n",
        "\n",
        "            # conv 3\n",
        "            nn.Conv2d(64, 128, kernel_size=3, padding=1), # 128 x 12 x 12\n",
        "            nn.ReLU(),\n",
        "            nn.MaxPool2d(2, 2), # 128 x 6 x 6\n",
        "        )\n",
        "\n",
        "        self.classifier = nn.Sequential(\n",
        "            nn.Flatten(),\n",
        "            nn.Linear(128 * 6 * 6, 512),\n",
        "            nn.ReLU(), # breaking linearity\n",
        "            nn.Linear(512, num_classes)\n",
        "        )\n",
        "\n",
        "    def forward(self, x):\n",
        "        x = self.conv_layers(x)\n",
        "        x = self.classifier(x)\n",
        "        return x"
      ]
    },
    {
      "cell_type": "code",
      "execution_count": 73,
      "metadata": {
        "id": "ay7g96BcidBT",
        "colab": {
          "base_uri": "https://localhost:8080/",
          "height": 1000
        },
        "outputId": "385584d8-3228-4cfe-9c7d-c3b1424ca723"
      },
      "outputs": [
        {
          "output_type": "stream",
          "name": "stdout",
          "text": [
            "Architecture 1: Basic CNN (No BatchNorm, No Dropout)\n"
          ]
        },
        {
          "output_type": "display_data",
          "data": {
            "text/plain": [
              "<IPython.core.display.HTML object>"
            ],
            "text/html": [
              "Tracking run with wandb version 0.20.1"
            ]
          },
          "metadata": {}
        },
        {
          "output_type": "display_data",
          "data": {
            "text/plain": [
              "<IPython.core.display.HTML object>"
            ],
            "text/html": [
              "Run data is saved locally in <code>/content/wandb/run-20250607_173529-b06ig7mu</code>"
            ]
          },
          "metadata": {}
        },
        {
          "output_type": "display_data",
          "data": {
            "text/plain": [
              "<IPython.core.display.HTML object>"
            ],
            "text/html": [
              "Syncing run <strong><a href='https://wandb.ai/b3tameche-free-university-of-tbilisi-/Facial%20Expression%20Recognition/runs/b06ig7mu' target=\"_blank\">Basic_CNN</a></strong> to <a href='https://wandb.ai/b3tameche-free-university-of-tbilisi-/Facial%20Expression%20Recognition' target=\"_blank\">Weights & Biases</a> (<a href='https://wandb.me/developer-guide' target=\"_blank\">docs</a>)<br>"
            ]
          },
          "metadata": {}
        },
        {
          "output_type": "display_data",
          "data": {
            "text/plain": [
              "<IPython.core.display.HTML object>"
            ],
            "text/html": [
              " View project at <a href='https://wandb.ai/b3tameche-free-university-of-tbilisi-/Facial%20Expression%20Recognition' target=\"_blank\">https://wandb.ai/b3tameche-free-university-of-tbilisi-/Facial%20Expression%20Recognition</a>"
            ]
          },
          "metadata": {}
        },
        {
          "output_type": "display_data",
          "data": {
            "text/plain": [
              "<IPython.core.display.HTML object>"
            ],
            "text/html": [
              " View run at <a href='https://wandb.ai/b3tameche-free-university-of-tbilisi-/Facial%20Expression%20Recognition/runs/b06ig7mu' target=\"_blank\">https://wandb.ai/b3tameche-free-university-of-tbilisi-/Facial%20Expression%20Recognition/runs/b06ig7mu</a>"
            ]
          },
          "metadata": {}
        },
        {
          "output_type": "stream",
          "name": "stdout",
          "text": [
            "\n",
            "Epoch 1/10\n",
            "----------\n"
          ]
        },
        {
          "output_type": "stream",
          "name": "stderr",
          "text": [
            "Training: 100%|██████████| 449/449 [00:31<00:00, 14.06it/s]\n",
            "Validation: 100%|██████████| 57/57 [00:05<00:00, 10.87it/s]\n"
          ]
        },
        {
          "output_type": "stream",
          "name": "stdout",
          "text": [
            "Train Loss: 1.6961, Train Acc: 31.81%\n",
            "Val Loss: 1.5544, Val Acc: 39.68%\n",
            "\n",
            "Epoch 2/10\n",
            "----------\n"
          ]
        },
        {
          "output_type": "stream",
          "name": "stderr",
          "text": [
            "Training: 100%|██████████| 449/449 [00:31<00:00, 14.14it/s]\n",
            "Validation: 100%|██████████| 57/57 [00:02<00:00, 20.96it/s]\n"
          ]
        },
        {
          "output_type": "stream",
          "name": "stdout",
          "text": [
            "Train Loss: 1.5272, Train Acc: 40.51%\n",
            "Val Loss: 1.4341, Val Acc: 43.94%\n",
            "\n",
            "Epoch 3/10\n",
            "----------\n"
          ]
        },
        {
          "output_type": "stream",
          "name": "stderr",
          "text": [
            "Training: 100%|██████████| 449/449 [00:31<00:00, 14.32it/s]\n",
            "Validation: 100%|██████████| 57/57 [00:02<00:00, 21.65it/s]\n"
          ]
        },
        {
          "output_type": "stream",
          "name": "stdout",
          "text": [
            "Train Loss: 1.4593, Train Acc: 42.99%\n",
            "Val Loss: 1.4409, Val Acc: 43.86%\n",
            "\n",
            "Epoch 4/10\n",
            "----------\n"
          ]
        },
        {
          "output_type": "stream",
          "name": "stderr",
          "text": [
            "Training: 100%|██████████| 449/449 [00:31<00:00, 14.32it/s]\n",
            "Validation: 100%|██████████| 57/57 [00:03<00:00, 16.12it/s]\n"
          ]
        },
        {
          "output_type": "stream",
          "name": "stdout",
          "text": [
            "Train Loss: 1.4293, Train Acc: 44.65%\n",
            "Val Loss: 1.4156, Val Acc: 45.78%\n",
            "\n",
            "Epoch 5/10\n",
            "----------\n"
          ]
        },
        {
          "output_type": "stream",
          "name": "stderr",
          "text": [
            "Training: 100%|██████████| 449/449 [00:32<00:00, 14.01it/s]\n",
            "Validation: 100%|██████████| 57/57 [00:02<00:00, 20.13it/s]\n"
          ]
        },
        {
          "output_type": "stream",
          "name": "stdout",
          "text": [
            "Train Loss: 1.3985, Train Acc: 45.99%\n",
            "Val Loss: 1.3675, Val Acc: 46.73%\n",
            "\n",
            "Epoch 6/10\n",
            "----------\n"
          ]
        },
        {
          "output_type": "stream",
          "name": "stderr",
          "text": [
            "Training: 100%|██████████| 449/449 [00:31<00:00, 14.29it/s]\n",
            "Validation: 100%|██████████| 57/57 [00:02<00:00, 20.66it/s]\n"
          ]
        },
        {
          "output_type": "stream",
          "name": "stdout",
          "text": [
            "Train Loss: 1.3708, Train Acc: 46.94%\n",
            "Val Loss: 1.3893, Val Acc: 46.92%\n",
            "\n",
            "Epoch 7/10\n",
            "----------\n"
          ]
        },
        {
          "output_type": "stream",
          "name": "stderr",
          "text": [
            "Training: 100%|██████████| 449/449 [00:31<00:00, 14.34it/s]\n",
            "Validation: 100%|██████████| 57/57 [00:02<00:00, 20.45it/s]\n"
          ]
        },
        {
          "output_type": "stream",
          "name": "stdout",
          "text": [
            "Train Loss: 1.3625, Train Acc: 47.17%\n",
            "Val Loss: 1.3548, Val Acc: 48.23%\n",
            "\n",
            "Epoch 8/10\n",
            "----------\n"
          ]
        },
        {
          "output_type": "stream",
          "name": "stderr",
          "text": [
            "Training: 100%|██████████| 449/449 [00:31<00:00, 14.41it/s]\n",
            "Validation: 100%|██████████| 57/57 [00:03<00:00, 15.43it/s]\n"
          ]
        },
        {
          "output_type": "stream",
          "name": "stdout",
          "text": [
            "Train Loss: 1.3393, Train Acc: 48.17%\n",
            "Val Loss: 1.3362, Val Acc: 48.12%\n",
            "\n",
            "Epoch 9/10\n",
            "----------\n"
          ]
        },
        {
          "output_type": "stream",
          "name": "stderr",
          "text": [
            "Training: 100%|██████████| 449/449 [00:30<00:00, 14.56it/s]\n",
            "Validation: 100%|██████████| 57/57 [00:02<00:00, 19.64it/s]\n"
          ]
        },
        {
          "output_type": "stream",
          "name": "stdout",
          "text": [
            "Train Loss: 1.3241, Train Acc: 48.72%\n",
            "Val Loss: 1.3571, Val Acc: 48.29%\n",
            "\n",
            "Epoch 10/10\n",
            "----------\n"
          ]
        },
        {
          "output_type": "stream",
          "name": "stderr",
          "text": [
            "Training: 100%|██████████| 449/449 [00:32<00:00, 13.89it/s]\n",
            "Validation: 100%|██████████| 57/57 [00:02<00:00, 21.13it/s]\n"
          ]
        },
        {
          "output_type": "stream",
          "name": "stdout",
          "text": [
            "Train Loss: 1.3184, Train Acc: 49.07%\n",
            "Val Loss: 1.3536, Val Acc: 48.65%\n"
          ]
        },
        {
          "output_type": "display_data",
          "data": {
            "text/plain": [
              "<Figure size 1500x500 with 2 Axes>"
            ],
            "image/png": "[encoded data removed]"
          },
          "metadata": {}
        },
        {
          "output_type": "display_data",
          "data": {
            "text/plain": [
              "<IPython.core.display.HTML object>"
            ],
            "text/html": []
          },
          "metadata": {}
        },
        {
          "output_type": "display_data",
          "data": {
            "text/plain": [
              "<IPython.core.display.HTML object>"
            ],
            "text/html": [
              "<br>    <style><br>        .wandb-row {<br>            display: flex;<br>            flex-direction: row;<br>            flex-wrap: wrap;<br>            justify-content: flex-start;<br>            width: 100%;<br>        }<br>        .wandb-col {<br>            display: flex;<br>            flex-direction: column;<br>            flex-basis: 100%;<br>            flex: 1;<br>            padding: 10px;<br>        }<br>    </style><br><div class=\"wandb-row\"><div class=\"wandb-col\"><h3>Run history:</h3><br/><table class=\"wandb\"><tr><td>best_val_accuracy</td><td>▁</td></tr><tr><td>epoch</td><td>▁▂▃▃▄▅▆▆▇█</td></tr><tr><td>final_train_accuracy</td><td>▁</td></tr><tr><td>final_val_accuracy</td><td>▁</td></tr><tr><td>train_accuracy</td><td>▁▅▆▆▇▇▇███</td></tr><tr><td>train_loss</td><td>█▅▄▃▂▂▂▁▁▁</td></tr><tr><td>val_accuracy</td><td>▁▄▄▆▇▇████</td></tr><tr><td>val_loss</td><td>█▄▄▄▂▃▂▁▂▂</td></tr></table><br/></div><div class=\"wandb-col\"><h3>Run summary:</h3><br/><table class=\"wandb\"><tr><td>best_val_accuracy</td><td>48.64865</td></tr><tr><td>epoch</td><td>10</td></tr><tr><td>final_train_accuracy</td><td>49.06824</td></tr><tr><td>final_val_accuracy</td><td>48.64865</td></tr><tr><td>train_accuracy</td><td>49.06824</td></tr><tr><td>train_loss</td><td>1.31837</td></tr><tr><td>val_accuracy</td><td>48.64865</td></tr><tr><td>val_loss</td><td>1.35364</td></tr></table><br/></div></div>"
            ]
          },
          "metadata": {}
        },
        {
          "output_type": "display_data",
          "data": {
            "text/plain": [
              "<IPython.core.display.HTML object>"
            ],
            "text/html": [
              " View run <strong style=\"color:#cdcd00\">Basic_CNN</strong> at: <a href='https://wandb.ai/b3tameche-free-university-of-tbilisi-/Facial%20Expression%20Recognition/runs/b06ig7mu' target=\"_blank\">https://wandb.ai/b3tameche-free-university-of-tbilisi-/Facial%20Expression%20Recognition/runs/b06ig7mu</a><br> View project at: <a href='https://wandb.ai/b3tameche-free-university-of-tbilisi-/Facial%20Expression%20Recognition' target=\"_blank\">https://wandb.ai/b3tameche-free-university-of-tbilisi-/Facial%20Expression%20Recognition</a><br>Synced 5 W&B file(s), 0 media file(s), 0 artifact file(s) and 1 other file(s)"
            ]
          },
          "metadata": {}
        },
        {
          "output_type": "display_data",
          "data": {
            "text/plain": [
              "<IPython.core.display.HTML object>"
            ],
            "text/html": [
              "Find logs at: <code>./wandb/run-20250607_173529-b06ig7mu/logs</code>"
            ]
          },
          "metadata": {}
        }
      ],
      "source": [
        "print(\"Architecture 1: Basic CNN (No BatchNorm, No Dropout)\")\n",
        "model1 = BasicCNN().to(device)\n",
        "optimizer1 = Adam(model1.parameters(), lr=LR)\n",
        "criterion = nn.CrossEntropyLoss()\n",
        "\n",
        "train_losses1, train_accs1, val_losses1, val_accs1, best_acc1 = train_model(\n",
        "    model1, train_loader, val_loader, NUM_EPOCHS, optimizer1, criterion, device, \"Basic_CNN\"\n",
        ")\n",
        "results[\"Basic_CNN\"] = best_acc1"
      ]
    },
    {
      "cell_type": "code",
      "source": [
        "def init_weights_kaiming(m):\n",
        "    if isinstance(m, nn.Conv2d) or isinstance(m, nn.Linear):\n",
        "        nn.init.kaiming_normal_(m.weight, mode='fan_out', nonlinearity='relu')"
      ],
      "metadata": {
        "id": "CzOIxo4Qdj14"
      },
      "execution_count": 76,
      "outputs": []
    },
    {
      "cell_type": "code",
      "source": [
        "model2 = BasicCNN().to(device)\n",
        "model2.apply(init_weights_kaiming)\n",
        "optimizer2 = Adam(model2.parameters(), lr=LR)\n",
        "criterion = nn.CrossEntropyLoss()\n",
        "\n",
        "train_losses2, train_accs2, val_losses2, val_accs2, best_acc2 = train_model(\n",
        "    model2, train_loader, val_loader, NUM_EPOCHS, optimizer2, criterion, device, \"Basic_CNN\"\n",
        ")"
      ],
      "metadata": {
        "colab": {
          "base_uri": "https://localhost:8080/",
          "height": 1000
        },
        "id": "4SgiU1bug1xb",
        "outputId": "e0e2723d-70fd-443d-e067-c86b1838e247"
      },
      "execution_count": 77,
      "outputs": [
        {
          "output_type": "display_data",
          "data": {
            "text/plain": [
              "<IPython.core.display.HTML object>"
            ],
            "text/html": [
              "Tracking run with wandb version 0.20.1"
            ]
          },
          "metadata": {}
        },
        {
          "output_type": "display_data",
          "data": {
            "text/plain": [
              "<IPython.core.display.HTML object>"
            ],
            "text/html": [
              "Run data is saved locally in <code>/content/wandb/run-20250607_175134-rh6rby9v</code>"
            ]
          },
          "metadata": {}
        },
        {
          "output_type": "display_data",
          "data": {
            "text/plain": [
              "<IPython.core.display.HTML object>"
            ],
            "text/html": [
              "Syncing run <strong><a href='https://wandb.ai/b3tameche-free-university-of-tbilisi-/Facial%20Expression%20Recognition/runs/rh6rby9v' target=\"_blank\">Basic_CNN</a></strong> to <a href='https://wandb.ai/b3tameche-free-university-of-tbilisi-/Facial%20Expression%20Recognition' target=\"_blank\">Weights & Biases</a> (<a href='https://wandb.me/developer-guide' target=\"_blank\">docs</a>)<br>"
            ]
          },
          "metadata": {}
        },
        {
          "output_type": "display_data",
          "data": {
            "text/plain": [
              "<IPython.core.display.HTML object>"
            ],
            "text/html": [
              " View project at <a href='https://wandb.ai/b3tameche-free-university-of-tbilisi-/Facial%20Expression%20Recognition' target=\"_blank\">https://wandb.ai/b3tameche-free-university-of-tbilisi-/Facial%20Expression%20Recognition</a>"
            ]
          },
          "metadata": {}
        },
        {
          "output_type": "display_data",
          "data": {
            "text/plain": [
              "<IPython.core.display.HTML object>"
            ],
            "text/html": [
              " View run at <a href='https://wandb.ai/b3tameche-free-university-of-tbilisi-/Facial%20Expression%20Recognition/runs/rh6rby9v' target=\"_blank\">https://wandb.ai/b3tameche-free-university-of-tbilisi-/Facial%20Expression%20Recognition/runs/rh6rby9v</a>"
            ]
          },
          "metadata": {}
        },
        {
          "output_type": "stream",
          "name": "stdout",
          "text": [
            "\n",
            "Epoch 1/10\n",
            "----------\n"
          ]
        },
        {
          "output_type": "stream",
          "name": "stderr",
          "text": [
            "Training: 100%|██████████| 449/449 [00:33<00:00, 13.29it/s]\n",
            "Validation: 100%|██████████| 57/57 [00:02<00:00, 21.80it/s]\n"
          ]
        },
        {
          "output_type": "stream",
          "name": "stdout",
          "text": [
            "Train Loss: 2.0640, Train Acc: 25.12%\n",
            "Val Loss: 1.7406, Val Acc: 30.45%\n",
            "\n",
            "Epoch 2/10\n",
            "----------\n"
          ]
        },
        {
          "output_type": "stream",
          "name": "stderr",
          "text": [
            "Training: 100%|██████████| 449/449 [00:32<00:00, 13.67it/s]\n",
            "Validation: 100%|██████████| 57/57 [00:03<00:00, 14.88it/s]\n"
          ]
        },
        {
          "output_type": "stream",
          "name": "stdout",
          "text": [
            "Train Loss: 1.6894, Train Acc: 32.59%\n",
            "Val Loss: 1.6271, Val Acc: 35.00%\n",
            "\n",
            "Epoch 3/10\n",
            "----------\n"
          ]
        },
        {
          "output_type": "stream",
          "name": "stderr",
          "text": [
            "Training: 100%|██████████| 449/449 [00:31<00:00, 14.35it/s]\n",
            "Validation: 100%|██████████| 57/57 [00:02<00:00, 21.35it/s]\n"
          ]
        },
        {
          "output_type": "stream",
          "name": "stdout",
          "text": [
            "Train Loss: 1.6336, Train Acc: 35.29%\n",
            "Val Loss: 1.5918, Val Acc: 37.39%\n",
            "\n",
            "Epoch 4/10\n",
            "----------\n"
          ]
        },
        {
          "output_type": "stream",
          "name": "stderr",
          "text": [
            "Training: 100%|██████████| 449/449 [00:31<00:00, 14.30it/s]\n",
            "Validation: 100%|██████████| 57/57 [00:02<00:00, 21.28it/s]\n"
          ]
        },
        {
          "output_type": "stream",
          "name": "stdout",
          "text": [
            "Train Loss: 1.6081, Train Acc: 36.56%\n",
            "Val Loss: 1.5822, Val Acc: 37.75%\n",
            "\n",
            "Epoch 5/10\n",
            "----------\n"
          ]
        },
        {
          "output_type": "stream",
          "name": "stderr",
          "text": [
            "Training: 100%|██████████| 449/449 [00:31<00:00, 14.15it/s]\n",
            "Validation: 100%|██████████| 57/57 [00:04<00:00, 13.65it/s]\n"
          ]
        },
        {
          "output_type": "stream",
          "name": "stdout",
          "text": [
            "Train Loss: 1.5855, Train Acc: 37.89%\n",
            "Val Loss: 1.5528, Val Acc: 40.32%\n",
            "\n",
            "Epoch 6/10\n",
            "----------\n"
          ]
        },
        {
          "output_type": "stream",
          "name": "stderr",
          "text": [
            "Training: 100%|██████████| 449/449 [00:31<00:00, 14.17it/s]\n",
            "Validation: 100%|██████████| 57/57 [00:02<00:00, 20.80it/s]\n"
          ]
        },
        {
          "output_type": "stream",
          "name": "stdout",
          "text": [
            "Train Loss: 1.5653, Train Acc: 38.59%\n",
            "Val Loss: 1.5406, Val Acc: 39.90%\n",
            "\n",
            "Epoch 7/10\n",
            "----------\n"
          ]
        },
        {
          "output_type": "stream",
          "name": "stderr",
          "text": [
            "Training: 100%|██████████| 449/449 [00:31<00:00, 14.15it/s]\n",
            "Validation: 100%|██████████| 57/57 [00:02<00:00, 21.39it/s]\n"
          ]
        },
        {
          "output_type": "stream",
          "name": "stdout",
          "text": [
            "Train Loss: 1.5355, Train Acc: 39.99%\n",
            "Val Loss: 1.5388, Val Acc: 39.79%\n",
            "\n",
            "Epoch 8/10\n",
            "----------\n"
          ]
        },
        {
          "output_type": "stream",
          "name": "stderr",
          "text": [
            "Training: 100%|██████████| 449/449 [00:31<00:00, 14.28it/s]\n",
            "Validation: 100%|██████████| 57/57 [00:03<00:00, 14.53it/s]\n"
          ]
        },
        {
          "output_type": "stream",
          "name": "stdout",
          "text": [
            "Train Loss: 1.5164, Train Acc: 40.99%\n",
            "Val Loss: 1.4965, Val Acc: 41.10%\n",
            "\n",
            "Epoch 9/10\n",
            "----------\n"
          ]
        },
        {
          "output_type": "stream",
          "name": "stderr",
          "text": [
            "Training: 100%|██████████| 449/449 [00:31<00:00, 14.08it/s]\n",
            "Validation: 100%|██████████| 57/57 [00:02<00:00, 21.87it/s]\n"
          ]
        },
        {
          "output_type": "stream",
          "name": "stdout",
          "text": [
            "Train Loss: 1.4945, Train Acc: 41.67%\n",
            "Val Loss: 1.4823, Val Acc: 43.05%\n",
            "\n",
            "Epoch 10/10\n",
            "----------\n"
          ]
        },
        {
          "output_type": "stream",
          "name": "stderr",
          "text": [
            "Training: 100%|██████████| 449/449 [00:31<00:00, 14.37it/s]\n",
            "Validation: 100%|██████████| 57/57 [00:02<00:00, 21.58it/s]\n"
          ]
        },
        {
          "output_type": "stream",
          "name": "stdout",
          "text": [
            "Train Loss: 1.4876, Train Acc: 42.14%\n",
            "Val Loss: 1.4814, Val Acc: 42.27%\n"
          ]
        },
        {
          "output_type": "display_data",
          "data": {
            "text/plain": [
              "<Figure size 1500x500 with 2 Axes>"
            ],
            "image/png": "[encoded data removed]"
          },
          "metadata": {}
        },
        {
          "output_type": "display_data",
          "data": {
            "text/plain": [
              "<IPython.core.display.HTML object>"
            ],
            "text/html": []
          },
          "metadata": {}
        },
        {
          "output_type": "display_data",
          "data": {
            "text/plain": [
              "<IPython.core.display.HTML object>"
            ],
            "text/html": [
              "<br>    <style><br>        .wandb-row {<br>            display: flex;<br>            flex-direction: row;<br>            flex-wrap: wrap;<br>            justify-content: flex-start;<br>            width: 100%;<br>        }<br>        .wandb-col {<br>            display: flex;<br>            flex-direction: column;<br>            flex-basis: 100%;<br>            flex: 1;<br>            padding: 10px;<br>        }<br>    </style><br><div class=\"wandb-row\"><div class=\"wandb-col\"><h3>Run history:</h3><br/><table class=\"wandb\"><tr><td>best_val_accuracy</td><td>▁</td></tr><tr><td>epoch</td><td>▁▂▃▃▄▅▆▆▇█</td></tr><tr><td>final_train_accuracy</td><td>▁</td></tr><tr><td>final_val_accuracy</td><td>▁</td></tr><tr><td>train_accuracy</td><td>▁▄▅▆▆▇▇███</td></tr><tr><td>train_loss</td><td>█▃▃▂▂▂▂▁▁▁</td></tr><tr><td>val_accuracy</td><td>▁▄▅▅▆▆▆▇██</td></tr><tr><td>val_loss</td><td>█▅▄▄▃▃▃▁▁▁</td></tr></table><br/></div><div class=\"wandb-col\"><h3>Run summary:</h3><br/><table class=\"wandb\"><tr><td>best_val_accuracy</td><td>43.0482</td></tr><tr><td>epoch</td><td>10</td></tr><tr><td>final_train_accuracy</td><td>42.13661</td></tr><tr><td>final_val_accuracy</td><td>42.26804</td></tr><tr><td>train_accuracy</td><td>42.13661</td></tr><tr><td>train_loss</td><td>1.48759</td></tr><tr><td>val_accuracy</td><td>42.26804</td></tr><tr><td>val_loss</td><td>1.48144</td></tr></table><br/></div></div>"
            ]
          },
          "metadata": {}
        },
        {
          "output_type": "display_data",
          "data": {
            "text/plain": [
              "<IPython.core.display.HTML object>"
            ],
            "text/html": [
              " View run <strong style=\"color:#cdcd00\">Basic_CNN</strong> at: <a href='https://wandb.ai/b3tameche-free-university-of-tbilisi-/Facial%20Expression%20Recognition/runs/rh6rby9v' target=\"_blank\">https://wandb.ai/b3tameche-free-university-of-tbilisi-/Facial%20Expression%20Recognition/runs/rh6rby9v</a><br> View project at: <a href='https://wandb.ai/b3tameche-free-university-of-tbilisi-/Facial%20Expression%20Recognition' target=\"_blank\">https://wandb.ai/b3tameche-free-university-of-tbilisi-/Facial%20Expression%20Recognition</a><br>Synced 5 W&B file(s), 0 media file(s), 0 artifact file(s) and 1 other file(s)"
            ]
          },
          "metadata": {}
        },
        {
          "output_type": "display_data",
          "data": {
            "text/plain": [
              "<IPython.core.display.HTML object>"
            ],
            "text/html": [
              "Find logs at: <code>./wandb/run-20250607_175134-rh6rby9v/logs</code>"
            ]
          },
          "metadata": {}
        }
      ]
    },
    {
      "cell_type": "code",
      "source": [],
      "metadata": {
        "id": "ZhpoSz4gir_b"
      },
      "execution_count": null,
      "outputs": []
    }
  ],
  "metadata": {
    "accelerator": "GPU",
    "colab": {
      "gpuType": "T4",
      "provenance": []
    },
    "kernelspec": {
      "display_name": "Python 3",
      "name": "python3"
    },
    "language_info": {
      "name": "python"
    }
  },
  "nbformat": 4,
  "nbformat_minor": 0
}