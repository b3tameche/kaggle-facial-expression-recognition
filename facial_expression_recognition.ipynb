{
  "cells": [
    {
      "cell_type": "markdown",
      "metadata": {
        "id": "zOB1myDYM4eV"
      },
      "source": [
        "# 1. Initializations and Dataset Download"
      ]
    },
    {
      "cell_type": "code",
      "execution_count": 1,
      "metadata": {
        "colab": {
          "base_uri": "https://localhost:8080/"
        },
        "id": "Fr-W57XmM4eW",
        "outputId": "59b7c792-105c-450b-e67e-39ec7ea7b8c6"
      },
      "outputs": [
        {
          "output_type": "stream",
          "name": "stdout",
          "text": [
            "\u001b[2K   \u001b[90m━━━━━━━━━━━━━━━━━━━━━━━━━━━━━━━━━━━━━━━━\u001b[0m \u001b[32m23.2/23.2 MB\u001b[0m \u001b[31m52.8 MB/s\u001b[0m eta \u001b[36m0:00:00\u001b[0m\n",
            "\u001b[2K   \u001b[90m━━━━━━━━━━━━━━━━━━━━━━━━━━━━━━━━━━━━━━━━\u001b[0m \u001b[32m17.6/17.6 MB\u001b[0m \u001b[31m66.6 MB/s\u001b[0m eta \u001b[36m0:00:00\u001b[0m\n",
            "\u001b[?25hMounted at /content/drive\n"
          ]
        }
      ],
      "source": [
        "!pip install kaggle wandb onnx -Uq\n",
        "from google.colab import drive\n",
        "drive.mount('/content/drive')"
      ]
    },
    {
      "cell_type": "code",
      "execution_count": 2,
      "metadata": {
        "id": "tn1Tr6q6M4eX"
      },
      "outputs": [],
      "source": [
        "! mkdir ~/.kaggle"
      ]
    },
    {
      "cell_type": "code",
      "execution_count": 3,
      "metadata": {
        "id": "dr3GSGhHM4eX"
      },
      "outputs": [],
      "source": [
        "!cp /content/drive/MyDrive/ML/kaggle/kaggle.json ~/.kaggle/kaggle.json"
      ]
    },
    {
      "cell_type": "code",
      "execution_count": 4,
      "metadata": {
        "id": "e0XzCxHzM4eX"
      },
      "outputs": [],
      "source": [
        "! chmod 600 ~/.kaggle/kaggle.json"
      ]
    },
    {
      "cell_type": "code",
      "execution_count": 5,
      "metadata": {
        "colab": {
          "base_uri": "https://localhost:8080/"
        },
        "id": "1DOrykZSM4eY",
        "outputId": "68cd10e5-73d9-4158-b9d6-2d7408db4916"
      },
      "outputs": [
        {
          "output_type": "stream",
          "name": "stdout",
          "text": [
            "Downloading challenges-in-representation-learning-facial-expression-recognition-challenge.zip to /content\n",
            " 83% 236M/285M [00:00<00:00, 606MB/s] \n",
            "100% 285M/285M [00:00<00:00, 649MB/s]\n"
          ]
        }
      ],
      "source": [
        "! kaggle competitions download -c challenges-in-representation-learning-facial-expression-recognition-challenge"
      ]
    },
    {
      "cell_type": "code",
      "execution_count": 6,
      "metadata": {
        "colab": {
          "base_uri": "https://localhost:8080/"
        },
        "id": "XbF23WCAM4eY",
        "outputId": "b7ff0564-d10c-4b79-b1e8-a599753857e5"
      },
      "outputs": [
        {
          "output_type": "stream",
          "name": "stdout",
          "text": [
            "Archive:  challenges-in-representation-learning-facial-expression-recognition-challenge.zip\n",
            "  inflating: facial-expression-recognition-dataset/example_submission.csv  \n",
            "  inflating: facial-expression-recognition-dataset/fer2013.tar.gz  \n",
            "  inflating: facial-expression-recognition-dataset/icml_face_data.csv  \n",
            "  inflating: facial-expression-recognition-dataset/test.csv  \n",
            "  inflating: facial-expression-recognition-dataset/train.csv  \n"
          ]
        }
      ],
      "source": [
        "! unzip challenges-in-representation-learning-facial-expression-recognition-challenge.zip -d facial-expression-recognition-dataset"
      ]
    },
    {
      "cell_type": "code",
      "source": [
        "!tar -xzvf facial-expression-recognition-dataset/fer2013.tar.gz"
      ],
      "metadata": {
        "id": "ClIOvCANUl2v",
        "outputId": "937a4bff-7476-4211-cc0c-821f03fe6633",
        "colab": {
          "base_uri": "https://localhost:8080/"
        }
      },
      "execution_count": 7,
      "outputs": [
        {
          "output_type": "stream",
          "name": "stdout",
          "text": [
            "fer2013/fer2013.csv\n",
            "fer2013/README\n",
            "fer2013/fer2013.bib\n",
            "fer2013/\n"
          ]
        }
      ]
    },
    {
      "cell_type": "markdown",
      "metadata": {
        "id": "hTBp-uigM4eY"
      },
      "source": [
        "Now I should have directory `facial-expression-recognition-dataset` containing dataset files from kaggle"
      ]
    },
    {
      "cell_type": "markdown",
      "metadata": {
        "id": "HnLmsXVzM4eZ"
      },
      "source": [
        "# 2. Imports\n",
        "Lets start by getting all our imports, keep in mind that PyTorch is not automatically detects and trains on GPU, you have to tell it to use cuda. In case you want to train on Mac Silicon replace cuda with mps."
      ]
    },
    {
      "cell_type": "code",
      "execution_count": 14,
      "metadata": {
        "colab": {
          "base_uri": "https://localhost:8080/"
        },
        "id": "H-b1wLCJM4eZ",
        "outputId": "d66f0d45-3d29-49a2-88ee-20b791dfd41e"
      },
      "outputs": [
        {
          "output_type": "stream",
          "name": "stdout",
          "text": [
            "Device available:  cuda\n"
          ]
        }
      ],
      "source": [
        "import torch # Main PyTorch Library\n",
        "import torchvision.transforms as transforms # Transform function used to modify and preprocess all the images\n",
        "import matplotlib.pyplot as plt # Used for visualizing the images and plotting the training progress\n",
        "import pandas as pd # Used to read/create dataframes (csv) and process tabular data\n",
        "import numpy as np # preprocessing and numerical/mathematical operations\n",
        "import os # Used to read the images path from the directory\n",
        "import wandb\n",
        "import seaborn as sns\n",
        "\n",
        "from torch import nn # Used for creating the layers and loss function\n",
        "from torch.optim import Adam # Adam Optimizer\n",
        "from torch.utils.data import Dataset, DataLoader # Dataset class and DataLoader for creating the objects\n",
        "from sklearn.preprocessing import LabelEncoder # Label Encoder to encode the classes from strings to numbers\n",
        "from sklearn.model_selection import train_test_split # Train/Test split\n",
        "from sklearn.metrics import confusion_matrix\n",
        "from tqdm import tqdm\n",
        "from PIL import Image # Used to read the images from the directory\n",
        "\n",
        "device = \"cuda\" if torch.cuda.is_available() else \"cpu\" # detect the GPU if any, if not use CPU, change cuda to mps if you have a mac\n",
        "print(\"Device available: \", device)"
      ]
    },
    {
      "cell_type": "markdown",
      "source": [
        "# 3. Data Exploration"
      ],
      "metadata": {
        "id": "U-aQ21lLO2ZQ"
      }
    },
    {
      "cell_type": "markdown",
      "source": [
        "### 3.1 Data Loading"
      ],
      "metadata": {
        "id": "QaMOp_-uUENH"
      }
    },
    {
      "cell_type": "code",
      "source": [
        "df = pd.read_csv('fer2013/fer2013.csv')\n",
        "\n",
        "train_df = df[df['Usage'] == 'Training']\n",
        "val_df = df[df['Usage'] == \"PublicTest\"]\n",
        "test_df = df[df['Usage'] == \"PrivateTest\"]\n",
        "\n",
        "print(f\"trainset shape: {train_df.shape}\")\n",
        "print(f\"valset shape: {val_df.shape}\")\n",
        "print(f\"testset shape: {test_df.shape}\")\n",
        "print(f\"\\nEmotion distribution in trainset:\")\n",
        "print(train_df['emotion'].value_counts().sort_values(ascending=False))\n",
        "\n",
        "emotion_labels = {0: 'Angry', 1: 'Disgust', 2: 'Fear', 3: 'Happy', 4: 'Sad', 5: 'Surprise', 6: 'Neutral'}"
      ],
      "metadata": {
        "id": "OaZ5lKjwQelQ",
        "outputId": "5485abe5-49d0-45b3-fb72-5087da6247b7",
        "colab": {
          "base_uri": "https://localhost:8080/"
        }
      },
      "execution_count": 9,
      "outputs": [
        {
          "output_type": "stream",
          "name": "stdout",
          "text": [
            "trainset shape: (28709, 3)\n",
            "valset shape: (3589, 3)\n",
            "testset shape: (3589, 3)\n",
            "\n",
            "Emotion distribution in trainset:\n",
            "emotion\n",
            "3    7215\n",
            "6    4965\n",
            "4    4830\n",
            "2    4097\n",
            "0    3995\n",
            "5    3171\n",
            "1     436\n",
            "Name: count, dtype: int64\n"
          ]
        }
      ]
    },
    {
      "cell_type": "markdown",
      "source": [
        "### 3.2 Data Inspection"
      ],
      "metadata": {
        "id": "Fga_2S-bQ5h6"
      }
    },
    {
      "cell_type": "code",
      "source": [
        "def plot_sample_images(df, num_samples=8):\n",
        "    _, axes = plt.subplots(2, 4, figsize=(8, 4))\n",
        "    axes = axes.ravel()\n",
        "\n",
        "    for i in range(num_samples):\n",
        "        # random sample\n",
        "        idx = np.random.randint(0, len(df))\n",
        "        emotion = df.iloc[idx]['emotion']\n",
        "        pixels = df.iloc[idx]['pixels']\n",
        "\n",
        "        # convert bytearray to grayscale image\n",
        "        pixel_values = np.array(pixels.split(), dtype=np.uint8)\n",
        "        image = pixel_values.reshape(48, 48)\n",
        "\n",
        "        axes[i].imshow(image, cmap='gray')\n",
        "        axes[i].set_title(f'{emotion_labels[emotion]}')\n",
        "        axes[i].axis('off')\n",
        "\n",
        "    plt.tight_layout()\n",
        "    plt.show()\n",
        "\n",
        "plot_sample_images(train_df)"
      ],
      "metadata": {
        "id": "2BzoO6znUOYR",
        "outputId": "bad32b9d-8ad0-4661-eab8-6b125193f782",
        "colab": {
          "base_uri": "https://localhost:8080/",
          "height": 409
        }
      },
      "execution_count": 10,
      "outputs": [
        {
          "output_type": "display_data",
          "data": {
            "text/plain": [
              "<Figure size 800x400 with 8 Axes>"
            ],
            "image/png": "[encoded data removed]"
          },
          "metadata": {}
        }
      ]
    },
    {
      "cell_type": "markdown",
      "source": [
        "### 3.3 Custom Dataset Class"
      ],
      "metadata": {
        "id": "Xh2dx4hAUahc"
      }
    },
    {
      "cell_type": "code",
      "source": [
        "class FERDataset(Dataset):\n",
        "    def __init__(self, dataframe, transform=None, is_test=False):\n",
        "        self.dataframe = dataframe\n",
        "        self.transform = transform\n",
        "        self.is_test = is_test\n",
        "\n",
        "    def __len__(self):\n",
        "        return self.dataframe.shape[0]\n",
        "\n",
        "    def __getitem__(self, idx):\n",
        "        pixels = self.dataframe.iloc[idx, 1]\n",
        "        pixel_values = np.array(pixels.split(), dtype=np.float32)\n",
        "        image = pixel_values.reshape(48, 48, 1) # add channel\n",
        "        image = Image.fromarray(image.squeeze(), mode='L') # convert to PIL image\n",
        "\n",
        "        if self.transform:\n",
        "            image = self.transform(image).to(device)\n",
        "\n",
        "        if not self.is_test:\n",
        "            emotion = self.dataframe.iloc[idx, 0]\n",
        "            return image, emotion\n",
        "        else:\n",
        "            return image"
      ],
      "metadata": {
        "id": "oaVJ92Z_e5cY"
      },
      "execution_count": 11,
      "outputs": []
    },
    {
      "cell_type": "markdown",
      "source": [
        "### 3.4 Data Transforms and Data Loaders"
      ],
      "metadata": {
        "id": "F3RtY1V7hAb_"
      }
    },
    {
      "cell_type": "code",
      "source": [
        "train_transform_chain = transforms.Compose([\n",
        "    transforms.RandomHorizontalFlip(p=0.5), # randomly flip horizontally, try to maintain symmetry between turned faces\n",
        "    transforms.RandomRotation(degrees=10), # randomly rotate with -10/+10 degrees, try to maintain symmetry between tilted faces\n",
        "    transforms.ToTensor(),\n",
        "    transforms.Normalize(mean=[0.5], std=[0.5])\n",
        "])\n",
        "\n",
        "val_transform_chain = transforms.Compose([\n",
        "    transforms.ToTensor(),\n",
        "    transforms.Normalize(mean=[0.5], std=[0.5])\n",
        "])\n",
        "\n",
        "# create datasets\n",
        "train_dataset = FERDataset(train_df.reset_index(drop=True), transform=train_transform_chain)\n",
        "val_dataset = FERDataset(val_df, transform=val_transform_chain, is_test=True)\n",
        "test_dataset = FERDataset(test_df, transform=val_transform_chain, is_test=True)"
      ],
      "metadata": {
        "id": "pAPT1D6CiipC"
      },
      "execution_count": 12,
      "outputs": []
    },
    {
      "cell_type": "markdown",
      "source": [
        "# 4. Training"
      ],
      "metadata": {
        "id": "v3xWR775sxT3"
      }
    },
    {
      "cell_type": "markdown",
      "source": [
        "## 4.1 Define training helpers"
      ],
      "metadata": {
        "id": "u7XyI6VohKLR"
      }
    },
    {
      "cell_type": "code",
      "source": [
        "def train_epoch(model, train_loader, optimizer, criterion, device):\n",
        "    model.train()           # set model to training mode (for BN and Dropout, to only include in training phase)\n",
        "    running_loss = 0.0      # total loss across all batches\n",
        "    correct = 0             # correct predictions\n",
        "    total = 0               # total number of images processed\n",
        "\n",
        "    # iterate through all batches in the training data loader (tqdm for progress bar to estimate time remaining)\n",
        "    for inputs, labels in tqdm(train_loader, desc=\"Training\"):\n",
        "        inputs, labels = inputs.to(device), labels.to(device) # use GPU\n",
        "\n",
        "        optimizer.zero_grad()               # clear gradients from previous batch\n",
        "        output = model(inputs)              # forward\n",
        "        loss = criterion(output, labels)    # loss\n",
        "        loss.backward()                     # backward\n",
        "        optimizer.step()                    # update model parameters\n",
        "\n",
        "        running_loss += loss.item()\n",
        "        _, predicted = torch.max(output.data, 1)        # predicted class\n",
        "        total += labels.size(0)                         # update total number of images processed\n",
        "        correct += (predicted == labels).sum().item()   # update count of correct predictions\n",
        "\n",
        "    epoch_loss = running_loss / len(train_loader)   # average loss per batch\n",
        "    epoch_acc = correct / total * 100.              # accuracy as percentage\n",
        "\n",
        "    return epoch_loss, epoch_acc\n",
        "\n",
        "def validate_epoch(model, val_loader, criterion, device):\n",
        "    model.eval()            # set model to evaluation mode (disables dropout, BN uses running info)\n",
        "    running_loss = 0.0      # total validation loss\n",
        "    correct = 0             # correct predictions\n",
        "    total = 0               # total number of validation images\n",
        "    preds = []              # predictions\n",
        "    true_labels = []        # true labels\n",
        "\n",
        "    # without gradient computation\n",
        "    with torch.no_grad():\n",
        "\n",
        "        # iterate through all batches in the validation data loader\n",
        "        for inputs, labels in tqdm(val_loader, desc=\"Validation\"):\n",
        "            inputs, labels = inputs.to(device), labels.to(device)   # use GPU\n",
        "            output = model(inputs)                                  # forward\n",
        "            loss = criterion(output, labels)                        # loss\n",
        "\n",
        "            running_loss += loss.item()\n",
        "            _, predicted = torch.max(output.data, 1)        # predicted class\n",
        "            total += labels.size(0)                         # update total number of images processed\n",
        "            correct += (predicted == labels).sum().item()   # update count of correct predictions\n",
        "\n",
        "            # numpy works with CPU\n",
        "            preds.extend(predicted.cpu().numpy())\n",
        "            true_labels.extend(labels.cpu().numpy())\n",
        "\n",
        "    epoch_loss = running_loss / len(val_loader)     # average loss per batch\n",
        "    epoch_acc = correct / total * 100.              # accuracy as percentage\n",
        "\n",
        "    return epoch_loss, epoch_acc, preds, true_labels\n",
        "\n",
        "def train_model(model, train_loader, val_loader, num_epochs, optimizer, criterion, device, model_name):\n",
        "    # initialize wandb\n",
        "    wandb.init(\n",
        "        project=\"Facial Expression Recognition\",\n",
        "        name=model_name,\n",
        "        config={\n",
        "            \"model\": model_name,\n",
        "            \"epochs\": num_epochs,\n",
        "            \"optimizer\": optimizer.__class__.__name__,\n",
        "            \"learning_rate\": optimizer.param_groups[0]['lr'],\n",
        "            \"batch_size\": train_loader.batch_size,\n",
        "        }\n",
        "    )\n",
        "\n",
        "    # watch gradients\n",
        "    wandb.watch(model, log=\"all\")\n",
        "\n",
        "    train_losses = []   # training loss per epoch\n",
        "    train_accs = []     # training accuracy per epoch\n",
        "    val_losses = []     # validation loss per epoch\n",
        "    val_accs = []       # validation accuracy per epoch\n",
        "\n",
        "    best_val_acc = 0.0\n",
        "\n",
        "    for epoch in range(num_epochs):\n",
        "        print(f'\\nEpoch {epoch+1}/{num_epochs}')\n",
        "        print('-' * 10)\n",
        "\n",
        "        # train\n",
        "        train_loss, train_acc = train_epoch(model, train_loader, optimizer, criterion, device)\n",
        "\n",
        "        # validate\n",
        "        val_loss, val_acc, val_preds, val_targets = validate_epoch(model, val_loader, criterion, device)\n",
        "\n",
        "        # store metrics for plotting\n",
        "        train_losses.append(train_loss)\n",
        "        train_accs.append(train_acc)\n",
        "        val_losses.append(val_loss)\n",
        "        val_accs.append(val_acc)\n",
        "\n",
        "        wandb.log({\n",
        "            \"epoch\": epoch + 1,\n",
        "            \"train_loss\": train_loss,\n",
        "            \"train_accuracy\": train_acc,\n",
        "            \"val_loss\": val_loss,\n",
        "            \"val_accuracy\": val_acc,\n",
        "        })\n",
        "\n",
        "        print(f'Train Loss: {train_loss:.4f}, Train Acc: {train_acc:.2f}%')\n",
        "        print(f'Val Loss: {val_loss:.4f}, Val Acc: {val_acc:.2f}%')\n",
        "\n",
        "        # save best model\n",
        "        best_val_acc = max(best_val_acc, val_acc)\n",
        "\n",
        "    # plotting\n",
        "    plt.figure(figsize=(15, 5))\n",
        "\n",
        "    # loss curves\n",
        "    plt.subplot(1, 2, 1)\n",
        "    plt.plot(train_losses, label='Train Loss')      # training loss over epochs\n",
        "    plt.plot(val_losses, label='Val Loss')          # validation loss over epochs\n",
        "    plt.title(f'{model_name} - Loss')\n",
        "    plt.xlabel('Epoch')\n",
        "    plt.ylabel('Loss')\n",
        "    plt.legend()\n",
        "\n",
        "    # accuracy curves\n",
        "    plt.subplot(1, 2, 2)\n",
        "    plt.plot(train_accs, label='Train Acc')     # training accuracy over epochs\n",
        "    plt.plot(val_accs, label='Val Acc')         # validation accuracy over epochs\n",
        "    plt.title(f'{model_name} - Accuracy')\n",
        "    plt.xlabel('Epoch')\n",
        "    plt.ylabel('Accuracy')\n",
        "    plt.legend()\n",
        "\n",
        "    plt.tight_layout()\n",
        "    plt.show()\n",
        "\n",
        "    # log final metrics to wandb\n",
        "    wandb.log({\n",
        "        \"best_val_accuracy\": best_val_acc,\n",
        "        \"final_train_accuracy\": train_accs[-1],\n",
        "        \"final_val_accuracy\": val_accs[-1],\n",
        "    })\n",
        "\n",
        "    # confusion matrix after final epoch\n",
        "    cm = confusion_matrix(val_targets, val_preds)\n",
        "    plt.figure(figsize=(8, 6))\n",
        "    sns.heatmap(cm, annot=True, fmt='d', cmap='Blues',\n",
        "                xticklabels=[emotion_labels[i] for i in range(7)],  # predicted\n",
        "                yticklabels=[emotion_labels[i] for i in range(7)])  # true\n",
        "    plt.title(f'{model_name} - Confusion Matrix')\n",
        "    plt.ylabel('True Label')\n",
        "    plt.xlabel('Predicted Label')\n",
        "    plt.show()\n",
        "\n",
        "    # log on wandb\n",
        "    wandb.log({\"confusion_matrix\": wandb.Image(plt)})\n",
        "\n",
        "    # log model\n",
        "    model.eval()\n",
        "    dummy_input = torch.randn(1, 1, 48, 48).to(device) # dummy input for exporting\n",
        "    torch.onnx.export(model, dummy_input, f\"{model_name}.onnx\")\n",
        "    wandb.save(f\"{model_name}.onnx\")\n",
        "\n",
        "    wandb.finish()\n",
        "\n",
        "    return train_losses, train_accs, val_losses, val_accs, best_val_acc"
      ],
      "metadata": {
        "id": "_emn_RNHhN3O"
      },
      "execution_count": 17,
      "outputs": []
    },
    {
      "cell_type": "code",
      "source": [
        "# hyperparameters\n",
        "BATCH_SIZE = 64\n",
        "NUM_EPOCHS = 20\n",
        "LR = 0.01\n",
        "\n",
        "# data loaders\n",
        "train_loader = DataLoader(train_dataset, batch_size=BATCH_SIZE, shuffle=True)\n",
        "val_loader = DataLoader(val_dataset, batch_size=BATCH_SIZE, shuffle=False)\n",
        "test_loader = DataLoader(test_dataset, batch_size=BATCH_SIZE, shuffle=False)\n",
        "\n",
        "# results\n",
        "results = {}"
      ],
      "metadata": {
        "id": "d0o9QujahodM"
      },
      "execution_count": 18,
      "outputs": []
    },
    {
      "cell_type": "markdown",
      "source": [
        "## 4.2 Architectures"
      ],
      "metadata": {
        "id": "KoEZdO_Hh6qQ"
      }
    },
    {
      "cell_type": "markdown",
      "source": [
        "### 4.2.1 Basic CNN (No BatchNorm, No Dropout)"
      ],
      "metadata": {
        "id": "JrMJBsc2iB1G"
      }
    },
    {
      "cell_type": "code",
      "source": [
        "# 1. conv layer 1\n",
        "#    ReLU\n",
        "#    max pooling\n",
        "\n",
        "# 2. conv layer 2\n",
        "#    ReLU\n",
        "#    max pooling\n",
        "\n",
        "# 3. conv layer 3\n",
        "#    ReLU\n",
        "#    max pooling\n",
        "\n",
        "# 4. flatten\n",
        "# 5. linear layer\n",
        "# 6. softmax\n",
        "\n",
        "class BasicCNN(nn.Module):\n",
        "    def __init__(self, num_classes=7):\n",
        "        super().__init__()\n",
        "\n",
        "        self.conv_layers = nn.Sequential(\n",
        "            # conv 1\n",
        "            nn.Conv2d(1, 32, kernel_size=3, padding=1), # 32 x 48 x 48\n",
        "            nn.ReLU(),\n",
        "            nn.MaxPool2d(2, 2), # 32 x 24 x 24\n",
        "\n",
        "            # conv 2\n",
        "            nn.Conv2d(32, 64, kernel_size=3, padding=1), # 64 x 24 x 24\n",
        "            nn.ReLU(),\n",
        "            nn.MaxPool2d(2, 2), # 64 x 12 x 12\n",
        "\n",
        "            # conv 3\n",
        "            nn.Conv2d(64, 128, kernel_size=3, padding=1), # 128 x 12 x 12\n",
        "            nn.ReLU(),\n",
        "            nn.MaxPool2d(2, 2), # 128 x 6 x 6\n",
        "        )\n",
        "\n",
        "        self.classifier = nn.Sequential(\n",
        "            nn.Flatten(),\n",
        "            nn.Linear(128 * 6 * 6, 512),\n",
        "            nn.ReLU(),\n",
        "            nn.Linear(512, num_classes)\n",
        "        )\n",
        "\n",
        "    def forward(self, x):\n",
        "        x = self.conv_layers(x)\n",
        "        x = self.classifier(x)\n",
        "        return x"
      ],
      "metadata": {
        "id": "HaFUel-ziHyl"
      },
      "execution_count": 19,
      "outputs": []
    },
    {
      "cell_type": "code",
      "source": [
        "print(\"Architecture 1: Basic CNN (No BatchNorm, No Dropout)\")\n",
        "model1 = BasicCNN().to(device)\n",
        "optimizer1 = Adam(model1.parameters(), lr=LR)\n",
        "criterion = nn.CrossEntropyLoss()\n",
        "\n",
        "train_losses1, train_accs1, val_losses1, val_accs1, best_acc1 = train_model(\n",
        "    model1, train_loader, val_loader, NUM_EPOCHS, optimizer1, criterion, device, \"Basic_CNN\"\n",
        ")\n",
        "results[\"Basic_CNN\"] = best_acc1"
      ],
      "metadata": {
        "id": "ay7g96BcidBT"
      },
      "execution_count": null,
      "outputs": []
    },
    {
      "cell_type": "code",
      "source": [],
      "metadata": {
        "id": "GFYLVPw7ii2_"
      },
      "execution_count": null,
      "outputs": []
    }
  ],
  "metadata": {
    "language_info": {
      "name": "python"
    },
    "colab": {
      "provenance": [],
      "gpuType": "T4"
    },
    "kernelspec": {
      "name": "python3",
      "display_name": "Python 3"
    },
    "accelerator": "GPU"
  },
  "nbformat": 4,
  "nbformat_minor": 0
}