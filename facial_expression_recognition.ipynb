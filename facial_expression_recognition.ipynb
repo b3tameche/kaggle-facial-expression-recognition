{
  "cells": [
    {
      "cell_type": "markdown",
      "metadata": {
        "id": "zOB1myDYM4eV"
      },
      "source": [
        "# 1. Initializations and Dataset Download"
      ]
    },
    {
      "cell_type": "code",
      "execution_count": 18,
      "metadata": {
        "colab": {
          "base_uri": "https://localhost:8080/"
        },
        "id": "Fr-W57XmM4eW",
        "outputId": "abb7fea5-d647-4651-fcd6-3bf8d06d56ea"
      },
      "outputs": [
        {
          "output_type": "stream",
          "name": "stdout",
          "text": [
            "Drive already mounted at /content/drive; to attempt to forcibly remount, call drive.mount(\"/content/drive\", force_remount=True).\n"
          ]
        }
      ],
      "source": [
        "!pip install kaggle wandb onnx -Uq\n",
        "from google.colab import drive\n",
        "drive.mount('/content/drive')"
      ]
    },
    {
      "cell_type": "code",
      "execution_count": 19,
      "metadata": {
        "id": "tn1Tr6q6M4eX",
        "colab": {
          "base_uri": "https://localhost:8080/"
        },
        "outputId": "e66274a2-0c2a-4116-b91f-9b60f0133a98"
      },
      "outputs": [
        {
          "output_type": "stream",
          "name": "stdout",
          "text": [
            "mkdir: cannot create directory ‘/root/.kaggle’: File exists\n"
          ]
        }
      ],
      "source": [
        "! mkdir ~/.kaggle"
      ]
    },
    {
      "cell_type": "code",
      "execution_count": 20,
      "metadata": {
        "id": "dr3GSGhHM4eX"
      },
      "outputs": [],
      "source": [
        "!cp /content/drive/MyDrive/ML/kaggle/kaggle.json ~/.kaggle/kaggle.json"
      ]
    },
    {
      "cell_type": "code",
      "execution_count": 21,
      "metadata": {
        "id": "e0XzCxHzM4eX"
      },
      "outputs": [],
      "source": [
        "! chmod 600 ~/.kaggle/kaggle.json"
      ]
    },
    {
      "cell_type": "code",
      "execution_count": null,
      "metadata": {
        "colab": {
          "base_uri": "https://localhost:8080/"
        },
        "id": "1DOrykZSM4eY",
        "outputId": "39432236-6f05-4af8-a00b-9c2ff5084257"
      },
      "outputs": [
        {
          "output_type": "stream",
          "name": "stdout",
          "text": [
            "Downloading challenges-in-representation-learning-facial-expression-recognition-challenge.zip to /content\n",
            " 93% 266M/285M [00:03<00:00, 53.4MB/s]\n",
            "100% 285M/285M [00:05<00:00, 54.3MB/s]\n"
          ]
        }
      ],
      "source": [
        "! kaggle competitions download -c challenges-in-representation-learning-facial-expression-recognition-challenge"
      ]
    },
    {
      "cell_type": "code",
      "execution_count": null,
      "metadata": {
        "colab": {
          "base_uri": "https://localhost:8080/"
        },
        "id": "XbF23WCAM4eY",
        "outputId": "16297079-437b-4971-83fc-922a785b6adf"
      },
      "outputs": [
        {
          "output_type": "stream",
          "name": "stdout",
          "text": [
            "Archive:  challenges-in-representation-learning-facial-expression-recognition-challenge.zip\n",
            "  inflating: facial-expression-recognition-dataset/example_submission.csv  \n",
            "  inflating: facial-expression-recognition-dataset/fer2013.tar.gz  \n",
            "  inflating: facial-expression-recognition-dataset/icml_face_data.csv  \n",
            "  inflating: facial-expression-recognition-dataset/test.csv  \n",
            "  inflating: facial-expression-recognition-dataset/train.csv  \n"
          ]
        }
      ],
      "source": [
        "! unzip challenges-in-representation-learning-facial-expression-recognition-challenge.zip -d facial-expression-recognition-dataset"
      ]
    },
    {
      "cell_type": "code",
      "execution_count": null,
      "metadata": {
        "colab": {
          "base_uri": "https://localhost:8080/"
        },
        "id": "ClIOvCANUl2v",
        "outputId": "25cc4f66-9c35-47ec-9209-fd8c154b54ff"
      },
      "outputs": [
        {
          "output_type": "stream",
          "name": "stdout",
          "text": [
            "fer2013/fer2013.csv\n",
            "fer2013/README\n",
            "fer2013/fer2013.bib\n",
            "fer2013/\n"
          ]
        }
      ],
      "source": [
        "!tar -xzvf facial-expression-recognition-dataset/fer2013.tar.gz"
      ]
    },
    {
      "cell_type": "markdown",
      "metadata": {
        "id": "hTBp-uigM4eY"
      },
      "source": [
        "Now I should have directory `facial-expression-recognition-dataset` containing dataset files from kaggle"
      ]
    },
    {
      "cell_type": "markdown",
      "metadata": {
        "id": "HnLmsXVzM4eZ"
      },
      "source": [
        "# 2. Imports\n",
        "Lets start by getting all our imports, keep in mind that PyTorch is not automatically detects and trains on GPU, you have to tell it to use cuda. In case you want to train on Mac Silicon replace cuda with mps."
      ]
    },
    {
      "cell_type": "code",
      "execution_count": 22,
      "metadata": {
        "colab": {
          "base_uri": "https://localhost:8080/"
        },
        "id": "H-b1wLCJM4eZ",
        "outputId": "e6cea5ac-b30a-4bf5-a985-3ad91e8563c8"
      },
      "outputs": [
        {
          "output_type": "stream",
          "name": "stdout",
          "text": [
            "Device available:  cuda\n"
          ]
        }
      ],
      "source": [
        "import torch # Main PyTorch Library\n",
        "import torchvision.transforms as transforms # Transform function used to modify and preprocess all the images\n",
        "import matplotlib.pyplot as plt # Used for visualizing the images and plotting the training progress\n",
        "import pandas as pd # Used to read/create dataframes (csv) and process tabular data\n",
        "import numpy as np # preprocessing and numerical/mathematical operations\n",
        "import os # Used to read the images path from the directory\n",
        "import wandb\n",
        "import seaborn as sns\n",
        "\n",
        "from torch import nn # Used for creating the layers and loss function\n",
        "from torch.optim import Adam # Adam Optimizer\n",
        "from torch.utils.data import Dataset, DataLoader # Dataset class and DataLoader for creating the objects\n",
        "from sklearn.preprocessing import LabelEncoder # Label Encoder to encode the classes from strings to numbers\n",
        "from sklearn.model_selection import train_test_split # Train/Test split\n",
        "from sklearn.metrics import confusion_matrix\n",
        "from tqdm import tqdm\n",
        "from PIL import Image # Used to read the images from the directory\n",
        "\n",
        "device = \"cuda\" if torch.cuda.is_available() else \"cpu\" # detect the GPU if any, if not use CPU, change cuda to mps if you have a mac\n",
        "print(\"Device available: \", device)"
      ]
    },
    {
      "cell_type": "markdown",
      "metadata": {
        "id": "U-aQ21lLO2ZQ"
      },
      "source": [
        "# 3. Data Exploration"
      ]
    },
    {
      "cell_type": "markdown",
      "metadata": {
        "id": "QaMOp_-uUENH"
      },
      "source": [
        "### 3.1 Data Loading"
      ]
    },
    {
      "cell_type": "code",
      "execution_count": null,
      "metadata": {
        "colab": {
          "base_uri": "https://localhost:8080/"
        },
        "id": "OaZ5lKjwQelQ",
        "outputId": "c3a329f9-7d61-447e-903d-3927727f3d9d"
      },
      "outputs": [
        {
          "output_type": "stream",
          "name": "stdout",
          "text": [
            "trainset shape: (24224, 2)\n",
            "valset shape: (8074, 2)\n",
            "testset shape: (3589, 2)\n",
            "\n",
            "Emotion distribution in trainset:\n",
            "emotion\n",
            "3    6026\n",
            "6    4187\n",
            "4    4121\n",
            "2    3466\n",
            "0    3386\n",
            "5    2667\n",
            "1     371\n",
            "Name: count, dtype: int64\n"
          ]
        }
      ],
      "source": [
        "df = pd.read_csv('fer2013/fer2013.csv')\n",
        "\n",
        "df_train_val = df[df['Usage'].isin([\"Training\", \"PublicTest\"])].drop('Usage', axis=1)\n",
        "\n",
        "train_df = df_train_val.sample(frac=0.75, random_state=42)\n",
        "val_df = df_train_val.drop(train_df.index)\n",
        "\n",
        "test_df = df[df['Usage'] == \"PrivateTest\"].drop('Usage', axis=1)\n",
        "\n",
        "print(f\"trainset shape: {train_df.shape}\")\n",
        "print(f\"valset shape: {val_df.shape}\")\n",
        "print(f\"testset shape: {test_df.shape}\")\n",
        "print(f\"\\nEmotion distribution in trainset:\")\n",
        "print(train_df['emotion'].value_counts().sort_values(ascending=False))\n",
        "\n",
        "emotion_labels = {0: 'Angry', 1: 'Disgust', 2: 'Fear', 3: 'Happy', 4: 'Sad', 5: 'Surprise', 6: 'Neutral'}"
      ]
    },
    {
      "cell_type": "markdown",
      "metadata": {
        "id": "Fga_2S-bQ5h6"
      },
      "source": [
        "### 3.2 Data Inspection"
      ]
    },
    {
      "cell_type": "code",
      "execution_count": null,
      "metadata": {
        "colab": {
          "base_uri": "https://localhost:8080/",
          "height": 409
        },
        "id": "2BzoO6znUOYR",
        "outputId": "b176f0e5-1f6f-4a3f-898f-bc1a6b0c97a8"
      },
      "outputs": [
        {
          "output_type": "display_data",
          "data": {
            "text/plain": [
              "<Figure size 800x400 with 8 Axes>"
            ],
            "image/png": "[encoded data removed]"
          },
          "metadata": {}
        }
      ],
      "source": [
        "def plot_sample_images(df, num_samples=8):\n",
        "    _, axes = plt.subplots(2, 4, figsize=(8, 4))\n",
        "    axes = axes.ravel()\n",
        "\n",
        "    for i in range(num_samples):\n",
        "        # random sample\n",
        "        idx = np.random.randint(0, len(df))\n",
        "        emotion = df.iloc[idx]['emotion']\n",
        "        pixels = df.iloc[idx]['pixels']\n",
        "\n",
        "        # convert bytearray to grayscale image\n",
        "        pixel_values = np.array(pixels.split(), dtype=np.uint8)\n",
        "        image = pixel_values.reshape(48, 48)\n",
        "\n",
        "        axes[i].imshow(image, cmap='gray')\n",
        "        axes[i].set_title(f'{emotion_labels[emotion]}')\n",
        "        axes[i].axis('off')\n",
        "\n",
        "    plt.tight_layout()\n",
        "    plt.show()\n",
        "\n",
        "plot_sample_images(train_df)"
      ]
    },
    {
      "cell_type": "markdown",
      "metadata": {
        "id": "Xh2dx4hAUahc"
      },
      "source": [
        "### 3.3 Custom Dataset Class"
      ]
    },
    {
      "cell_type": "code",
      "execution_count": null,
      "metadata": {
        "id": "oaVJ92Z_e5cY"
      },
      "outputs": [],
      "source": [
        "class FERDataset(Dataset):\n",
        "    def __init__(self, dataframe, transform=None):\n",
        "        self.dataframe = dataframe\n",
        "        self.transform = transform\n",
        "\n",
        "    def __len__(self):\n",
        "        return self.dataframe.shape[0]\n",
        "\n",
        "    def __getitem__(self, idx):\n",
        "        pixels = self.dataframe.iloc[idx]['pixels']\n",
        "        pixel_values = np.array(pixels.split(), dtype=np.uint8)\n",
        "        image = pixel_values.reshape(48, 48, 1) # add channel\n",
        "        image = Image.fromarray(image.squeeze(), mode='L') # convert to PIL image\n",
        "\n",
        "        if self.transform:\n",
        "            image = self.transform(image)\n",
        "\n",
        "        emotion = self.dataframe.iloc[idx]['emotion']\n",
        "        return image, emotion"
      ]
    },
    {
      "cell_type": "markdown",
      "metadata": {
        "id": "F3RtY1V7hAb_"
      },
      "source": [
        "### 3.4 Data Transforms and Data Loaders"
      ]
    },
    {
      "cell_type": "code",
      "execution_count": null,
      "metadata": {
        "id": "pAPT1D6CiipC"
      },
      "outputs": [],
      "source": [
        "train_transform_chain = transforms.Compose([\n",
        "    transforms.RandomHorizontalFlip(p=0.5), # randomly flip horizontally, try to maintain symmetry between turned faces\n",
        "    transforms.RandomRotation(degrees=10), # randomly rotate with -10/+10 degrees, try to maintain symmetry between tilted faces\n",
        "    transforms.ToTensor(),\n",
        "    transforms.Normalize(mean=[0.5], std=[0.5])\n",
        "])\n",
        "\n",
        "val_transform_chain = transforms.Compose([\n",
        "    transforms.ToTensor(),\n",
        "    transforms.Normalize(mean=[0.5], std=[0.5])\n",
        "])\n",
        "\n",
        "# create datasets\n",
        "train_dataset = FERDataset(train_df.reset_index(drop=True), transform=train_transform_chain)\n",
        "val_dataset = FERDataset(val_df, transform=val_transform_chain)\n",
        "test_dataset = FERDataset(test_df, transform=val_transform_chain)"
      ]
    },
    {
      "cell_type": "markdown",
      "metadata": {
        "id": "v3xWR775sxT3"
      },
      "source": [
        "# 4. Training"
      ]
    },
    {
      "cell_type": "markdown",
      "metadata": {
        "id": "u7XyI6VohKLR"
      },
      "source": [
        "## 4.1 Define training helpers"
      ]
    },
    {
      "cell_type": "code",
      "execution_count": null,
      "metadata": {
        "id": "_emn_RNHhN3O"
      },
      "outputs": [],
      "source": [
        "def train_epoch(model, train_loader, optimizer, criterion, device):\n",
        "    model.train()           # set model to training mode (for BN and Dropout, to only include in training phase)\n",
        "    running_loss = 0.0      # total loss across all batches\n",
        "    correct = 0             # correct predictions\n",
        "    total = 0               # total number of images processed\n",
        "\n",
        "    # iterate through all batches in the training data loader (tqdm for progress bar to estimate time remaining)\n",
        "    for inputs, labels in tqdm(train_loader, desc=\"Training\"):\n",
        "        inputs, labels = inputs.to(device), labels.to(device) # use GPU\n",
        "\n",
        "        optimizer.zero_grad()               # clear gradients from previous batch\n",
        "        output = model(inputs)              # forward\n",
        "        loss = criterion(output, labels)    # loss\n",
        "        loss.backward()                     # backward\n",
        "        optimizer.step()                    # update model parameters\n",
        "\n",
        "        running_loss += loss.item()\n",
        "        _, predicted = torch.max(output.data, 1)        # predicted class\n",
        "        total += labels.size(0)                         # update total number of images processed\n",
        "        correct += (predicted == labels).sum().item()   # update count of correct predictions\n",
        "\n",
        "    epoch_loss = running_loss / len(train_loader)   # average loss per batch\n",
        "    epoch_acc = correct / total * 100.              # accuracy as percentage\n",
        "\n",
        "    return epoch_loss, epoch_acc\n",
        "\n",
        "def validate_epoch(model, val_loader, criterion, device):\n",
        "    model.eval()            # set model to evaluation mode (disables dropout, BN uses running info)\n",
        "    running_loss = 0.0      # total validation loss\n",
        "    correct = 0             # correct predictions\n",
        "    total = 0               # total number of validation images\n",
        "    preds = []              # predictions\n",
        "    true_labels = []        # true labels\n",
        "\n",
        "    # without gradient computation\n",
        "    with torch.no_grad():\n",
        "\n",
        "        # iterate through all batches in the validation data loader\n",
        "        for inputs, labels in tqdm(val_loader, desc=\"Validation\"):\n",
        "            inputs, labels = inputs.to(device), labels.to(device)   # use GPU\n",
        "            output = model(inputs)                                  # forward\n",
        "            loss = criterion(output, labels)                        # loss\n",
        "\n",
        "            running_loss += loss.item()\n",
        "            _, predicted = torch.max(output.data, 1)        # predicted class\n",
        "            total += labels.size(0)                         # update total number of images processed\n",
        "            correct += (predicted == labels).sum().item()   # update count of correct predictions\n",
        "\n",
        "            # numpy works with CPU\n",
        "            preds.extend(predicted.cpu().numpy())\n",
        "            true_labels.extend(labels.cpu().numpy())\n",
        "\n",
        "    epoch_loss = running_loss / len(val_loader)     # average loss per batch\n",
        "    epoch_acc = correct / total * 100.              # accuracy as percentage\n",
        "\n",
        "    return epoch_loss, epoch_acc, preds, true_labels\n",
        "\n",
        "def train_model(model, train_loader, val_loader, num_epochs, optimizer, criterion, device, model_name):\n",
        "    # initialize wandb\n",
        "    wandb.init(\n",
        "        project=\"Facial Expression Recognition\",\n",
        "        name=model_name,\n",
        "        config={\n",
        "            \"model\": model_name,\n",
        "            \"epochs\": num_epochs,\n",
        "            \"optimizer\": optimizer.__class__.__name__,\n",
        "            \"learning_rate\": optimizer.param_groups[0]['lr'],\n",
        "            \"batch_size\": train_loader.batch_size,\n",
        "        }\n",
        "    )\n",
        "\n",
        "    # watch gradients\n",
        "    wandb.watch(model, log=\"all\")\n",
        "\n",
        "    train_losses = []   # training loss per epoch\n",
        "    train_accs = []     # training accuracy per epoch\n",
        "    val_losses = []     # validation loss per epoch\n",
        "    val_accs = []       # validation accuracy per epoch\n",
        "\n",
        "    best_val_acc = 0.0\n",
        "\n",
        "    for epoch in range(num_epochs):\n",
        "        print(f'\\nEpoch {epoch+1}/{num_epochs}')\n",
        "        print('-' * 10)\n",
        "\n",
        "        # train\n",
        "        train_loss, train_acc = train_epoch(model, train_loader, optimizer, criterion, device)\n",
        "\n",
        "        # validate\n",
        "        val_loss, val_acc, val_preds, val_targets = validate_epoch(model, val_loader, criterion, device)\n",
        "\n",
        "        # store metrics for plotting\n",
        "        train_losses.append(train_loss)\n",
        "        train_accs.append(train_acc)\n",
        "        val_losses.append(val_loss)\n",
        "        val_accs.append(val_acc)\n",
        "\n",
        "        wandb.log({\n",
        "            \"epoch\": epoch + 1,\n",
        "            \"train_loss\": train_loss,\n",
        "            \"train_accuracy\": train_acc,\n",
        "            \"val_loss\": val_loss,\n",
        "            \"val_accuracy\": val_acc,\n",
        "        })\n",
        "\n",
        "        print(f'Train Loss: {train_loss:.4f}, Train Acc: {train_acc:.2f}%')\n",
        "        print(f'Val Loss: {val_loss:.4f}, Val Acc: {val_acc:.2f}%')\n",
        "\n",
        "        # save best model\n",
        "        best_val_acc = max(best_val_acc, val_acc)\n",
        "\n",
        "    # plotting\n",
        "    plt.figure(figsize=(15, 5))\n",
        "\n",
        "    # loss curves\n",
        "    plt.subplot(1, 2, 1)\n",
        "    plt.plot(train_losses, label='Train Loss')      # training loss over epochs\n",
        "    plt.plot(val_losses, label='Val Loss')          # validation loss over epochs\n",
        "    plt.title(f'{model_name} - Loss')\n",
        "    plt.xlabel('Epoch')\n",
        "    plt.ylabel('Loss')\n",
        "    plt.legend()\n",
        "\n",
        "    # accuracy curves\n",
        "    plt.subplot(1, 2, 2)\n",
        "    plt.plot(train_accs, label='Train Acc')     # training accuracy over epochs\n",
        "    plt.plot(val_accs, label='Val Acc')         # validation accuracy over epochs\n",
        "    plt.title(f'{model_name} - Accuracy')\n",
        "    plt.xlabel('Epoch')\n",
        "    plt.ylabel('Accuracy')\n",
        "    plt.legend()\n",
        "\n",
        "    plt.tight_layout()\n",
        "    plt.show()\n",
        "\n",
        "    # log final metrics to wandb\n",
        "    wandb.log({\n",
        "        \"best_val_accuracy\": best_val_acc,\n",
        "        \"final_train_accuracy\": train_accs[-1],\n",
        "        \"final_val_accuracy\": val_accs[-1],\n",
        "    })\n",
        "\n",
        "    # log model\n",
        "    model.eval()\n",
        "    dummy_input = torch.randn(1, 1, 48, 48).to(device) # dummy input for exporting\n",
        "    torch.onnx.export(model, dummy_input, f\"{model_name}.onnx\")\n",
        "    wandb.save(f\"{model_name}.onnx\")\n",
        "\n",
        "    wandb.finish()\n",
        "\n",
        "    return train_losses, train_accs, val_losses, val_accs, best_val_acc"
      ]
    },
    {
      "cell_type": "code",
      "execution_count": null,
      "metadata": {
        "id": "d0o9QujahodM"
      },
      "outputs": [],
      "source": [
        "# hyperparameters\n",
        "BATCH_SIZE = 64\n",
        "NUM_EPOCHS = 10\n",
        "\n",
        "# data loaders\n",
        "train_loader = DataLoader(train_dataset, batch_size=BATCH_SIZE, shuffle=True)\n",
        "val_loader = DataLoader(val_dataset, batch_size=BATCH_SIZE, shuffle=False)\n",
        "test_loader = DataLoader(test_dataset, batch_size=BATCH_SIZE, shuffle=False)\n",
        "\n",
        "# results\n",
        "results = {}"
      ]
    },
    {
      "cell_type": "markdown",
      "metadata": {
        "id": "KoEZdO_Hh6qQ"
      },
      "source": [
        "## 4.2 Architectures"
      ]
    },
    {
      "cell_type": "markdown",
      "metadata": {
        "id": "JrMJBsc2iB1G"
      },
      "source": [
        "### 4.2.1 Basic CNN (No BatchNorm, No Dropout)"
      ]
    },
    {
      "cell_type": "code",
      "execution_count": null,
      "metadata": {
        "id": "HaFUel-ziHyl"
      },
      "outputs": [],
      "source": [
        "# 1. conv layer 1\n",
        "#    ReLU\n",
        "#    max pooling\n",
        "\n",
        "# 2. conv layer 2\n",
        "#    ReLU\n",
        "#    max pooling\n",
        "\n",
        "# 3. conv layer 3\n",
        "#    ReLU\n",
        "#    max pooling\n",
        "\n",
        "# 4. flatten\n",
        "# 5. linear layer\n",
        "# 6. ReLU\n",
        "# 6. linear layer\n",
        "\n",
        "class BasicCNN(nn.Module):\n",
        "    def __init__(self, num_classes=7):\n",
        "        super().__init__()\n",
        "\n",
        "        self.conv_layers = nn.Sequential(\n",
        "            # conv 1\n",
        "            nn.Conv2d(1, 32, kernel_size=3, padding=1), # 32 x 48 x 48\n",
        "            nn.ReLU(),\n",
        "            nn.MaxPool2d(2, 2), # 32 x 24 x 24\n",
        "\n",
        "            # conv 2\n",
        "            nn.Conv2d(32, 64, kernel_size=3, padding=1), # 64 x 24 x 24\n",
        "            nn.ReLU(),\n",
        "            nn.MaxPool2d(2, 2), # 64 x 12 x 12\n",
        "\n",
        "            # conv 3\n",
        "            nn.Conv2d(64, 128, kernel_size=3, padding=1), # 128 x 12 x 12\n",
        "            nn.ReLU(),\n",
        "            nn.MaxPool2d(2, 2), # 128 x 6 x 6\n",
        "        )\n",
        "\n",
        "        self.classifier = nn.Sequential(\n",
        "            nn.Flatten(),\n",
        "            nn.Linear(128 * 6 * 6, 512),\n",
        "            nn.ReLU(), # breaking linearity\n",
        "            nn.Linear(512, num_classes)\n",
        "        )\n",
        "\n",
        "    def forward(self, x):\n",
        "        x = self.conv_layers(x)\n",
        "        x = self.classifier(x)\n",
        "        return x"
      ]
    },
    {
      "cell_type": "code",
      "execution_count": null,
      "metadata": {
        "id": "ay7g96BcidBT",
        "colab": {
          "base_uri": "https://localhost:8080/",
          "height": 1000
        },
        "outputId": "c330ef0f-be9c-455d-ece1-fdcd8e470c6c"
      },
      "outputs": [
        {
          "output_type": "stream",
          "name": "stdout",
          "text": [
            "Architecture 1: Basic CNN (No BatchNorm, No Dropout)\n"
          ]
        },
        {
          "output_type": "display_data",
          "data": {
            "text/plain": [
              "<IPython.core.display.Javascript object>"
            ],
            "application/javascript": [
              "\n",
              "        window._wandbApiKey = new Promise((resolve, reject) => {\n",
              "            function loadScript(url) {\n",
              "            return new Promise(function(resolve, reject) {\n",
              "                let newScript = document.createElement(\"script\");\n",
              "                newScript.onerror = reject;\n",
              "                newScript.onload = resolve;\n",
              "                document.body.appendChild(newScript);\n",
              "                newScript.src = url;\n",
              "            });\n",
              "            }\n",
              "            loadScript(\"https://cdn.jsdelivr.net/npm/postmate/build/postmate.min.js\").then(() => {\n",
              "            const iframe = document.createElement('iframe')\n",
              "            iframe.style.cssText = \"width:0;height:0;border:none\"\n",
              "            document.body.appendChild(iframe)\n",
              "            const handshake = new Postmate({\n",
              "                container: iframe,\n",
              "                url: 'https://wandb.ai/authorize'\n",
              "            });\n",
              "            const timeout = setTimeout(() => reject(\"Couldn't auto authenticate\"), 5000)\n",
              "            handshake.then(function(child) {\n",
              "                child.on('authorize', data => {\n",
              "                    clearTimeout(timeout)\n",
              "                    resolve(data)\n",
              "                });\n",
              "            });\n",
              "            })\n",
              "        });\n",
              "    "
            ]
          },
          "metadata": {}
        },
        {
          "output_type": "stream",
          "name": "stderr",
          "text": [
            "\u001b[34m\u001b[1mwandb\u001b[0m: Logging into wandb.ai. (Learn how to deploy a W&B server locally: https://wandb.me/wandb-server)\n",
            "\u001b[34m\u001b[1mwandb\u001b[0m: You can find your API key in your browser here: https://wandb.ai/authorize?ref=models\n",
            "wandb: Paste an API key from your profile and hit enter:"
          ]
        },
        {
          "name": "stdout",
          "output_type": "stream",
          "text": [
            " ··········\n"
          ]
        },
        {
          "output_type": "stream",
          "name": "stderr",
          "text": [
            "\u001b[34m\u001b[1mwandb\u001b[0m: \u001b[33mWARNING\u001b[0m If you're specifying your api key in code, ensure this code is not shared publicly.\n",
            "\u001b[34m\u001b[1mwandb\u001b[0m: \u001b[33mWARNING\u001b[0m Consider setting the WANDB_API_KEY environment variable, or running `wandb login` from the command line.\n",
            "\u001b[34m\u001b[1mwandb\u001b[0m: No netrc file found, creating one.\n",
            "\u001b[34m\u001b[1mwandb\u001b[0m: Appending key for api.wandb.ai to your netrc file: /root/.netrc\n",
            "\u001b[34m\u001b[1mwandb\u001b[0m: Currently logged in as: \u001b[33mb3tameche\u001b[0m (\u001b[33mb3tameche-free-university-of-tbilisi-\u001b[0m) to \u001b[32mhttps://api.wandb.ai\u001b[0m. Use \u001b[1m`wandb login --relogin`\u001b[0m to force relogin\n"
          ]
        },
        {
          "output_type": "display_data",
          "data": {
            "text/plain": [
              "<IPython.core.display.HTML object>"
            ],
            "text/html": [
              "Tracking run with wandb version 0.20.1"
            ]
          },
          "metadata": {}
        },
        {
          "output_type": "display_data",
          "data": {
            "text/plain": [
              "<IPython.core.display.HTML object>"
            ],
            "text/html": [
              "Run data is saved locally in <code>/content/wandb/run-20250607_200626-ts8eqoyk</code>"
            ]
          },
          "metadata": {}
        },
        {
          "output_type": "display_data",
          "data": {
            "text/plain": [
              "<IPython.core.display.HTML object>"
            ],
            "text/html": [
              "Syncing run <strong><a href='https://wandb.ai/b3tameche-free-university-of-tbilisi-/Facial%20Expression%20Recognition/runs/ts8eqoyk' target=\"_blank\">Basic_CNN</a></strong> to <a href='https://wandb.ai/b3tameche-free-university-of-tbilisi-/Facial%20Expression%20Recognition' target=\"_blank\">Weights & Biases</a> (<a href='https://wandb.me/developer-guide' target=\"_blank\">docs</a>)<br>"
            ]
          },
          "metadata": {}
        },
        {
          "output_type": "display_data",
          "data": {
            "text/plain": [
              "<IPython.core.display.HTML object>"
            ],
            "text/html": [
              " View project at <a href='https://wandb.ai/b3tameche-free-university-of-tbilisi-/Facial%20Expression%20Recognition' target=\"_blank\">https://wandb.ai/b3tameche-free-university-of-tbilisi-/Facial%20Expression%20Recognition</a>"
            ]
          },
          "metadata": {}
        },
        {
          "output_type": "display_data",
          "data": {
            "text/plain": [
              "<IPython.core.display.HTML object>"
            ],
            "text/html": [
              " View run at <a href='https://wandb.ai/b3tameche-free-university-of-tbilisi-/Facial%20Expression%20Recognition/runs/ts8eqoyk' target=\"_blank\">https://wandb.ai/b3tameche-free-university-of-tbilisi-/Facial%20Expression%20Recognition/runs/ts8eqoyk</a>"
            ]
          },
          "metadata": {}
        },
        {
          "output_type": "stream",
          "name": "stdout",
          "text": [
            "\n",
            "Epoch 1/10\n",
            "----------\n"
          ]
        },
        {
          "output_type": "stream",
          "name": "stderr",
          "text": [
            "Training: 100%|██████████| 379/379 [00:26<00:00, 14.28it/s]\n",
            "Validation: 100%|██████████| 127/127 [00:06<00:00, 18.36it/s]\n"
          ]
        },
        {
          "output_type": "stream",
          "name": "stdout",
          "text": [
            "Train Loss: 1.7664, Train Acc: 28.08%\n",
            "Val Loss: 1.6409, Val Acc: 35.72%\n",
            "\n",
            "Epoch 2/10\n",
            "----------\n"
          ]
        },
        {
          "output_type": "stream",
          "name": "stderr",
          "text": [
            "Training: 100%|██████████| 379/379 [00:26<00:00, 14.35it/s]\n",
            "Validation: 100%|██████████| 127/127 [00:05<00:00, 21.48it/s]\n"
          ]
        },
        {
          "output_type": "stream",
          "name": "stdout",
          "text": [
            "Train Loss: 1.6160, Train Acc: 36.17%\n",
            "Val Loss: 1.5611, Val Acc: 39.01%\n",
            "\n",
            "Epoch 3/10\n",
            "----------\n"
          ]
        },
        {
          "output_type": "stream",
          "name": "stderr",
          "text": [
            "Training: 100%|██████████| 379/379 [00:26<00:00, 14.10it/s]\n",
            "Validation: 100%|██████████| 127/127 [00:05<00:00, 21.77it/s]\n"
          ]
        },
        {
          "output_type": "stream",
          "name": "stdout",
          "text": [
            "Train Loss: 1.5682, Train Acc: 38.36%\n",
            "Val Loss: 1.5058, Val Acc: 41.57%\n",
            "\n",
            "Epoch 4/10\n",
            "----------\n"
          ]
        },
        {
          "output_type": "stream",
          "name": "stderr",
          "text": [
            "Training: 100%|██████████| 379/379 [00:26<00:00, 14.22it/s]\n",
            "Validation: 100%|██████████| 127/127 [00:07<00:00, 17.13it/s]\n"
          ]
        },
        {
          "output_type": "stream",
          "name": "stdout",
          "text": [
            "Train Loss: 1.5328, Train Acc: 40.29%\n",
            "Val Loss: 1.4894, Val Acc: 42.42%\n",
            "\n",
            "Epoch 5/10\n",
            "----------\n"
          ]
        },
        {
          "output_type": "stream",
          "name": "stderr",
          "text": [
            "Training: 100%|██████████| 379/379 [00:25<00:00, 14.79it/s]\n",
            "Validation: 100%|██████████| 127/127 [00:07<00:00, 16.34it/s]\n"
          ]
        },
        {
          "output_type": "stream",
          "name": "stdout",
          "text": [
            "Train Loss: 1.5061, Train Acc: 41.22%\n",
            "Val Loss: 1.4814, Val Acc: 43.16%\n",
            "\n",
            "Epoch 6/10\n",
            "----------\n"
          ]
        },
        {
          "output_type": "stream",
          "name": "stderr",
          "text": [
            "Training: 100%|██████████| 379/379 [00:26<00:00, 14.22it/s]\n",
            "Validation: 100%|██████████| 127/127 [00:06<00:00, 19.93it/s]\n"
          ]
        },
        {
          "output_type": "stream",
          "name": "stdout",
          "text": [
            "Train Loss: 1.4841, Train Acc: 42.24%\n",
            "Val Loss: 1.4560, Val Acc: 43.51%\n",
            "\n",
            "Epoch 7/10\n",
            "----------\n"
          ]
        },
        {
          "output_type": "stream",
          "name": "stderr",
          "text": [
            "Training: 100%|██████████| 379/379 [00:26<00:00, 14.24it/s]\n",
            "Validation: 100%|██████████| 127/127 [00:05<00:00, 21.40it/s]\n"
          ]
        },
        {
          "output_type": "stream",
          "name": "stdout",
          "text": [
            "Train Loss: 1.4688, Train Acc: 42.88%\n",
            "Val Loss: 1.4467, Val Acc: 44.46%\n",
            "\n",
            "Epoch 8/10\n",
            "----------\n"
          ]
        },
        {
          "output_type": "stream",
          "name": "stderr",
          "text": [
            "Training: 100%|██████████| 379/379 [00:26<00:00, 14.16it/s]\n",
            "Validation: 100%|██████████| 127/127 [00:06<00:00, 19.05it/s]\n"
          ]
        },
        {
          "output_type": "stream",
          "name": "stdout",
          "text": [
            "Train Loss: 1.4544, Train Acc: 43.68%\n",
            "Val Loss: 1.4334, Val Acc: 44.36%\n",
            "\n",
            "Epoch 9/10\n",
            "----------\n"
          ]
        },
        {
          "output_type": "stream",
          "name": "stderr",
          "text": [
            "Training: 100%|██████████| 379/379 [00:26<00:00, 14.45it/s]\n",
            "Validation: 100%|██████████| 127/127 [00:07<00:00, 16.35it/s]\n"
          ]
        },
        {
          "output_type": "stream",
          "name": "stdout",
          "text": [
            "Train Loss: 1.4388, Train Acc: 44.35%\n",
            "Val Loss: 1.4242, Val Acc: 45.13%\n",
            "\n",
            "Epoch 10/10\n",
            "----------\n"
          ]
        },
        {
          "output_type": "stream",
          "name": "stderr",
          "text": [
            "Training: 100%|██████████| 379/379 [00:26<00:00, 14.49it/s]\n",
            "Validation: 100%|██████████| 127/127 [00:06<00:00, 18.23it/s]\n"
          ]
        },
        {
          "output_type": "stream",
          "name": "stdout",
          "text": [
            "Train Loss: 1.4306, Train Acc: 44.59%\n",
            "Val Loss: 1.4124, Val Acc: 45.88%\n"
          ]
        },
        {
          "output_type": "display_data",
          "data": {
            "text/plain": [
              "<Figure size 1500x500 with 2 Axes>"
            ],
            "image/png": "[encoded data removed]"
          },
          "metadata": {}
        },
        {
          "output_type": "display_data",
          "data": {
            "text/plain": [
              "<IPython.core.display.HTML object>"
            ],
            "text/html": []
          },
          "metadata": {}
        },
        {
          "output_type": "display_data",
          "data": {
            "text/plain": [
              "<IPython.core.display.HTML object>"
            ],
            "text/html": [
              "<br>    <style><br>        .wandb-row {<br>            display: flex;<br>            flex-direction: row;<br>            flex-wrap: wrap;<br>            justify-content: flex-start;<br>            width: 100%;<br>        }<br>        .wandb-col {<br>            display: flex;<br>            flex-direction: column;<br>            flex-basis: 100%;<br>            flex: 1;<br>            padding: 10px;<br>        }<br>    </style><br><div class=\"wandb-row\"><div class=\"wandb-col\"><h3>Run history:</h3><br/><table class=\"wandb\"><tr><td>best_val_accuracy</td><td>▁</td></tr><tr><td>epoch</td><td>▁▂▃▃▄▅▆▆▇█</td></tr><tr><td>final_train_accuracy</td><td>▁</td></tr><tr><td>final_val_accuracy</td><td>▁</td></tr><tr><td>train_accuracy</td><td>▁▄▅▆▇▇▇███</td></tr><tr><td>train_loss</td><td>█▅▄▃▃▂▂▁▁▁</td></tr><tr><td>val_accuracy</td><td>▁▃▅▆▆▆▇▇▇█</td></tr><tr><td>val_loss</td><td>█▆▄▃▃▂▂▂▁▁</td></tr></table><br/></div><div class=\"wandb-col\"><h3>Run summary:</h3><br/><table class=\"wandb\"><tr><td>best_val_accuracy</td><td>45.87565</td></tr><tr><td>epoch</td><td>10</td></tr><tr><td>final_train_accuracy</td><td>44.59214</td></tr><tr><td>final_val_accuracy</td><td>45.87565</td></tr><tr><td>train_accuracy</td><td>44.59214</td></tr><tr><td>train_loss</td><td>1.43063</td></tr><tr><td>val_accuracy</td><td>45.87565</td></tr><tr><td>val_loss</td><td>1.41236</td></tr></table><br/></div></div>"
            ]
          },
          "metadata": {}
        },
        {
          "output_type": "display_data",
          "data": {
            "text/plain": [
              "<IPython.core.display.HTML object>"
            ],
            "text/html": [
              " View run <strong style=\"color:#cdcd00\">Basic_CNN</strong> at: <a href='https://wandb.ai/b3tameche-free-university-of-tbilisi-/Facial%20Expression%20Recognition/runs/ts8eqoyk' target=\"_blank\">https://wandb.ai/b3tameche-free-university-of-tbilisi-/Facial%20Expression%20Recognition/runs/ts8eqoyk</a><br> View project at: <a href='https://wandb.ai/b3tameche-free-university-of-tbilisi-/Facial%20Expression%20Recognition' target=\"_blank\">https://wandb.ai/b3tameche-free-university-of-tbilisi-/Facial%20Expression%20Recognition</a><br>Synced 5 W&B file(s), 0 media file(s), 0 artifact file(s) and 1 other file(s)"
            ]
          },
          "metadata": {}
        },
        {
          "output_type": "display_data",
          "data": {
            "text/plain": [
              "<IPython.core.display.HTML object>"
            ],
            "text/html": [
              "Find logs at: <code>./wandb/run-20250607_200626-ts8eqoyk/logs</code>"
            ]
          },
          "metadata": {}
        }
      ],
      "source": [
        "print(\"Architecture 1: Basic CNN (No BatchNorm, No Dropout)\")\n",
        "model1 = BasicCNN().to(device)\n",
        "optimizer1 = Adam(model1.parameters(), lr=0.005)\n",
        "criterion = nn.CrossEntropyLoss()\n",
        "\n",
        "train_losses1, train_accs1, val_losses1, val_accs1, best_acc1 = train_model(\n",
        "    model1, train_loader, val_loader, NUM_EPOCHS, optimizer1, criterion, device, \"Basic_CNN\"\n",
        ")\n",
        "results[\"Basic_CNN\"] = best_acc1"
      ]
    },
    {
      "cell_type": "code",
      "source": [
        "def init_weights_kaiming(m):\n",
        "    if isinstance(m, nn.Conv2d) or isinstance(m, nn.Linear):\n",
        "        nn.init.kaiming_normal_(m.weight, mode='fan_out', nonlinearity='relu')"
      ],
      "metadata": {
        "id": "CzOIxo4Qdj14"
      },
      "execution_count": null,
      "outputs": []
    },
    {
      "cell_type": "code",
      "source": [
        "model2 = BasicCNN().to(device)\n",
        "model2.apply(init_weights_kaiming)\n",
        "optimizer2 = Adam(model2.parameters(), lr=0.005)\n",
        "criterion = nn.CrossEntropyLoss()\n",
        "\n",
        "train_losses2, train_accs2, val_losses2, val_accs2, best_acc2 = train_model(\n",
        "    model2, train_loader, val_loader, NUM_EPOCHS, optimizer2, criterion, device, \"Basic_CNN\"\n",
        ")"
      ],
      "metadata": {
        "colab": {
          "base_uri": "https://localhost:8080/",
          "height": 1000
        },
        "id": "4SgiU1bug1xb",
        "outputId": "d0b0c06c-ed6a-457c-d17e-c278f3c49929"
      },
      "execution_count": null,
      "outputs": [
        {
          "output_type": "display_data",
          "data": {
            "text/plain": [
              "<IPython.core.display.HTML object>"
            ],
            "text/html": [
              "Tracking run with wandb version 0.20.1"
            ]
          },
          "metadata": {}
        },
        {
          "output_type": "display_data",
          "data": {
            "text/plain": [
              "<IPython.core.display.HTML object>"
            ],
            "text/html": [
              "Run data is saved locally in <code>/content/wandb/run-20250607_201226-8k1hh00s</code>"
            ]
          },
          "metadata": {}
        },
        {
          "output_type": "display_data",
          "data": {
            "text/plain": [
              "<IPython.core.display.HTML object>"
            ],
            "text/html": [
              "Syncing run <strong><a href='https://wandb.ai/b3tameche-free-university-of-tbilisi-/Facial%20Expression%20Recognition/runs/8k1hh00s' target=\"_blank\">Basic_CNN</a></strong> to <a href='https://wandb.ai/b3tameche-free-university-of-tbilisi-/Facial%20Expression%20Recognition' target=\"_blank\">Weights & Biases</a> (<a href='https://wandb.me/developer-guide' target=\"_blank\">docs</a>)<br>"
            ]
          },
          "metadata": {}
        },
        {
          "output_type": "display_data",
          "data": {
            "text/plain": [
              "<IPython.core.display.HTML object>"
            ],
            "text/html": [
              " View project at <a href='https://wandb.ai/b3tameche-free-university-of-tbilisi-/Facial%20Expression%20Recognition' target=\"_blank\">https://wandb.ai/b3tameche-free-university-of-tbilisi-/Facial%20Expression%20Recognition</a>"
            ]
          },
          "metadata": {}
        },
        {
          "output_type": "display_data",
          "data": {
            "text/plain": [
              "<IPython.core.display.HTML object>"
            ],
            "text/html": [
              " View run at <a href='https://wandb.ai/b3tameche-free-university-of-tbilisi-/Facial%20Expression%20Recognition/runs/8k1hh00s' target=\"_blank\">https://wandb.ai/b3tameche-free-university-of-tbilisi-/Facial%20Expression%20Recognition/runs/8k1hh00s</a>"
            ]
          },
          "metadata": {}
        },
        {
          "output_type": "stream",
          "name": "stdout",
          "text": [
            "\n",
            "Epoch 1/10\n",
            "----------\n"
          ]
        },
        {
          "output_type": "stream",
          "name": "stderr",
          "text": [
            "Training: 100%|██████████| 379/379 [00:26<00:00, 14.04it/s]\n",
            "Validation: 100%|██████████| 127/127 [00:05<00:00, 21.45it/s]\n"
          ]
        },
        {
          "output_type": "stream",
          "name": "stdout",
          "text": [
            "Train Loss: 2.2152, Train Acc: 28.14%\n",
            "Val Loss: 1.6600, Val Acc: 34.65%\n",
            "\n",
            "Epoch 2/10\n",
            "----------\n"
          ]
        },
        {
          "output_type": "stream",
          "name": "stderr",
          "text": [
            "Training: 100%|██████████| 379/379 [00:26<00:00, 14.21it/s]\n",
            "Validation: 100%|██████████| 127/127 [00:07<00:00, 18.06it/s]\n"
          ]
        },
        {
          "output_type": "stream",
          "name": "stdout",
          "text": [
            "Train Loss: 1.6547, Train Acc: 34.05%\n",
            "Val Loss: 1.5994, Val Acc: 37.60%\n",
            "\n",
            "Epoch 3/10\n",
            "----------\n"
          ]
        },
        {
          "output_type": "stream",
          "name": "stderr",
          "text": [
            "Training: 100%|██████████| 379/379 [00:25<00:00, 14.62it/s]\n",
            "Validation: 100%|██████████| 127/127 [00:07<00:00, 16.35it/s]\n"
          ]
        },
        {
          "output_type": "stream",
          "name": "stdout",
          "text": [
            "Train Loss: 1.5939, Train Acc: 37.22%\n",
            "Val Loss: 1.5739, Val Acc: 38.87%\n",
            "\n",
            "Epoch 4/10\n",
            "----------\n"
          ]
        },
        {
          "output_type": "stream",
          "name": "stderr",
          "text": [
            "Training: 100%|██████████| 379/379 [00:26<00:00, 14.57it/s]\n",
            "Validation: 100%|██████████| 127/127 [00:06<00:00, 18.38it/s]\n"
          ]
        },
        {
          "output_type": "stream",
          "name": "stdout",
          "text": [
            "Train Loss: 1.5379, Train Acc: 40.48%\n",
            "Val Loss: 1.5163, Val Acc: 40.31%\n",
            "\n",
            "Epoch 5/10\n",
            "----------\n"
          ]
        },
        {
          "output_type": "stream",
          "name": "stderr",
          "text": [
            "Training: 100%|██████████| 379/379 [00:26<00:00, 14.13it/s]\n",
            "Validation: 100%|██████████| 127/127 [00:05<00:00, 21.45it/s]\n"
          ]
        },
        {
          "output_type": "stream",
          "name": "stdout",
          "text": [
            "Train Loss: 1.4963, Train Acc: 41.91%\n",
            "Val Loss: 1.4719, Val Acc: 43.24%\n",
            "\n",
            "Epoch 6/10\n",
            "----------\n"
          ]
        },
        {
          "output_type": "stream",
          "name": "stderr",
          "text": [
            "Training: 100%|██████████| 379/379 [00:26<00:00, 14.12it/s]\n",
            "Validation: 100%|██████████| 127/127 [00:06<00:00, 20.24it/s]\n"
          ]
        },
        {
          "output_type": "stream",
          "name": "stdout",
          "text": [
            "Train Loss: 1.4660, Train Acc: 43.06%\n",
            "Val Loss: 1.4691, Val Acc: 43.16%\n",
            "\n",
            "Epoch 7/10\n",
            "----------\n"
          ]
        },
        {
          "output_type": "stream",
          "name": "stderr",
          "text": [
            "Training: 100%|██████████| 379/379 [00:27<00:00, 14.03it/s]\n",
            "Validation: 100%|██████████| 127/127 [00:07<00:00, 15.91it/s]\n"
          ]
        },
        {
          "output_type": "stream",
          "name": "stdout",
          "text": [
            "Train Loss: 1.4333, Train Acc: 44.27%\n",
            "Val Loss: 1.4022, Val Acc: 45.37%\n",
            "\n",
            "Epoch 8/10\n",
            "----------\n"
          ]
        },
        {
          "output_type": "stream",
          "name": "stderr",
          "text": [
            "Training: 100%|██████████| 379/379 [00:25<00:00, 14.77it/s]\n",
            "Validation: 100%|██████████| 127/127 [00:07<00:00, 17.03it/s]\n"
          ]
        },
        {
          "output_type": "stream",
          "name": "stdout",
          "text": [
            "Train Loss: 1.4180, Train Acc: 45.20%\n",
            "Val Loss: 1.4328, Val Acc: 44.45%\n",
            "\n",
            "Epoch 9/10\n",
            "----------\n"
          ]
        },
        {
          "output_type": "stream",
          "name": "stderr",
          "text": [
            "Training: 100%|██████████| 379/379 [00:26<00:00, 14.13it/s]\n",
            "Validation: 100%|██████████| 127/127 [00:05<00:00, 21.46it/s]\n"
          ]
        },
        {
          "output_type": "stream",
          "name": "stdout",
          "text": [
            "Train Loss: 1.3952, Train Acc: 46.13%\n",
            "Val Loss: 1.4001, Val Acc: 46.10%\n",
            "\n",
            "Epoch 10/10\n",
            "----------\n"
          ]
        },
        {
          "output_type": "stream",
          "name": "stderr",
          "text": [
            "Training: 100%|██████████| 379/379 [00:26<00:00, 14.12it/s]\n",
            "Validation: 100%|██████████| 127/127 [00:06<00:00, 20.89it/s]\n"
          ]
        },
        {
          "output_type": "stream",
          "name": "stdout",
          "text": [
            "Train Loss: 1.3808, Train Acc: 46.72%\n",
            "Val Loss: 1.3877, Val Acc: 45.80%\n"
          ]
        },
        {
          "output_type": "display_data",
          "data": {
            "text/plain": [
              "<Figure size 1500x500 with 2 Axes>"
            ],
            "image/png": "[encoded data removed]"
          },
          "metadata": {}
        },
        {
          "output_type": "display_data",
          "data": {
            "text/plain": [
              "<IPython.core.display.HTML object>"
            ],
            "text/html": []
          },
          "metadata": {}
        },
        {
          "output_type": "display_data",
          "data": {
            "text/plain": [
              "<IPython.core.display.HTML object>"
            ],
            "text/html": [
              "<br>    <style><br>        .wandb-row {<br>            display: flex;<br>            flex-direction: row;<br>            flex-wrap: wrap;<br>            justify-content: flex-start;<br>            width: 100%;<br>        }<br>        .wandb-col {<br>            display: flex;<br>            flex-direction: column;<br>            flex-basis: 100%;<br>            flex: 1;<br>            padding: 10px;<br>        }<br>    </style><br><div class=\"wandb-row\"><div class=\"wandb-col\"><h3>Run history:</h3><br/><table class=\"wandb\"><tr><td>best_val_accuracy</td><td>▁</td></tr><tr><td>epoch</td><td>▁▂▃▃▄▅▆▆▇█</td></tr><tr><td>final_train_accuracy</td><td>▁</td></tr><tr><td>final_val_accuracy</td><td>▁</td></tr><tr><td>train_accuracy</td><td>▁▃▄▆▆▇▇▇██</td></tr><tr><td>train_loss</td><td>█▃▃▂▂▂▁▁▁▁</td></tr><tr><td>val_accuracy</td><td>▁▃▄▄▆▆█▇██</td></tr><tr><td>val_loss</td><td>█▆▆▄▃▃▁▂▁▁</td></tr></table><br/></div><div class=\"wandb-col\"><h3>Run summary:</h3><br/><table class=\"wandb\"><tr><td>best_val_accuracy</td><td>46.09859</td></tr><tr><td>epoch</td><td>10</td></tr><tr><td>final_train_accuracy</td><td>46.71813</td></tr><tr><td>final_val_accuracy</td><td>45.80134</td></tr><tr><td>train_accuracy</td><td>46.71813</td></tr><tr><td>train_loss</td><td>1.38078</td></tr><tr><td>val_accuracy</td><td>45.80134</td></tr><tr><td>val_loss</td><td>1.38768</td></tr></table><br/></div></div>"
            ]
          },
          "metadata": {}
        },
        {
          "output_type": "display_data",
          "data": {
            "text/plain": [
              "<IPython.core.display.HTML object>"
            ],
            "text/html": [
              " View run <strong style=\"color:#cdcd00\">Basic_CNN</strong> at: <a href='https://wandb.ai/b3tameche-free-university-of-tbilisi-/Facial%20Expression%20Recognition/runs/8k1hh00s' target=\"_blank\">https://wandb.ai/b3tameche-free-university-of-tbilisi-/Facial%20Expression%20Recognition/runs/8k1hh00s</a><br> View project at: <a href='https://wandb.ai/b3tameche-free-university-of-tbilisi-/Facial%20Expression%20Recognition' target=\"_blank\">https://wandb.ai/b3tameche-free-university-of-tbilisi-/Facial%20Expression%20Recognition</a><br>Synced 5 W&B file(s), 0 media file(s), 0 artifact file(s) and 1 other file(s)"
            ]
          },
          "metadata": {}
        },
        {
          "output_type": "display_data",
          "data": {
            "text/plain": [
              "<IPython.core.display.HTML object>"
            ],
            "text/html": [
              "Find logs at: <code>./wandb/run-20250607_201226-8k1hh00s/logs</code>"
            ]
          },
          "metadata": {}
        }
      ]
    },
    {
      "cell_type": "markdown",
      "source": [
        "### 4.2.2 CNN with BatchNorm"
      ],
      "metadata": {
        "id": "ZhpoSz4gir_b"
      }
    },
    {
      "cell_type": "code",
      "source": [
        "# 1. conv layer 1\n",
        "#    BN\n",
        "#    ReLU\n",
        "#    max pooling\n",
        "\n",
        "# 2. conv layer 2\n",
        "#    BN\n",
        "#    ReLU\n",
        "#    max pooling\n",
        "\n",
        "# 3. conv layer 3\n",
        "#    BN\n",
        "#    ReLU\n",
        "#    max pooling\n",
        "\n",
        "# 4. flatten\n",
        "# 5. linear layer\n",
        "# 6. BN\n",
        "# 7. ReLU\n",
        "# 8. linear layer\n",
        "\n",
        "class CNNWithBatchNorm(nn.Module):\n",
        "    def __init__(self, num_classes=7):\n",
        "        super().__init__()\n",
        "\n",
        "        self.features = nn.Sequential(\n",
        "            # conv 1\n",
        "            nn.Conv2d(1, 32, kernel_size=3, padding=1), # 32 x 48 x 48\n",
        "            nn.BatchNorm2d(32),\n",
        "            nn.ReLU(),\n",
        "            nn.MaxPool2d(2, 2), # 32 x 24 x 24\n",
        "\n",
        "            # conv 2\n",
        "            nn.Conv2d(32, 64, kernel_size=3, padding=1), # 64 x 24 x 24\n",
        "            nn.BatchNorm2d(64),\n",
        "            nn.ReLU(),\n",
        "            nn.MaxPool2d(2, 2), # 64 x 12 x 12\n",
        "\n",
        "            # conv 3\n",
        "            nn.Conv2d(64, 128, kernel_size=3, padding=1), # 128 x 12 x 12\n",
        "            nn.BatchNorm2d(128),\n",
        "            nn.ReLU(),\n",
        "            nn.MaxPool2d(2, 2), # 128 x 6 x 6\n",
        "        )\n",
        "\n",
        "        self.classifier = nn.Sequential(\n",
        "            nn.Flatten(),\n",
        "            nn.Linear(128 * 6 * 6, 512),\n",
        "            nn.BatchNorm1d(512),\n",
        "            nn.ReLU(),\n",
        "            nn.Linear(512, num_classes)\n",
        "        )\n",
        "\n",
        "    def forward(self, x):\n",
        "        x = self.features(x)\n",
        "        x = self.classifier(x)\n",
        "        return x"
      ],
      "metadata": {
        "id": "VorvhNFXjFSb"
      },
      "execution_count": null,
      "outputs": []
    },
    {
      "cell_type": "code",
      "source": [
        "print(\"Architecture 2: CNN with Batch Normalization\")\n",
        "model3 = CNNWithBatchNorm().to(device)\n",
        "model3.apply(init_weights_kaiming)\n",
        "optimizer3 = Adam(model3.parameters(), lr=0.01)\n",
        "\n",
        "train_losses3, train_accs3, val_losses3, val_accs3, best_acc3 = train_model(\n",
        "    model3, train_loader, val_loader, NUM_EPOCHS, optimizer3, criterion, device, \"CNN_BatchNorm\"\n",
        ")\n",
        "results[\"CNN_BatchNorm\"] = best_acc3"
      ],
      "metadata": {
        "colab": {
          "base_uri": "https://localhost:8080/",
          "height": 1000
        },
        "id": "FFHpPQlbo3ze",
        "outputId": "27f78ee4-28c9-4997-e78d-129c3575abe0"
      },
      "execution_count": null,
      "outputs": [
        {
          "output_type": "stream",
          "name": "stdout",
          "text": [
            "Architecture 2: CNN with Batch Normalization\n"
          ]
        },
        {
          "output_type": "display_data",
          "data": {
            "text/plain": [
              "<IPython.core.display.HTML object>"
            ],
            "text/html": [
              "Finishing previous runs because reinit is set to 'default'."
            ]
          },
          "metadata": {}
        },
        {
          "output_type": "display_data",
          "data": {
            "text/plain": [
              "<IPython.core.display.HTML object>"
            ],
            "text/html": []
          },
          "metadata": {}
        },
        {
          "output_type": "display_data",
          "data": {
            "text/plain": [
              "<IPython.core.display.HTML object>"
            ],
            "text/html": [
              "<br>    <style><br>        .wandb-row {<br>            display: flex;<br>            flex-direction: row;<br>            flex-wrap: wrap;<br>            justify-content: flex-start;<br>            width: 100%;<br>        }<br>        .wandb-col {<br>            display: flex;<br>            flex-direction: column;<br>            flex-basis: 100%;<br>            flex: 1;<br>            padding: 10px;<br>        }<br>    </style><br><div class=\"wandb-row\"><div class=\"wandb-col\"><h3>Run history:</h3><br/><table class=\"wandb\"><tr><td>epoch</td><td>▁▅█</td></tr><tr><td>train_accuracy</td><td>▁▅█</td></tr><tr><td>train_loss</td><td>█▂▁</td></tr><tr><td>val_accuracy</td><td>▁▆█</td></tr><tr><td>val_loss</td><td>█▄▁</td></tr></table><br/></div><div class=\"wandb-col\"><h3>Run summary:</h3><br/><table class=\"wandb\"><tr><td>epoch</td><td>3</td></tr><tr><td>train_accuracy</td><td>40.59197</td></tr><tr><td>train_loss</td><td>1.52755</td></tr><tr><td>val_accuracy</td><td>43.52242</td></tr><tr><td>val_loss</td><td>1.47259</td></tr></table><br/></div></div>"
            ]
          },
          "metadata": {}
        },
        {
          "output_type": "display_data",
          "data": {
            "text/plain": [
              "<IPython.core.display.HTML object>"
            ],
            "text/html": [
              " View run <strong style=\"color:#cdcd00\">Basic_CNN</strong> at: <a href='https://wandb.ai/b3tameche-free-university-of-tbilisi-/Facial%20Expression%20Recognition/runs/vtsqd3cn' target=\"_blank\">https://wandb.ai/b3tameche-free-university-of-tbilisi-/Facial%20Expression%20Recognition/runs/vtsqd3cn</a><br> View project at: <a href='https://wandb.ai/b3tameche-free-university-of-tbilisi-/Facial%20Expression%20Recognition' target=\"_blank\">https://wandb.ai/b3tameche-free-university-of-tbilisi-/Facial%20Expression%20Recognition</a><br>Synced 5 W&B file(s), 0 media file(s), 0 artifact file(s) and 0 other file(s)"
            ]
          },
          "metadata": {}
        },
        {
          "output_type": "display_data",
          "data": {
            "text/plain": [
              "<IPython.core.display.HTML object>"
            ],
            "text/html": [
              "Find logs at: <code>./wandb/run-20250607_202612-vtsqd3cn/logs</code>"
            ]
          },
          "metadata": {}
        },
        {
          "output_type": "display_data",
          "data": {
            "text/plain": [
              "<IPython.core.display.HTML object>"
            ],
            "text/html": [
              "Tracking run with wandb version 0.20.1"
            ]
          },
          "metadata": {}
        },
        {
          "output_type": "display_data",
          "data": {
            "text/plain": [
              "<IPython.core.display.HTML object>"
            ],
            "text/html": [
              "Run data is saved locally in <code>/content/wandb/run-20250607_204735-b26tv2zh</code>"
            ]
          },
          "metadata": {}
        },
        {
          "output_type": "display_data",
          "data": {
            "text/plain": [
              "<IPython.core.display.HTML object>"
            ],
            "text/html": [
              "Syncing run <strong><a href='https://wandb.ai/b3tameche-free-university-of-tbilisi-/Facial%20Expression%20Recognition/runs/b26tv2zh' target=\"_blank\">CNN_BatchNorm</a></strong> to <a href='https://wandb.ai/b3tameche-free-university-of-tbilisi-/Facial%20Expression%20Recognition' target=\"_blank\">Weights & Biases</a> (<a href='https://wandb.me/developer-guide' target=\"_blank\">docs</a>)<br>"
            ]
          },
          "metadata": {}
        },
        {
          "output_type": "display_data",
          "data": {
            "text/plain": [
              "<IPython.core.display.HTML object>"
            ],
            "text/html": [
              " View project at <a href='https://wandb.ai/b3tameche-free-university-of-tbilisi-/Facial%20Expression%20Recognition' target=\"_blank\">https://wandb.ai/b3tameche-free-university-of-tbilisi-/Facial%20Expression%20Recognition</a>"
            ]
          },
          "metadata": {}
        },
        {
          "output_type": "display_data",
          "data": {
            "text/plain": [
              "<IPython.core.display.HTML object>"
            ],
            "text/html": [
              " View run at <a href='https://wandb.ai/b3tameche-free-university-of-tbilisi-/Facial%20Expression%20Recognition/runs/b26tv2zh' target=\"_blank\">https://wandb.ai/b3tameche-free-university-of-tbilisi-/Facial%20Expression%20Recognition/runs/b26tv2zh</a>"
            ]
          },
          "metadata": {}
        },
        {
          "output_type": "stream",
          "name": "stdout",
          "text": [
            "\n",
            "Epoch 1/10\n",
            "----------\n"
          ]
        },
        {
          "output_type": "stream",
          "name": "stderr",
          "text": [
            "Training: 100%|██████████| 379/379 [00:24<00:00, 15.78it/s]\n",
            "Validation: 100%|██████████| 127/127 [00:05<00:00, 21.34it/s]\n"
          ]
        },
        {
          "output_type": "stream",
          "name": "stdout",
          "text": [
            "Train Loss: 2.7896, Train Acc: 30.45%\n",
            "Val Loss: 2.0123, Val Acc: 36.20%\n",
            "\n",
            "Epoch 2/10\n",
            "----------\n"
          ]
        },
        {
          "output_type": "stream",
          "name": "stderr",
          "text": [
            "Training: 100%|██████████| 379/379 [00:23<00:00, 15.90it/s]\n",
            "Validation: 100%|██████████| 127/127 [00:06<00:00, 20.85it/s]\n"
          ]
        },
        {
          "output_type": "stream",
          "name": "stdout",
          "text": [
            "Train Loss: 1.6480, Train Acc: 42.16%\n",
            "Val Loss: 1.4946, Val Acc: 44.29%\n",
            "\n",
            "Epoch 3/10\n",
            "----------\n"
          ]
        },
        {
          "output_type": "stream",
          "name": "stderr",
          "text": [
            "Training: 100%|██████████| 379/379 [00:23<00:00, 15.98it/s]\n",
            "Validation: 100%|██████████| 127/127 [00:05<00:00, 21.40it/s]\n"
          ]
        },
        {
          "output_type": "stream",
          "name": "stdout",
          "text": [
            "Train Loss: 1.4764, Train Acc: 47.48%\n",
            "Val Loss: 1.5142, Val Acc: 45.32%\n",
            "\n",
            "Epoch 4/10\n",
            "----------\n"
          ]
        },
        {
          "output_type": "stream",
          "name": "stderr",
          "text": [
            "Training: 100%|██████████| 379/379 [00:23<00:00, 16.07it/s]\n",
            "Validation: 100%|██████████| 127/127 [00:06<00:00, 20.81it/s]\n"
          ]
        },
        {
          "output_type": "stream",
          "name": "stdout",
          "text": [
            "Train Loss: 1.3325, Train Acc: 51.61%\n",
            "Val Loss: 1.3815, Val Acc: 50.11%\n",
            "\n",
            "Epoch 5/10\n",
            "----------\n"
          ]
        },
        {
          "output_type": "stream",
          "name": "stderr",
          "text": [
            "Training: 100%|██████████| 379/379 [00:23<00:00, 16.27it/s]\n",
            "Validation: 100%|██████████| 127/127 [00:05<00:00, 21.88it/s]\n"
          ]
        },
        {
          "output_type": "stream",
          "name": "stdout",
          "text": [
            "Train Loss: 1.2055, Train Acc: 57.11%\n",
            "Val Loss: 1.3511, Val Acc: 52.04%\n",
            "\n",
            "Epoch 6/10\n",
            "----------\n"
          ]
        },
        {
          "output_type": "stream",
          "name": "stderr",
          "text": [
            "Training: 100%|██████████| 379/379 [00:23<00:00, 16.22it/s]\n",
            "Validation: 100%|██████████| 127/127 [00:05<00:00, 21.57it/s]\n"
          ]
        },
        {
          "output_type": "stream",
          "name": "stdout",
          "text": [
            "Train Loss: 1.0733, Train Acc: 61.50%\n",
            "Val Loss: 1.3797, Val Acc: 52.91%\n",
            "\n",
            "Epoch 7/10\n",
            "----------\n"
          ]
        },
        {
          "output_type": "stream",
          "name": "stderr",
          "text": [
            "Training: 100%|██████████| 379/379 [00:23<00:00, 16.41it/s]\n",
            "Validation: 100%|██████████| 127/127 [00:05<00:00, 22.10it/s]\n"
          ]
        },
        {
          "output_type": "stream",
          "name": "stdout",
          "text": [
            "Train Loss: 0.9315, Train Acc: 66.42%\n",
            "Val Loss: 1.3706, Val Acc: 53.00%\n",
            "\n",
            "Epoch 8/10\n",
            "----------\n"
          ]
        },
        {
          "output_type": "stream",
          "name": "stderr",
          "text": [
            "Training: 100%|██████████| 379/379 [00:23<00:00, 16.41it/s]\n",
            "Validation: 100%|██████████| 127/127 [00:05<00:00, 21.89it/s]\n"
          ]
        },
        {
          "output_type": "stream",
          "name": "stdout",
          "text": [
            "Train Loss: 0.7949, Train Acc: 71.76%\n",
            "Val Loss: 1.3827, Val Acc: 53.42%\n",
            "\n",
            "Epoch 9/10\n",
            "----------\n"
          ]
        },
        {
          "output_type": "stream",
          "name": "stderr",
          "text": [
            "Training: 100%|██████████| 379/379 [00:23<00:00, 16.40it/s]\n",
            "Validation: 100%|██████████| 127/127 [00:05<00:00, 21.61it/s]\n"
          ]
        },
        {
          "output_type": "stream",
          "name": "stdout",
          "text": [
            "Train Loss: 0.6168, Train Acc: 78.08%\n",
            "Val Loss: 1.4897, Val Acc: 52.79%\n",
            "\n",
            "Epoch 10/10\n",
            "----------\n"
          ]
        },
        {
          "output_type": "stream",
          "name": "stderr",
          "text": [
            "Training: 100%|██████████| 379/379 [00:22<00:00, 16.59it/s]\n",
            "Validation: 100%|██████████| 127/127 [00:06<00:00, 19.80it/s]\n"
          ]
        },
        {
          "output_type": "stream",
          "name": "stdout",
          "text": [
            "Train Loss: 0.4730, Train Acc: 83.42%\n",
            "Val Loss: 1.5831, Val Acc: 56.22%\n"
          ]
        },
        {
          "output_type": "display_data",
          "data": {
            "text/plain": [
              "<Figure size 1500x500 with 2 Axes>"
            ],
            "image/png": "[encoded data removed]"
          },
          "metadata": {}
        },
        {
          "output_type": "display_data",
          "data": {
            "text/plain": [
              "<IPython.core.display.HTML object>"
            ],
            "text/html": []
          },
          "metadata": {}
        },
        {
          "output_type": "display_data",
          "data": {
            "text/plain": [
              "<IPython.core.display.HTML object>"
            ],
            "text/html": [
              "<br>    <style><br>        .wandb-row {<br>            display: flex;<br>            flex-direction: row;<br>            flex-wrap: wrap;<br>            justify-content: flex-start;<br>            width: 100%;<br>        }<br>        .wandb-col {<br>            display: flex;<br>            flex-direction: column;<br>            flex-basis: 100%;<br>            flex: 1;<br>            padding: 10px;<br>        }<br>    </style><br><div class=\"wandb-row\"><div class=\"wandb-col\"><h3>Run history:</h3><br/><table class=\"wandb\"><tr><td>best_val_accuracy</td><td>▁</td></tr><tr><td>epoch</td><td>▁▂▃▃▄▅▆▆▇█</td></tr><tr><td>final_train_accuracy</td><td>▁</td></tr><tr><td>final_val_accuracy</td><td>▁</td></tr><tr><td>train_accuracy</td><td>▁▃▃▄▅▅▆▆▇█</td></tr><tr><td>train_loss</td><td>█▅▄▄▃▃▂▂▁▁</td></tr><tr><td>val_accuracy</td><td>▁▄▄▆▇▇▇▇▇█</td></tr><tr><td>val_loss</td><td>█▃▃▁▁▁▁▁▂▃</td></tr></table><br/></div><div class=\"wandb-col\"><h3>Run summary:</h3><br/><table class=\"wandb\"><tr><td>best_val_accuracy</td><td>56.21749</td></tr><tr><td>epoch</td><td>10</td></tr><tr><td>final_train_accuracy</td><td>83.4214</td></tr><tr><td>final_val_accuracy</td><td>56.21749</td></tr><tr><td>train_accuracy</td><td>83.4214</td></tr><tr><td>train_loss</td><td>0.47297</td></tr><tr><td>val_accuracy</td><td>56.21749</td></tr><tr><td>val_loss</td><td>1.5831</td></tr></table><br/></div></div>"
            ]
          },
          "metadata": {}
        },
        {
          "output_type": "display_data",
          "data": {
            "text/plain": [
              "<IPython.core.display.HTML object>"
            ],
            "text/html": [
              " View run <strong style=\"color:#cdcd00\">CNN_BatchNorm</strong> at: <a href='https://wandb.ai/b3tameche-free-university-of-tbilisi-/Facial%20Expression%20Recognition/runs/b26tv2zh' target=\"_blank\">https://wandb.ai/b3tameche-free-university-of-tbilisi-/Facial%20Expression%20Recognition/runs/b26tv2zh</a><br> View project at: <a href='https://wandb.ai/b3tameche-free-university-of-tbilisi-/Facial%20Expression%20Recognition' target=\"_blank\">https://wandb.ai/b3tameche-free-university-of-tbilisi-/Facial%20Expression%20Recognition</a><br>Synced 5 W&B file(s), 0 media file(s), 0 artifact file(s) and 1 other file(s)"
            ]
          },
          "metadata": {}
        },
        {
          "output_type": "display_data",
          "data": {
            "text/plain": [
              "<IPython.core.display.HTML object>"
            ],
            "text/html": [
              "Find logs at: <code>./wandb/run-20250607_204735-b26tv2zh/logs</code>"
            ]
          },
          "metadata": {}
        }
      ]
    },
    {
      "cell_type": "markdown",
      "source": [
        "### 4.2.3 CNN with Batchnorm and Dropout"
      ],
      "metadata": {
        "id": "jLdxVDTTpTfW"
      }
    },
    {
      "cell_type": "code",
      "source": [
        "# 1. conv layer 1\n",
        "#    BN\n",
        "#    ReLU\n",
        "#    max pooling\n",
        "#    dropout\n",
        "\n",
        "# 2. conv layer 2\n",
        "#    BN\n",
        "#    ReLU\n",
        "#    max pooling\n",
        "#    dropout\n",
        "\n",
        "# 3. conv layer 3\n",
        "#    BN\n",
        "#    ReLU\n",
        "#    max pooling\n",
        "#    dropout\n",
        "\n",
        "# 4. flatten\n",
        "# 5. linear layer\n",
        "# 6. BN\n",
        "# 7. ReLU\n",
        "# 8. dropout\n",
        "# 9. linear layer\n",
        "\n",
        "class CNNWithBatchNormDropout(nn.Module):\n",
        "    def __init__(self, num_classes=7, dropout_rate=0.5):\n",
        "        super().__init__()\n",
        "\n",
        "        self.features = nn.Sequential(\n",
        "            # conv 1\n",
        "            nn.Conv2d(1, 32, kernel_size=3, padding=1),\n",
        "            nn.BatchNorm2d(32),\n",
        "            nn.ReLU(),\n",
        "            nn.MaxPool2d(2, 2),\n",
        "            nn.Dropout2d(0.25),\n",
        "\n",
        "            # conv 2\n",
        "            nn.Conv2d(32, 64, kernel_size=3, padding=1),\n",
        "            nn.BatchNorm2d(64),\n",
        "            nn.ReLU(),\n",
        "            nn.MaxPool2d(2, 2),\n",
        "            nn.Dropout2d(0.25),\n",
        "\n",
        "            # conv 3\n",
        "            nn.Conv2d(64, 128, kernel_size=3, padding=1),\n",
        "            nn.BatchNorm2d(128),\n",
        "            nn.ReLU(),\n",
        "            nn.MaxPool2d(2, 2),\n",
        "            nn.Dropout2d(0.25),\n",
        "        )\n",
        "\n",
        "        self.classifier = nn.Sequential(\n",
        "            nn.Flatten(),\n",
        "            nn.Linear(128 * 6 * 6, 512),\n",
        "            nn.BatchNorm1d(512),\n",
        "            nn.ReLU(),\n",
        "            nn.Dropout(dropout_rate),\n",
        "            nn.Linear(512, num_classes)\n",
        "        )\n",
        "\n",
        "    def forward(self, x):\n",
        "        x = self.features(x)\n",
        "        x = self.classifier(x)\n",
        "        return x"
      ],
      "metadata": {
        "id": "9a7zmD731klS"
      },
      "execution_count": null,
      "outputs": []
    },
    {
      "cell_type": "code",
      "source": [
        "print(\"Architecture 4: CNN with BatchNorm and Dropout\")\n",
        "model4 = CNNWithBatchNormDropout().to(device)\n",
        "optimizer4 = Adam(model4.parameters(), lr=0.01)\n",
        "\n",
        "train_losses4, train_accs4, val_losses4, val_accs4, best_acc4 = train_model(\n",
        "    model4, train_loader, val_loader, NUM_EPOCHS, optimizer4, criterion, device, \"CNN_BatchNorm_Dropout\"\n",
        ")\n",
        "results[\"CNN_BatchNorm_Dropout\"] = best_acc4"
      ],
      "metadata": {
        "colab": {
          "base_uri": "https://localhost:8080/",
          "height": 1000
        },
        "id": "OlABaPUt2sdc",
        "outputId": "0d627d11-c180-485f-98ba-1f314c363de8"
      },
      "execution_count": null,
      "outputs": [
        {
          "output_type": "stream",
          "name": "stdout",
          "text": [
            "Architecture 4: CNN with BatchNorm and Dropout\n"
          ]
        },
        {
          "output_type": "display_data",
          "data": {
            "text/plain": [
              "<IPython.core.display.HTML object>"
            ],
            "text/html": [
              "Changes to your `wandb` environment variables will be ignored because your `wandb` session has already started. For more information on how to modify your settings with `wandb.init()` arguments, please refer to <a href='https://wandb.me/wandb-init' target=\"_blank\">the W&B docs</a>."
            ]
          },
          "metadata": {}
        },
        {
          "output_type": "display_data",
          "data": {
            "text/plain": [
              "<IPython.core.display.HTML object>"
            ],
            "text/html": [
              "Finishing previous runs because reinit is set to 'default'."
            ]
          },
          "metadata": {}
        },
        {
          "output_type": "display_data",
          "data": {
            "text/plain": [
              "<IPython.core.display.HTML object>"
            ],
            "text/html": []
          },
          "metadata": {}
        },
        {
          "output_type": "display_data",
          "data": {
            "text/plain": [
              "<IPython.core.display.HTML object>"
            ],
            "text/html": [
              " View run <strong style=\"color:#cdcd00\">comfy-dragon-2</strong> at: <a href='https://wandb.ai/b3tameche-free-university-of-tbilisi-/uncategorized/runs/v5tk2jvf' target=\"_blank\">https://wandb.ai/b3tameche-free-university-of-tbilisi-/uncategorized/runs/v5tk2jvf</a><br> View project at: <a href='https://wandb.ai/b3tameche-free-university-of-tbilisi-/uncategorized' target=\"_blank\">https://wandb.ai/b3tameche-free-university-of-tbilisi-/uncategorized</a><br>Synced 5 W&B file(s), 0 media file(s), 0 artifact file(s) and 0 other file(s)"
            ]
          },
          "metadata": {}
        },
        {
          "output_type": "display_data",
          "data": {
            "text/plain": [
              "<IPython.core.display.HTML object>"
            ],
            "text/html": [
              "Find logs at: <code>./wandb/run-20250607_210952-v5tk2jvf/logs</code>"
            ]
          },
          "metadata": {}
        },
        {
          "output_type": "display_data",
          "data": {
            "text/plain": [
              "<IPython.core.display.HTML object>"
            ],
            "text/html": [
              "Tracking run with wandb version 0.20.1"
            ]
          },
          "metadata": {}
        },
        {
          "output_type": "display_data",
          "data": {
            "text/plain": [
              "<IPython.core.display.HTML object>"
            ],
            "text/html": [
              "Run data is saved locally in <code>/content/wandb/run-20250607_211333-42wk6lh8</code>"
            ]
          },
          "metadata": {}
        },
        {
          "output_type": "display_data",
          "data": {
            "text/plain": [
              "<IPython.core.display.HTML object>"
            ],
            "text/html": [
              "Syncing run <strong><a href='https://wandb.ai/b3tameche-free-university-of-tbilisi-/Facial%20Expression%20Recognition/runs/42wk6lh8' target=\"_blank\">CNN_BatchNorm_Dropout</a></strong> to <a href='https://wandb.ai/b3tameche-free-university-of-tbilisi-/Facial%20Expression%20Recognition' target=\"_blank\">Weights & Biases</a> (<a href='https://wandb.me/developer-guide' target=\"_blank\">docs</a>)<br>"
            ]
          },
          "metadata": {}
        },
        {
          "output_type": "display_data",
          "data": {
            "text/plain": [
              "<IPython.core.display.HTML object>"
            ],
            "text/html": [
              " View project at <a href='https://wandb.ai/b3tameche-free-university-of-tbilisi-/Facial%20Expression%20Recognition' target=\"_blank\">https://wandb.ai/b3tameche-free-university-of-tbilisi-/Facial%20Expression%20Recognition</a>"
            ]
          },
          "metadata": {}
        },
        {
          "output_type": "display_data",
          "data": {
            "text/plain": [
              "<IPython.core.display.HTML object>"
            ],
            "text/html": [
              " View run at <a href='https://wandb.ai/b3tameche-free-university-of-tbilisi-/Facial%20Expression%20Recognition/runs/42wk6lh8' target=\"_blank\">https://wandb.ai/b3tameche-free-university-of-tbilisi-/Facial%20Expression%20Recognition/runs/42wk6lh8</a>"
            ]
          },
          "metadata": {}
        },
        {
          "output_type": "stream",
          "name": "stdout",
          "text": [
            "\n",
            "Epoch 1/10\n",
            "----------\n"
          ]
        },
        {
          "output_type": "stream",
          "name": "stderr",
          "text": [
            "Training: 100%|██████████| 379/379 [00:23<00:00, 15.91it/s]\n",
            "Validation: 100%|██████████| 127/127 [00:05<00:00, 21.35it/s]\n"
          ]
        },
        {
          "output_type": "stream",
          "name": "stdout",
          "text": [
            "Train Loss: 1.8254, Train Acc: 28.43%\n",
            "Val Loss: 1.5260, Val Acc: 40.83%\n",
            "\n",
            "Epoch 2/10\n",
            "----------\n"
          ]
        },
        {
          "output_type": "stream",
          "name": "stderr",
          "text": [
            "Training: 100%|██████████| 379/379 [00:23<00:00, 15.85it/s]\n",
            "Validation: 100%|██████████| 127/127 [00:06<00:00, 20.85it/s]\n"
          ]
        },
        {
          "output_type": "stream",
          "name": "stdout",
          "text": [
            "Train Loss: 1.5415, Train Acc: 39.80%\n",
            "Val Loss: 1.3994, Val Acc: 45.94%\n",
            "\n",
            "Epoch 3/10\n",
            "----------\n"
          ]
        },
        {
          "output_type": "stream",
          "name": "stderr",
          "text": [
            "Training: 100%|██████████| 379/379 [00:23<00:00, 15.93it/s]\n",
            "Validation: 100%|██████████| 127/127 [00:05<00:00, 21.37it/s]\n"
          ]
        },
        {
          "output_type": "stream",
          "name": "stdout",
          "text": [
            "Train Loss: 1.4421, Train Acc: 44.14%\n",
            "Val Loss: 1.3250, Val Acc: 49.78%\n",
            "\n",
            "Epoch 4/10\n",
            "----------\n"
          ]
        },
        {
          "output_type": "stream",
          "name": "stderr",
          "text": [
            "Training: 100%|██████████| 379/379 [00:23<00:00, 15.89it/s]\n",
            "Validation: 100%|██████████| 127/127 [00:06<00:00, 21.02it/s]\n"
          ]
        },
        {
          "output_type": "stream",
          "name": "stdout",
          "text": [
            "Train Loss: 1.3735, Train Acc: 47.08%\n",
            "Val Loss: 1.2616, Val Acc: 51.75%\n",
            "\n",
            "Epoch 5/10\n",
            "----------\n"
          ]
        },
        {
          "output_type": "stream",
          "name": "stderr",
          "text": [
            "Training: 100%|██████████| 379/379 [00:23<00:00, 15.97it/s]\n",
            "Validation: 100%|██████████| 127/127 [00:05<00:00, 21.58it/s]\n"
          ]
        },
        {
          "output_type": "stream",
          "name": "stdout",
          "text": [
            "Train Loss: 1.3205, Train Acc: 49.01%\n",
            "Val Loss: 1.2186, Val Acc: 53.48%\n",
            "\n",
            "Epoch 6/10\n",
            "----------\n"
          ]
        },
        {
          "output_type": "stream",
          "name": "stderr",
          "text": [
            "Training: 100%|██████████| 379/379 [00:23<00:00, 15.85it/s]\n",
            "Validation: 100%|██████████| 127/127 [00:06<00:00, 21.04it/s]\n"
          ]
        },
        {
          "output_type": "stream",
          "name": "stdout",
          "text": [
            "Train Loss: 1.2787, Train Acc: 50.78%\n",
            "Val Loss: 1.1891, Val Acc: 55.50%\n",
            "\n",
            "Epoch 7/10\n",
            "----------\n"
          ]
        },
        {
          "output_type": "stream",
          "name": "stderr",
          "text": [
            "Training: 100%|██████████| 379/379 [00:23<00:00, 15.94it/s]\n",
            "Validation: 100%|██████████| 127/127 [00:05<00:00, 21.56it/s]\n"
          ]
        },
        {
          "output_type": "stream",
          "name": "stdout",
          "text": [
            "Train Loss: 1.2372, Train Acc: 52.65%\n",
            "Val Loss: 1.1696, Val Acc: 56.44%\n",
            "\n",
            "Epoch 8/10\n",
            "----------\n"
          ]
        },
        {
          "output_type": "stream",
          "name": "stderr",
          "text": [
            "Training: 100%|██████████| 379/379 [00:23<00:00, 16.10it/s]\n",
            "Validation: 100%|██████████| 127/127 [00:05<00:00, 21.26it/s]\n"
          ]
        },
        {
          "output_type": "stream",
          "name": "stdout",
          "text": [
            "Train Loss: 1.2074, Train Acc: 54.14%\n",
            "Val Loss: 1.1568, Val Acc: 56.22%\n",
            "\n",
            "Epoch 9/10\n",
            "----------\n"
          ]
        },
        {
          "output_type": "stream",
          "name": "stderr",
          "text": [
            "Training: 100%|██████████| 379/379 [00:24<00:00, 15.70it/s]\n",
            "Validation: 100%|██████████| 127/127 [00:06<00:00, 20.94it/s]\n"
          ]
        },
        {
          "output_type": "stream",
          "name": "stdout",
          "text": [
            "Train Loss: 1.1789, Train Acc: 55.28%\n",
            "Val Loss: 1.1591, Val Acc: 57.03%\n",
            "\n",
            "Epoch 10/10\n",
            "----------\n"
          ]
        },
        {
          "output_type": "stream",
          "name": "stderr",
          "text": [
            "Training: 100%|██████████| 379/379 [00:24<00:00, 15.56it/s]\n",
            "Validation: 100%|██████████| 127/127 [00:06<00:00, 20.49it/s]\n"
          ]
        },
        {
          "output_type": "stream",
          "name": "stdout",
          "text": [
            "Train Loss: 1.1463, Train Acc: 56.26%\n",
            "Val Loss: 1.1387, Val Acc: 57.10%\n"
          ]
        },
        {
          "output_type": "display_data",
          "data": {
            "text/plain": [
              "<Figure size 1500x500 with 2 Axes>"
            ],
            "image/png": "[encoded data removed]"
          },
          "metadata": {}
        },
        {
          "output_type": "display_data",
          "data": {
            "text/plain": [
              "<IPython.core.display.HTML object>"
            ],
            "text/html": []
          },
          "metadata": {}
        },
        {
          "output_type": "display_data",
          "data": {
            "text/plain": [
              "<IPython.core.display.HTML object>"
            ],
            "text/html": [
              "<br>    <style><br>        .wandb-row {<br>            display: flex;<br>            flex-direction: row;<br>            flex-wrap: wrap;<br>            justify-content: flex-start;<br>            width: 100%;<br>        }<br>        .wandb-col {<br>            display: flex;<br>            flex-direction: column;<br>            flex-basis: 100%;<br>            flex: 1;<br>            padding: 10px;<br>        }<br>    </style><br><div class=\"wandb-row\"><div class=\"wandb-col\"><h3>Run history:</h3><br/><table class=\"wandb\"><tr><td>best_val_accuracy</td><td>▁</td></tr><tr><td>epoch</td><td>▁▂▃▃▄▅▆▆▇█</td></tr><tr><td>final_train_accuracy</td><td>▁</td></tr><tr><td>final_val_accuracy</td><td>▁</td></tr><tr><td>train_accuracy</td><td>▁▄▅▆▆▇▇▇██</td></tr><tr><td>train_loss</td><td>█▅▄▃▃▂▂▂▁▁</td></tr><tr><td>val_accuracy</td><td>▁▃▅▆▆▇████</td></tr><tr><td>val_loss</td><td>█▆▄▃▂▂▂▁▁▁</td></tr></table><br/></div><div class=\"wandb-col\"><h3>Run summary:</h3><br/><table class=\"wandb\"><tr><td>best_val_accuracy</td><td>57.09685</td></tr><tr><td>epoch</td><td>10</td></tr><tr><td>final_train_accuracy</td><td>56.26238</td></tr><tr><td>final_val_accuracy</td><td>57.09685</td></tr><tr><td>train_accuracy</td><td>56.26238</td></tr><tr><td>train_loss</td><td>1.1463</td></tr><tr><td>val_accuracy</td><td>57.09685</td></tr><tr><td>val_loss</td><td>1.13875</td></tr></table><br/></div></div>"
            ]
          },
          "metadata": {}
        },
        {
          "output_type": "display_data",
          "data": {
            "text/plain": [
              "<IPython.core.display.HTML object>"
            ],
            "text/html": [
              " View run <strong style=\"color:#cdcd00\">CNN_BatchNorm_Dropout</strong> at: <a href='https://wandb.ai/b3tameche-free-university-of-tbilisi-/Facial%20Expression%20Recognition/runs/42wk6lh8' target=\"_blank\">https://wandb.ai/b3tameche-free-university-of-tbilisi-/Facial%20Expression%20Recognition/runs/42wk6lh8</a><br> View project at: <a href='https://wandb.ai/b3tameche-free-university-of-tbilisi-/Facial%20Expression%20Recognition' target=\"_blank\">https://wandb.ai/b3tameche-free-university-of-tbilisi-/Facial%20Expression%20Recognition</a><br>Synced 5 W&B file(s), 0 media file(s), 0 artifact file(s) and 1 other file(s)"
            ]
          },
          "metadata": {}
        },
        {
          "output_type": "display_data",
          "data": {
            "text/plain": [
              "<IPython.core.display.HTML object>"
            ],
            "text/html": [
              "Find logs at: <code>./wandb/run-20250607_211333-42wk6lh8/logs</code>"
            ]
          },
          "metadata": {}
        }
      ]
    },
    {
      "cell_type": "markdown",
      "source": [
        "### 4.2.4 Raised Architecture Complexity"
      ],
      "metadata": {
        "id": "fP-2VcX923lZ"
      }
    },
    {
      "cell_type": "code",
      "source": [
        "class ComplexCNN(nn.Module):\n",
        "    def __init__(self, num_classes=7, dropout_rate=0.5):\n",
        "        super().__init__()\n",
        "\n",
        "        self.features = nn.Sequential(\n",
        "            # conv 1\n",
        "            nn.Conv2d(1, 64, kernel_size=3, padding=1),\n",
        "            nn.BatchNorm2d(64),\n",
        "            nn.ReLU(),\n",
        "\n",
        "            nn.Conv2d(64, 64, kernel_size=3, padding=1),\n",
        "            nn.BatchNorm2d(64),\n",
        "            nn.ReLU(),\n",
        "\n",
        "            nn.MaxPool2d(2, 2),\n",
        "            nn.Dropout2d(0.25),\n",
        "\n",
        "            # conv 2\n",
        "            nn.Conv2d(64, 128, kernel_size=3, padding=1),\n",
        "            nn.BatchNorm2d(128),\n",
        "            nn.ReLU(),\n",
        "\n",
        "            nn.Conv2d(128, 128, kernel_size=3, padding=1),\n",
        "            nn.BatchNorm2d(128),\n",
        "            nn.ReLU(),\n",
        "\n",
        "            nn.MaxPool2d(2, 2),\n",
        "            nn.Dropout2d(0.25),\n",
        "\n",
        "            # conv 3\n",
        "            nn.Conv2d(128, 256, kernel_size=3, padding=1),\n",
        "            nn.BatchNorm2d(256),\n",
        "            nn.ReLU(),\n",
        "\n",
        "            nn.Conv2d(256, 256, kernel_size=3, padding=1),\n",
        "            nn.BatchNorm2d(256),\n",
        "            nn.ReLU(),\n",
        "\n",
        "            nn.MaxPool2d(2, 2),\n",
        "            nn.Dropout2d(0.25),\n",
        "        )\n",
        "\n",
        "        self.classifier = nn.Sequential(\n",
        "            nn.Flatten(),\n",
        "\n",
        "            nn.Linear(256 * 6 * 6, 1024),\n",
        "            nn.BatchNorm1d(1024),\n",
        "            nn.ReLU(),\n",
        "            nn.Dropout(dropout_rate),\n",
        "\n",
        "            nn.Linear(1024, 512),\n",
        "            nn.BatchNorm1d(512),\n",
        "            nn.ReLU(),\n",
        "            nn.Dropout(dropout_rate),\n",
        "\n",
        "            nn.Linear(512, num_classes)\n",
        "        )\n",
        "\n",
        "    def forward(self, x):\n",
        "        x = self.features(x)\n",
        "        x = self.classifier(x)\n",
        "        return x"
      ],
      "metadata": {
        "id": "waF9suAZWMmR"
      },
      "execution_count": null,
      "outputs": []
    },
    {
      "cell_type": "code",
      "source": [
        "print(\"Architecture 4: Raised Architecture Complexity\")\n",
        "model5 = ComplexCNN().to(device)\n",
        "optimizer5 = Adam(model5.parameters(), lr=0.01)\n",
        "\n",
        "train_losses5, train_accs5, val_losses5, val_accs5, best_acc5 = train_model(\n",
        "    model5, train_loader, val_loader, NUM_EPOCHS, optimizer5, criterion, device, \"CNN_Complex\"\n",
        ")\n",
        "results[\"CNN_Complex\"] = best_acc5"
      ],
      "metadata": {
        "colab": {
          "base_uri": "https://localhost:8080/",
          "height": 1000
        },
        "id": "pBtxrYJuWjLG",
        "outputId": "4c91c141-ca4e-4c02-8eaf-1c51807c6dad"
      },
      "execution_count": null,
      "outputs": [
        {
          "output_type": "stream",
          "name": "stdout",
          "text": [
            "Architecture 4: Raised Architecture Complexity\n"
          ]
        },
        {
          "output_type": "display_data",
          "data": {
            "text/plain": [
              "<IPython.core.display.HTML object>"
            ],
            "text/html": [
              "Changes to your `wandb` environment variables will be ignored because your `wandb` session has already started. For more information on how to modify your settings with `wandb.init()` arguments, please refer to <a href='https://wandb.me/wandb-init' target=\"_blank\">the W&B docs</a>."
            ]
          },
          "metadata": {}
        },
        {
          "output_type": "display_data",
          "data": {
            "text/plain": [
              "<IPython.core.display.HTML object>"
            ],
            "text/html": [
              "Tracking run with wandb version 0.20.1"
            ]
          },
          "metadata": {}
        },
        {
          "output_type": "display_data",
          "data": {
            "text/plain": [
              "<IPython.core.display.HTML object>"
            ],
            "text/html": [
              "Run data is saved locally in <code>/content/wandb/run-20250607_214539-syv6m5io</code>"
            ]
          },
          "metadata": {}
        },
        {
          "output_type": "display_data",
          "data": {
            "text/plain": [
              "<IPython.core.display.HTML object>"
            ],
            "text/html": [
              "Syncing run <strong><a href='https://wandb.ai/b3tameche-free-university-of-tbilisi-/Facial%20Expression%20Recognition/runs/syv6m5io' target=\"_blank\">CNN_Complex</a></strong> to <a href='https://wandb.ai/b3tameche-free-university-of-tbilisi-/Facial%20Expression%20Recognition' target=\"_blank\">Weights & Biases</a> (<a href='https://wandb.me/developer-guide' target=\"_blank\">docs</a>)<br>"
            ]
          },
          "metadata": {}
        },
        {
          "output_type": "display_data",
          "data": {
            "text/plain": [
              "<IPython.core.display.HTML object>"
            ],
            "text/html": [
              " View project at <a href='https://wandb.ai/b3tameche-free-university-of-tbilisi-/Facial%20Expression%20Recognition' target=\"_blank\">https://wandb.ai/b3tameche-free-university-of-tbilisi-/Facial%20Expression%20Recognition</a>"
            ]
          },
          "metadata": {}
        },
        {
          "output_type": "display_data",
          "data": {
            "text/plain": [
              "<IPython.core.display.HTML object>"
            ],
            "text/html": [
              " View run at <a href='https://wandb.ai/b3tameche-free-university-of-tbilisi-/Facial%20Expression%20Recognition/runs/syv6m5io' target=\"_blank\">https://wandb.ai/b3tameche-free-university-of-tbilisi-/Facial%20Expression%20Recognition/runs/syv6m5io</a>"
            ]
          },
          "metadata": {}
        },
        {
          "output_type": "stream",
          "name": "stdout",
          "text": [
            "\n",
            "Epoch 1/10\n",
            "----------\n"
          ]
        },
        {
          "output_type": "stream",
          "name": "stderr",
          "text": [
            "Training: 100%|██████████| 379/379 [00:32<00:00, 11.57it/s]\n",
            "Validation: 100%|██████████| 127/127 [00:08<00:00, 14.21it/s]\n"
          ]
        },
        {
          "output_type": "stream",
          "name": "stdout",
          "text": [
            "Train Loss: 1.9398, Train Acc: 25.08%\n",
            "Val Loss: 1.7004, Val Acc: 32.90%\n",
            "\n",
            "Epoch 2/10\n",
            "----------\n"
          ]
        },
        {
          "output_type": "stream",
          "name": "stderr",
          "text": [
            "Training: 100%|██████████| 379/379 [00:32<00:00, 11.51it/s]\n",
            "Validation: 100%|██████████| 127/127 [00:09<00:00, 14.03it/s]\n"
          ]
        },
        {
          "output_type": "stream",
          "name": "stdout",
          "text": [
            "Train Loss: 1.6303, Train Acc: 35.61%\n",
            "Val Loss: 1.4134, Val Acc: 45.93%\n",
            "\n",
            "Epoch 3/10\n",
            "----------\n"
          ]
        },
        {
          "output_type": "stream",
          "name": "stderr",
          "text": [
            "Training: 100%|██████████| 379/379 [00:32<00:00, 11.50it/s]\n",
            "Validation: 100%|██████████| 127/127 [00:07<00:00, 16.34it/s]\n"
          ]
        },
        {
          "output_type": "stream",
          "name": "stdout",
          "text": [
            "Train Loss: 1.4200, Train Acc: 44.82%\n",
            "Val Loss: 1.2925, Val Acc: 49.72%\n",
            "\n",
            "Epoch 4/10\n",
            "----------\n"
          ]
        },
        {
          "output_type": "stream",
          "name": "stderr",
          "text": [
            "Training: 100%|██████████| 379/379 [00:33<00:00, 11.27it/s]\n",
            "Validation: 100%|██████████| 127/127 [00:07<00:00, 16.92it/s]\n"
          ]
        },
        {
          "output_type": "stream",
          "name": "stdout",
          "text": [
            "Train Loss: 1.3291, Train Acc: 48.59%\n",
            "Val Loss: 1.2275, Val Acc: 52.59%\n",
            "\n",
            "Epoch 5/10\n",
            "----------\n"
          ]
        },
        {
          "output_type": "stream",
          "name": "stderr",
          "text": [
            "Training: 100%|██████████| 379/379 [00:33<00:00, 11.31it/s]\n",
            "Validation: 100%|██████████| 127/127 [00:08<00:00, 15.11it/s]\n"
          ]
        },
        {
          "output_type": "stream",
          "name": "stdout",
          "text": [
            "Train Loss: 1.2645, Train Acc: 51.63%\n",
            "Val Loss: 1.1732, Val Acc: 55.66%\n",
            "\n",
            "Epoch 6/10\n",
            "----------\n"
          ]
        },
        {
          "output_type": "stream",
          "name": "stderr",
          "text": [
            "Training: 100%|██████████| 379/379 [00:33<00:00, 11.46it/s]\n",
            "Validation: 100%|██████████| 127/127 [00:09<00:00, 13.80it/s]\n"
          ]
        },
        {
          "output_type": "stream",
          "name": "stdout",
          "text": [
            "Train Loss: 1.2084, Train Acc: 53.88%\n",
            "Val Loss: 1.1334, Val Acc: 57.25%\n",
            "\n",
            "Epoch 7/10\n",
            "----------\n"
          ]
        },
        {
          "output_type": "stream",
          "name": "stderr",
          "text": [
            "Training: 100%|██████████| 379/379 [00:32<00:00, 11.62it/s]\n",
            "Validation: 100%|██████████| 127/127 [00:08<00:00, 15.25it/s]\n"
          ]
        },
        {
          "output_type": "stream",
          "name": "stdout",
          "text": [
            "Train Loss: 1.1721, Train Acc: 55.76%\n",
            "Val Loss: 1.1056, Val Acc: 58.05%\n",
            "\n",
            "Epoch 8/10\n",
            "----------\n"
          ]
        },
        {
          "output_type": "stream",
          "name": "stderr",
          "text": [
            "Training: 100%|██████████| 379/379 [00:32<00:00, 11.54it/s]\n",
            "Validation: 100%|██████████| 127/127 [00:07<00:00, 16.96it/s]\n"
          ]
        },
        {
          "output_type": "stream",
          "name": "stdout",
          "text": [
            "Train Loss: 1.1199, Train Acc: 58.16%\n",
            "Val Loss: 1.0629, Val Acc: 59.71%\n",
            "\n",
            "Epoch 9/10\n",
            "----------\n"
          ]
        },
        {
          "output_type": "stream",
          "name": "stderr",
          "text": [
            "Training: 100%|██████████| 379/379 [00:34<00:00, 11.14it/s]\n",
            "Validation: 100%|██████████| 127/127 [00:07<00:00, 15.91it/s]\n"
          ]
        },
        {
          "output_type": "stream",
          "name": "stdout",
          "text": [
            "Train Loss: 1.0721, Train Acc: 59.36%\n",
            "Val Loss: 1.0789, Val Acc: 59.57%\n",
            "\n",
            "Epoch 10/10\n",
            "----------\n"
          ]
        },
        {
          "output_type": "stream",
          "name": "stderr",
          "text": [
            "Training: 100%|██████████| 379/379 [00:33<00:00, 11.44it/s]\n",
            "Validation: 100%|██████████| 127/127 [00:09<00:00, 13.75it/s]\n"
          ]
        },
        {
          "output_type": "stream",
          "name": "stdout",
          "text": [
            "Train Loss: 1.0308, Train Acc: 61.19%\n",
            "Val Loss: 1.0520, Val Acc: 60.50%\n"
          ]
        },
        {
          "output_type": "display_data",
          "data": {
            "text/plain": [
              "<Figure size 1500x500 with 2 Axes>"
            ],
            "image/png": "[encoded data removed]"
          },
          "metadata": {}
        },
        {
          "output_type": "display_data",
          "data": {
            "text/plain": [
              "<IPython.core.display.HTML object>"
            ],
            "text/html": []
          },
          "metadata": {}
        },
        {
          "output_type": "display_data",
          "data": {
            "text/plain": [
              "<IPython.core.display.HTML object>"
            ],
            "text/html": [
              "<br>    <style><br>        .wandb-row {<br>            display: flex;<br>            flex-direction: row;<br>            flex-wrap: wrap;<br>            justify-content: flex-start;<br>            width: 100%;<br>        }<br>        .wandb-col {<br>            display: flex;<br>            flex-direction: column;<br>            flex-basis: 100%;<br>            flex: 1;<br>            padding: 10px;<br>        }<br>    </style><br><div class=\"wandb-row\"><div class=\"wandb-col\"><h3>Run history:</h3><br/><table class=\"wandb\"><tr><td>best_val_accuracy</td><td>▁</td></tr><tr><td>epoch</td><td>▁▂▃▃▄▅▆▆▇█</td></tr><tr><td>final_train_accuracy</td><td>▁</td></tr><tr><td>final_val_accuracy</td><td>▁</td></tr><tr><td>train_accuracy</td><td>▁▃▅▆▆▇▇▇██</td></tr><tr><td>train_loss</td><td>█▆▄▃▃▂▂▂▁▁</td></tr><tr><td>val_accuracy</td><td>▁▄▅▆▇▇▇███</td></tr><tr><td>val_loss</td><td>█▅▄▃▂▂▂▁▁▁</td></tr></table><br/></div><div class=\"wandb-col\"><h3>Run summary:</h3><br/><table class=\"wandb\"><tr><td>best_val_accuracy</td><td>60.50285</td></tr><tr><td>epoch</td><td>10</td></tr><tr><td>final_train_accuracy</td><td>61.19138</td></tr><tr><td>final_val_accuracy</td><td>60.50285</td></tr><tr><td>train_accuracy</td><td>61.19138</td></tr><tr><td>train_loss</td><td>1.0308</td></tr><tr><td>val_accuracy</td><td>60.50285</td></tr><tr><td>val_loss</td><td>1.05199</td></tr></table><br/></div></div>"
            ]
          },
          "metadata": {}
        },
        {
          "output_type": "display_data",
          "data": {
            "text/plain": [
              "<IPython.core.display.HTML object>"
            ],
            "text/html": [
              " View run <strong style=\"color:#cdcd00\">CNN_Complex</strong> at: <a href='https://wandb.ai/b3tameche-free-university-of-tbilisi-/Facial%20Expression%20Recognition/runs/syv6m5io' target=\"_blank\">https://wandb.ai/b3tameche-free-university-of-tbilisi-/Facial%20Expression%20Recognition/runs/syv6m5io</a><br> View project at: <a href='https://wandb.ai/b3tameche-free-university-of-tbilisi-/Facial%20Expression%20Recognition' target=\"_blank\">https://wandb.ai/b3tameche-free-university-of-tbilisi-/Facial%20Expression%20Recognition</a><br>Synced 5 W&B file(s), 0 media file(s), 0 artifact file(s) and 1 other file(s)"
            ]
          },
          "metadata": {}
        },
        {
          "output_type": "display_data",
          "data": {
            "text/plain": [
              "<IPython.core.display.HTML object>"
            ],
            "text/html": [
              "Find logs at: <code>./wandb/run-20250607_214539-syv6m5io/logs</code>"
            ]
          },
          "metadata": {}
        }
      ]
    },
    {
      "cell_type": "markdown",
      "source": [
        "# 5. Predict on Testset"
      ],
      "metadata": {
        "id": "gysZM0idb8Av"
      }
    },
    {
      "cell_type": "code",
      "source": [
        "test_loss, test_acc, _, _ = validate_epoch(model5, test_loader, criterion, device)\n",
        "\n",
        "print(f'\\nTest Loss: {test_loss:.4f}, Test Accuracy: {test_acc:.4f}')"
      ],
      "metadata": {
        "colab": {
          "base_uri": "https://localhost:8080/"
        },
        "id": "QNQ5g90PW0Qd",
        "outputId": "c226a750-6d75-4e62-b3aa-8c18888210b2"
      },
      "execution_count": null,
      "outputs": [
        {
          "output_type": "stream",
          "name": "stderr",
          "text": [
            "Validation: 100%|██████████| 57/57 [00:03<00:00, 17.73it/s]"
          ]
        },
        {
          "output_type": "stream",
          "name": "stdout",
          "text": [
            "\n",
            "Test Loss: 1.0448, Test Accuracy: 61.0198\n"
          ]
        },
        {
          "output_type": "stream",
          "name": "stderr",
          "text": [
            "\n"
          ]
        }
      ]
    },
    {
      "cell_type": "markdown",
      "source": [
        "# 6. Improving Best Model"
      ],
      "metadata": {
        "id": "AllcXes2cKvF"
      }
    },
    {
      "cell_type": "markdown",
      "source": [
        "## 6.1 Optimizations"
      ],
      "metadata": {
        "id": "yC9UcTyDul6b"
      }
    },
    {
      "cell_type": "markdown",
      "source": [
        "### 6.1.1 Validation Accuracy > Training Accuracy"
      ],
      "metadata": {
        "id": "t3LG_c9GqpZ1"
      }
    },
    {
      "cell_type": "code",
      "source": [
        "transform_chain_x = transforms.Compose([\n",
        "    transforms.ToTensor(),\n",
        "    transforms.Normalize(mean=[0.5], std=[0.5])\n",
        "])"
      ],
      "metadata": {
        "id": "WSsKp8BqVE8B"
      },
      "execution_count": 25,
      "outputs": []
    },
    {
      "cell_type": "markdown",
      "source": [
        "### 6.1.2 Oscillating Loss"
      ],
      "metadata": {
        "id": "6U9K3XELq4XJ"
      }
    },
    {
      "cell_type": "code",
      "source": [
        "from torch.optim.lr_scheduler import ReduceLROnPlateau\n",
        "\n",
        "def train_epoch_x(model, train_loader, optimizer, criterion, device):\n",
        "    model.train()           # set model to training mode (for BN and Dropout, to only include in training phase)\n",
        "    running_loss = 0.0      # total loss across all batches\n",
        "    correct = 0             # correct predictions\n",
        "    total = 0               # total number of images processed\n",
        "\n",
        "    # iterate through all batches in the training data loader (tqdm for progress bar to estimate time remaining)\n",
        "    for inputs, labels in tqdm(train_loader, desc=\"Training\"):\n",
        "        inputs, labels = inputs.to(device), labels.to(device) # use GPU\n",
        "\n",
        "        optimizer.zero_grad()               # clear gradients from previous batch\n",
        "        output = model(inputs)              # forward\n",
        "        loss = criterion(output, labels)    # loss\n",
        "        loss.backward()                     # backward\n",
        "        torch.nn.utils.clip_grad_norm_(model.parameters(), max_norm=1.0) # gradient scaling\n",
        "        optimizer.step()                    # update model parameters\n",
        "\n",
        "        running_loss += loss.item()\n",
        "        _, predicted = torch.max(output.data, 1)        # predicted class\n",
        "        total += labels.size(0)                         # update total number of images processed\n",
        "        correct += (predicted == labels).sum().item()   # update count of correct predictions\n",
        "\n",
        "    epoch_loss = running_loss / len(train_loader)   # average loss per batch\n",
        "    epoch_acc = correct / total * 100.              # accuracy as percentage\n",
        "\n",
        "    return epoch_loss, epoch_acc\n",
        "\n",
        "def validate_epoch_x(model, val_loader, criterion, device):\n",
        "    model.eval()            # set model to evaluation mode (disables dropout, BN uses running info)\n",
        "    running_loss = 0.0      # total validation loss\n",
        "    correct = 0             # correct predictions\n",
        "    total = 0               # total number of validation images\n",
        "    preds = []              # predictions\n",
        "    true_labels = []        # true labels\n",
        "\n",
        "    # without gradient computation\n",
        "    with torch.no_grad():\n",
        "\n",
        "        # iterate through all batches in the validation data loader\n",
        "        for inputs, labels in tqdm(val_loader, desc=\"Validation\"):\n",
        "            inputs, labels = inputs.to(device), labels.to(device)   # use GPU\n",
        "            output = model(inputs)                                  # forward\n",
        "            loss = criterion(output, labels)                        # loss\n",
        "\n",
        "            running_loss += loss.item()\n",
        "            _, predicted = torch.max(output.data, 1)        # predicted class\n",
        "            total += labels.size(0)                         # update total number of images processed\n",
        "            correct += (predicted == labels).sum().item()   # update count of correct predictions\n",
        "\n",
        "            # numpy works with CPU\n",
        "            preds.extend(predicted.cpu().numpy())\n",
        "            true_labels.extend(labels.cpu().numpy())\n",
        "\n",
        "    epoch_loss = running_loss / len(val_loader)     # average loss per batch\n",
        "    epoch_acc = correct / total * 100.              # accuracy as percentage\n",
        "\n",
        "    return epoch_loss, epoch_acc, preds, true_labels\n",
        "\n",
        "def train_model_x(model, train_loader, val_loader, num_epochs, optimizer, criterion, device, model_name):\n",
        "    # initialize wandb\n",
        "    wandb.init(\n",
        "        project=\"Facial Expression Recognition\",\n",
        "        name=model_name,\n",
        "        config={\n",
        "            \"model\": model_name,\n",
        "            \"epochs\": num_epochs,\n",
        "            \"optimizer\": optimizer.__class__.__name__,\n",
        "            \"learning_rate\": optimizer.param_groups[0]['lr'],\n",
        "            \"batch_size\": train_loader.batch_size,\n",
        "        }\n",
        "    )\n",
        "\n",
        "    # ADDITION: LR scheduler\n",
        "    scheduler = ReduceLROnPlateau(optimizer, mode='min', factor=0.5, patience=2, verbose=True)\n",
        "\n",
        "    # watch gradients\n",
        "    wandb.watch(model, log=\"all\")\n",
        "\n",
        "    train_losses = []   # training loss per epoch\n",
        "    train_accs = []     # training accuracy per epoch\n",
        "    val_losses = []     # validation loss per epoch\n",
        "    val_accs = []       # validation accuracy per epoch\n",
        "\n",
        "    best_val_acc = 0.0\n",
        "\n",
        "    for epoch in range(num_epochs):\n",
        "        print(f'\\nEpoch {epoch+1}/{num_epochs}')\n",
        "        print('-' * 10)\n",
        "\n",
        "        # train\n",
        "        train_loss, train_acc = train_epoch_x(model, train_loader, optimizer, criterion, device)\n",
        "\n",
        "        # validate\n",
        "        val_loss, val_acc, val_preds, val_targets = validate_epoch_x(model, val_loader, criterion, device)\n",
        "\n",
        "        # store metrics for plotting\n",
        "        train_losses.append(train_loss)\n",
        "        train_accs.append(train_acc)\n",
        "        val_losses.append(val_loss)\n",
        "        val_accs.append(val_acc)\n",
        "\n",
        "        wandb.log({\n",
        "            \"epoch\": epoch + 1,\n",
        "            \"train_loss\": train_loss,\n",
        "            \"train_accuracy\": train_acc,\n",
        "            \"val_loss\": val_loss,\n",
        "            \"val_accuracy\": val_acc,\n",
        "            # ADDITION: log learning rate\n",
        "            \"learning_rate\": optimizer.param_groups[0]['lr']\n",
        "        })\n",
        "\n",
        "        print(f'Train Loss: {train_loss:.4f}, Train Acc: {train_acc:.2f}%')\n",
        "        print(f'Val Loss: {val_loss:.4f}, Val Acc: {val_acc:.2f}%')\n",
        "\n",
        "        # ADDITION: step the scheduler\n",
        "        scheduler.step(val_loss)\n",
        "\n",
        "        # save best model\n",
        "        best_val_acc = max(best_val_acc, val_acc)\n",
        "\n",
        "    # plotting\n",
        "    plt.figure(figsize=(15, 5))\n",
        "\n",
        "    # loss curves\n",
        "    plt.subplot(1, 2, 1)\n",
        "    plt.plot(train_losses, label='Train Loss')      # training loss over epochs\n",
        "    plt.plot(val_losses, label='Val Loss')          # validation loss over epochs\n",
        "    plt.title(f'{model_name} - Loss')\n",
        "    plt.xlabel('Epoch')\n",
        "    plt.ylabel('Loss')\n",
        "    plt.legend()\n",
        "\n",
        "    # accuracy curves\n",
        "    plt.subplot(1, 2, 2)\n",
        "    plt.plot(train_accs, label='Train Acc')     # training accuracy over epochs\n",
        "    plt.plot(val_accs, label='Val Acc')         # validation accuracy over epochs\n",
        "    plt.title(f'{model_name} - Accuracy')\n",
        "    plt.xlabel('Epoch')\n",
        "    plt.ylabel('Accuracy')\n",
        "    plt.legend()\n",
        "\n",
        "    plt.tight_layout()\n",
        "    plt.show()\n",
        "\n",
        "    # log final metrics to wandb\n",
        "    wandb.log({\n",
        "        \"best_val_accuracy\": best_val_acc,\n",
        "        \"final_train_accuracy\": train_accs[-1],\n",
        "        \"final_val_accuracy\": val_accs[-1],\n",
        "    })\n",
        "\n",
        "    # log model\n",
        "    model.eval()\n",
        "    dummy_input = torch.randn(1, 1, 48, 48).to(device) # dummy input for exporting\n",
        "    torch.onnx.export(model, dummy_input, f\"{model_name}.onnx\")\n",
        "    wandb.save(f\"{model_name}.onnx\")\n",
        "\n",
        "    wandb.finish()\n",
        "\n",
        "    return train_losses, train_accs, val_losses, val_accs, best_val_acc"
      ],
      "metadata": {
        "id": "m0iy-1_6rIvH"
      },
      "execution_count": 35,
      "outputs": []
    },
    {
      "cell_type": "markdown",
      "source": [
        "### 6.1.3 High Loss"
      ],
      "metadata": {
        "id": "BRB2uPLAsGl1"
      }
    },
    {
      "cell_type": "code",
      "source": [
        "# calculate class weights\n",
        "class_counts = train_df['emotion'].value_counts().sort_index()\n",
        "total_samples = train_df.shape[0]\n",
        "class_weights = 1 / (class_counts / total_samples) / class_counts.shape[0]\n",
        "class_weights_tensor = torch.tensor(class_weights.values, dtype=torch.float).to(device)\n",
        "\n",
        "# create datasets\n",
        "train_dataset_x = FERDataset(train_df.reset_index(drop=True), transform=transform_chain_x)\n",
        "val_dataset_x = FERDataset(val_df, transform=transform_chain_x)\n",
        "test_dataset_x = FERDataset(test_df, transform=transform_chain_x)\n",
        "\n",
        "criterion_x = nn.CrossEntropyLoss(weight=class_weights_tensor)"
      ],
      "metadata": {
        "id": "uE2i3Bg0sKom"
      },
      "execution_count": 31,
      "outputs": []
    },
    {
      "cell_type": "code",
      "source": [
        "print(class_weights)"
      ],
      "metadata": {
        "colab": {
          "base_uri": "https://localhost:8080/"
        },
        "id": "dCCtnURmtTJ6",
        "outputId": "f7ffe8ce-3068-45dc-b89f-15dec462eccb"
      },
      "execution_count": 32,
      "outputs": [
        {
          "output_type": "stream",
          "name": "stdout",
          "text": [
            "emotion\n",
            "0    1.022023\n",
            "1    9.327686\n",
            "2    0.998434\n",
            "3    0.574273\n",
            "4    0.839741\n",
            "5    1.297552\n",
            "6    0.826504\n",
            "Name: count, dtype: float64\n"
          ]
        }
      ]
    },
    {
      "cell_type": "markdown",
      "source": [
        "## 6.2 Training"
      ],
      "metadata": {
        "id": "3ClQ3K0kudLE"
      }
    },
    {
      "cell_type": "code",
      "source": [
        "# hyperparameters\n",
        "BATCH_SIZE = 64\n",
        "NUM_EPOCHS = 15\n",
        "\n",
        "# data loaders\n",
        "train_loader_x = DataLoader(train_dataset_x, batch_size=BATCH_SIZE, shuffle=True)\n",
        "val_loader_x = DataLoader(val_dataset_x, batch_size=BATCH_SIZE, shuffle=False)\n",
        "test_loader_x = DataLoader(test_dataset_x, batch_size=BATCH_SIZE, shuffle=False)\n",
        "\n",
        "# results\n",
        "results = {}"
      ],
      "metadata": {
        "id": "9jf1wv4Lv63s"
      },
      "execution_count": 34,
      "outputs": []
    },
    {
      "cell_type": "code",
      "source": [
        "print(\"Optimization: Complex Architecture\")\n",
        "model_x = ComplexCNN().to(device)\n",
        "optimizer_x = Adam(model_x.parameters(), lr=0.001)\n",
        "\n",
        "train_losses_x, train_accs_x, val_losses_x, val_accs_x, best_acc_x = train_model_x(\n",
        "    model_x, train_loader_x, val_loader_x, NUM_EPOCHS, optimizer_x, criterion_x, device, \"CNN_Complex_Optimized\"\n",
        ")"
      ],
      "metadata": {
        "colab": {
          "base_uri": "https://localhost:8080/",
          "height": 1000
        },
        "id": "i5cHpjnrutvc",
        "outputId": "12738af4-18dd-4117-e44e-be994a167465"
      },
      "execution_count": 36,
      "outputs": [
        {
          "output_type": "stream",
          "name": "stdout",
          "text": [
            "Optimization: Complex Architecture\n"
          ]
        },
        {
          "output_type": "display_data",
          "data": {
            "text/plain": [
              "<IPython.core.display.HTML object>"
            ],
            "text/html": [
              "Tracking run with wandb version 0.20.1"
            ]
          },
          "metadata": {}
        },
        {
          "output_type": "display_data",
          "data": {
            "text/plain": [
              "<IPython.core.display.HTML object>"
            ],
            "text/html": [
              "Run data is saved locally in <code>/content/wandb/run-20250608_133802-pl5ayl0m</code>"
            ]
          },
          "metadata": {}
        },
        {
          "output_type": "display_data",
          "data": {
            "text/plain": [
              "<IPython.core.display.HTML object>"
            ],
            "text/html": [
              "Syncing run <strong><a href='https://wandb.ai/b3tameche-free-university-of-tbilisi-/Facial%20Expression%20Recognition/runs/pl5ayl0m' target=\"_blank\">CNN_Complex_Optimized</a></strong> to <a href='https://wandb.ai/b3tameche-free-university-of-tbilisi-/Facial%20Expression%20Recognition' target=\"_blank\">Weights & Biases</a> (<a href='https://wandb.me/developer-guide' target=\"_blank\">docs</a>)<br>"
            ]
          },
          "metadata": {}
        },
        {
          "output_type": "display_data",
          "data": {
            "text/plain": [
              "<IPython.core.display.HTML object>"
            ],
            "text/html": [
              " View project at <a href='https://wandb.ai/b3tameche-free-university-of-tbilisi-/Facial%20Expression%20Recognition' target=\"_blank\">https://wandb.ai/b3tameche-free-university-of-tbilisi-/Facial%20Expression%20Recognition</a>"
            ]
          },
          "metadata": {}
        },
        {
          "output_type": "display_data",
          "data": {
            "text/plain": [
              "<IPython.core.display.HTML object>"
            ],
            "text/html": [
              " View run at <a href='https://wandb.ai/b3tameche-free-university-of-tbilisi-/Facial%20Expression%20Recognition/runs/pl5ayl0m' target=\"_blank\">https://wandb.ai/b3tameche-free-university-of-tbilisi-/Facial%20Expression%20Recognition/runs/pl5ayl0m</a>"
            ]
          },
          "metadata": {}
        },
        {
          "output_type": "stream",
          "name": "stderr",
          "text": [
            "/usr/local/lib/python3.11/dist-packages/torch/optim/lr_scheduler.py:62: UserWarning: The verbose parameter is deprecated. Please use get_last_lr() to access the learning rate.\n",
            "  warnings.warn(\n"
          ]
        },
        {
          "output_type": "stream",
          "name": "stdout",
          "text": [
            "\n",
            "Epoch 1/15\n",
            "----------\n"
          ]
        },
        {
          "output_type": "stream",
          "name": "stderr",
          "text": [
            "Training: 100%|██████████| 379/379 [00:32<00:00, 11.59it/s]\n",
            "Validation: 100%|██████████| 127/127 [00:07<00:00, 17.75it/s]\n"
          ]
        },
        {
          "output_type": "stream",
          "name": "stdout",
          "text": [
            "Train Loss: 1.8894, Train Acc: 24.74%\n",
            "Val Loss: 1.7096, Val Acc: 27.22%\n",
            "\n",
            "Epoch 2/15\n",
            "----------\n"
          ]
        },
        {
          "output_type": "stream",
          "name": "stderr",
          "text": [
            "Training: 100%|██████████| 379/379 [00:33<00:00, 11.19it/s]\n",
            "Validation: 100%|██████████| 127/127 [00:08<00:00, 15.82it/s]\n"
          ]
        },
        {
          "output_type": "stream",
          "name": "stdout",
          "text": [
            "Train Loss: 1.6416, Train Acc: 36.94%\n",
            "Val Loss: 1.4993, Val Acc: 39.76%\n",
            "\n",
            "Epoch 3/15\n",
            "----------\n"
          ]
        },
        {
          "output_type": "stream",
          "name": "stderr",
          "text": [
            "Training: 100%|██████████| 379/379 [00:32<00:00, 11.50it/s]\n",
            "Validation: 100%|██████████| 127/127 [00:08<00:00, 14.56it/s]\n"
          ]
        },
        {
          "output_type": "stream",
          "name": "stdout",
          "text": [
            "Train Loss: 1.4743, Train Acc: 43.85%\n",
            "Val Loss: 1.3659, Val Acc: 49.68%\n",
            "\n",
            "Epoch 4/15\n",
            "----------\n"
          ]
        },
        {
          "output_type": "stream",
          "name": "stderr",
          "text": [
            "Training: 100%|██████████| 379/379 [00:32<00:00, 11.61it/s]\n",
            "Validation: 100%|██████████| 127/127 [00:09<00:00, 13.87it/s]\n"
          ]
        },
        {
          "output_type": "stream",
          "name": "stdout",
          "text": [
            "Train Loss: 1.3671, Train Acc: 47.53%\n",
            "Val Loss: 1.3028, Val Acc: 50.27%\n",
            "\n",
            "Epoch 5/15\n",
            "----------\n"
          ]
        },
        {
          "output_type": "stream",
          "name": "stderr",
          "text": [
            "Training: 100%|██████████| 379/379 [00:32<00:00, 11.64it/s]\n",
            "Validation: 100%|██████████| 127/127 [00:07<00:00, 16.23it/s]\n"
          ]
        },
        {
          "output_type": "stream",
          "name": "stdout",
          "text": [
            "Train Loss: 1.2813, Train Acc: 50.24%\n",
            "Val Loss: 1.2511, Val Acc: 52.49%\n",
            "\n",
            "Epoch 6/15\n",
            "----------\n"
          ]
        },
        {
          "output_type": "stream",
          "name": "stderr",
          "text": [
            "Training: 100%|██████████| 379/379 [00:33<00:00, 11.27it/s]\n",
            "Validation: 100%|██████████| 127/127 [00:07<00:00, 16.97it/s]\n"
          ]
        },
        {
          "output_type": "stream",
          "name": "stdout",
          "text": [
            "Train Loss: 1.2129, Train Acc: 52.74%\n",
            "Val Loss: 1.2348, Val Acc: 55.24%\n",
            "\n",
            "Epoch 7/15\n",
            "----------\n"
          ]
        },
        {
          "output_type": "stream",
          "name": "stderr",
          "text": [
            "Training: 100%|██████████| 379/379 [00:33<00:00, 11.43it/s]\n",
            "Validation: 100%|██████████| 127/127 [00:08<00:00, 15.71it/s]\n"
          ]
        },
        {
          "output_type": "stream",
          "name": "stdout",
          "text": [
            "Train Loss: 1.1370, Train Acc: 54.95%\n",
            "Val Loss: 1.1748, Val Acc: 56.94%\n",
            "\n",
            "Epoch 8/15\n",
            "----------\n"
          ]
        },
        {
          "output_type": "stream",
          "name": "stderr",
          "text": [
            "Training: 100%|██████████| 379/379 [00:32<00:00, 11.66it/s]\n",
            "Validation: 100%|██████████| 127/127 [00:09<00:00, 13.96it/s]\n"
          ]
        },
        {
          "output_type": "stream",
          "name": "stdout",
          "text": [
            "Train Loss: 1.0939, Train Acc: 56.71%\n",
            "Val Loss: 1.1971, Val Acc: 55.93%\n",
            "\n",
            "Epoch 9/15\n",
            "----------\n"
          ]
        },
        {
          "output_type": "stream",
          "name": "stderr",
          "text": [
            "Training: 100%|██████████| 379/379 [00:32<00:00, 11.60it/s]\n",
            "Validation: 100%|██████████| 127/127 [00:08<00:00, 15.32it/s]\n"
          ]
        },
        {
          "output_type": "stream",
          "name": "stdout",
          "text": [
            "Train Loss: 1.0387, Train Acc: 58.58%\n",
            "Val Loss: 1.2310, Val Acc: 58.60%\n",
            "\n",
            "Epoch 10/15\n",
            "----------\n"
          ]
        },
        {
          "output_type": "stream",
          "name": "stderr",
          "text": [
            "Training: 100%|██████████| 379/379 [00:32<00:00, 11.51it/s]\n",
            "Validation: 100%|██████████| 127/127 [00:07<00:00, 16.97it/s]\n"
          ]
        },
        {
          "output_type": "stream",
          "name": "stdout",
          "text": [
            "Train Loss: 0.9781, Train Acc: 60.32%\n",
            "Val Loss: 1.1884, Val Acc: 59.17%\n",
            "\n",
            "Epoch 11/15\n",
            "----------\n"
          ]
        },
        {
          "output_type": "stream",
          "name": "stderr",
          "text": [
            "Training: 100%|██████████| 379/379 [00:33<00:00, 11.26it/s]\n",
            "Validation: 100%|██████████| 127/127 [00:07<00:00, 16.45it/s]\n"
          ]
        },
        {
          "output_type": "stream",
          "name": "stdout",
          "text": [
            "Train Loss: 0.8702, Train Acc: 63.88%\n",
            "Val Loss: 1.2021, Val Acc: 60.87%\n",
            "\n",
            "Epoch 12/15\n",
            "----------\n"
          ]
        },
        {
          "output_type": "stream",
          "name": "stderr",
          "text": [
            "Training: 100%|██████████| 379/379 [00:32<00:00, 11.67it/s]\n",
            "Validation: 100%|██████████| 127/127 [00:09<00:00, 14.03it/s]\n"
          ]
        },
        {
          "output_type": "stream",
          "name": "stdout",
          "text": [
            "Train Loss: 0.8215, Train Acc: 65.99%\n",
            "Val Loss: 1.2298, Val Acc: 61.83%\n",
            "\n",
            "Epoch 13/15\n",
            "----------\n"
          ]
        },
        {
          "output_type": "stream",
          "name": "stderr",
          "text": [
            "Training: 100%|██████████| 379/379 [00:32<00:00, 11.68it/s]\n",
            "Validation: 100%|██████████| 127/127 [00:08<00:00, 14.83it/s]\n"
          ]
        },
        {
          "output_type": "stream",
          "name": "stdout",
          "text": [
            "Train Loss: 0.7776, Train Acc: 67.99%\n",
            "Val Loss: 1.2207, Val Acc: 61.46%\n",
            "\n",
            "Epoch 14/15\n",
            "----------\n"
          ]
        },
        {
          "output_type": "stream",
          "name": "stderr",
          "text": [
            "Training: 100%|██████████| 379/379 [00:32<00:00, 11.70it/s]\n",
            "Validation: 100%|██████████| 127/127 [00:07<00:00, 16.59it/s]\n"
          ]
        },
        {
          "output_type": "stream",
          "name": "stdout",
          "text": [
            "Train Loss: 0.7141, Train Acc: 70.55%\n",
            "Val Loss: 1.2606, Val Acc: 62.01%\n",
            "\n",
            "Epoch 15/15\n",
            "----------\n"
          ]
        },
        {
          "output_type": "stream",
          "name": "stderr",
          "text": [
            "Training: 100%|██████████| 379/379 [00:33<00:00, 11.34it/s]\n",
            "Validation: 100%|██████████| 127/127 [00:07<00:00, 17.09it/s]\n"
          ]
        },
        {
          "output_type": "stream",
          "name": "stdout",
          "text": [
            "Train Loss: 0.6741, Train Acc: 71.83%\n",
            "Val Loss: 1.2727, Val Acc: 61.70%\n"
          ]
        },
        {
          "output_type": "display_data",
          "data": {
            "text/plain": [
              "<Figure size 1500x500 with 2 Axes>"
            ],
            "image/png": "[encoded data removed]"
          },
          "metadata": {}
        },
        {
          "output_type": "display_data",
          "data": {
            "text/plain": [
              "<IPython.core.display.HTML object>"
            ],
            "text/html": []
          },
          "metadata": {}
        },
        {
          "output_type": "display_data",
          "data": {
            "text/plain": [
              "<IPython.core.display.HTML object>"
            ],
            "text/html": [
              "<br>    <style><br>        .wandb-row {<br>            display: flex;<br>            flex-direction: row;<br>            flex-wrap: wrap;<br>            justify-content: flex-start;<br>            width: 100%;<br>        }<br>        .wandb-col {<br>            display: flex;<br>            flex-direction: column;<br>            flex-basis: 100%;<br>            flex: 1;<br>            padding: 10px;<br>        }<br>    </style><br><div class=\"wandb-row\"><div class=\"wandb-col\"><h3>Run history:</h3><br/><table class=\"wandb\"><tr><td>best_val_accuracy</td><td>▁</td></tr><tr><td>epoch</td><td>▁▁▂▃▃▃▄▅▅▅▆▇▇▇█</td></tr><tr><td>final_train_accuracy</td><td>▁</td></tr><tr><td>final_val_accuracy</td><td>▁</td></tr><tr><td>learning_rate</td><td>██████████▃▃▃▁▁</td></tr><tr><td>train_accuracy</td><td>▁▃▄▄▅▅▅▆▆▆▇▇▇██</td></tr><tr><td>train_loss</td><td>█▇▆▅▄▄▄▃▃▃▂▂▂▁▁</td></tr><tr><td>val_accuracy</td><td>▁▄▆▆▆▇▇▇▇▇█████</td></tr><tr><td>val_loss</td><td>█▅▄▃▂▂▁▁▂▁▁▂▂▂▂</td></tr></table><br/></div><div class=\"wandb-col\"><h3>Run summary:</h3><br/><table class=\"wandb\"><tr><td>best_val_accuracy</td><td>62.01387</td></tr><tr><td>epoch</td><td>15</td></tr><tr><td>final_train_accuracy</td><td>71.82959</td></tr><tr><td>final_val_accuracy</td><td>61.70424</td></tr><tr><td>learning_rate</td><td>0.00025</td></tr><tr><td>train_accuracy</td><td>71.82959</td></tr><tr><td>train_loss</td><td>0.67412</td></tr><tr><td>val_accuracy</td><td>61.70424</td></tr><tr><td>val_loss</td><td>1.27266</td></tr></table><br/></div></div>"
            ]
          },
          "metadata": {}
        },
        {
          "output_type": "display_data",
          "data": {
            "text/plain": [
              "<IPython.core.display.HTML object>"
            ],
            "text/html": [
              " View run <strong style=\"color:#cdcd00\">CNN_Complex_Optimized</strong> at: <a href='https://wandb.ai/b3tameche-free-university-of-tbilisi-/Facial%20Expression%20Recognition/runs/pl5ayl0m' target=\"_blank\">https://wandb.ai/b3tameche-free-university-of-tbilisi-/Facial%20Expression%20Recognition/runs/pl5ayl0m</a><br> View project at: <a href='https://wandb.ai/b3tameche-free-university-of-tbilisi-/Facial%20Expression%20Recognition' target=\"_blank\">https://wandb.ai/b3tameche-free-university-of-tbilisi-/Facial%20Expression%20Recognition</a><br>Synced 5 W&B file(s), 0 media file(s), 0 artifact file(s) and 1 other file(s)"
            ]
          },
          "metadata": {}
        },
        {
          "output_type": "display_data",
          "data": {
            "text/plain": [
              "<IPython.core.display.HTML object>"
            ],
            "text/html": [
              "Find logs at: <code>./wandb/run-20250608_133802-pl5ayl0m/logs</code>"
            ]
          },
          "metadata": {}
        }
      ]
    },
    {
      "cell_type": "markdown",
      "source": [
        "## 6.3 Fix Optimized Model"
      ],
      "metadata": {
        "id": "ZKjvhYUnwzTp"
      }
    },
    {
      "cell_type": "code",
      "source": [
        "# light transformation\n",
        "train_transform_chain_y = transforms.Compose([\n",
        "    transforms.RandomHorizontalFlip(p=0.3),\n",
        "    transforms.RandomRotation(degrees=5),\n",
        "    transforms.ToTensor(),\n",
        "    transforms.Normalize(mean=[0.5], std=[0.5])\n",
        "])\n",
        "\n",
        "val_transform_chain_y = transforms.Compose([\n",
        "    transforms.ToTensor(),\n",
        "    transforms.Normalize(mean=[0.5], std=[0.5])\n",
        "])\n",
        "\n",
        "train_dataset_y = FERDataset(train_df.reset_index(drop=True), transform=train_transform_chain_y)\n",
        "val_dataset_y = FERDataset(val_df, transform=val_transform_chain_y)\n",
        "test_dataset_y = FERDataset(test_df, transform=val_transform_chain_y)\n",
        "\n",
        "criterion_y = nn.CrossEntropyLoss(weight=class_weights_tensor)\n",
        "\n",
        "# hyperparameters\n",
        "BATCH_SIZE = 64\n",
        "NUM_EPOCHS = 15\n",
        "\n",
        "# data loaders\n",
        "train_loader_y = DataLoader(train_dataset_y, batch_size=BATCH_SIZE, shuffle=True)\n",
        "val_loader_y = DataLoader(val_dataset_y, batch_size=BATCH_SIZE, shuffle=False)\n",
        "test_loader_y = DataLoader(test_dataset_y, batch_size=BATCH_SIZE, shuffle=False)\n",
        "\n",
        "# results\n",
        "results = {}"
      ],
      "metadata": {
        "id": "lCK3M-PC3xDK"
      },
      "execution_count": 40,
      "outputs": []
    },
    {
      "cell_type": "code",
      "source": [
        "print(\"Optimization Fix: Complex Architecture\")\n",
        "model_y = ComplexCNN().to(device)\n",
        "optimizer_y = Adam(model_y.parameters(), lr=0.001)\n",
        "\n",
        "train_losses_y, train_accs_y, val_losses_y, val_accs_y, best_acc_y = train_model_x(\n",
        "    model_y, train_loader_y, val_loader_y, NUM_EPOCHS, optimizer_y, criterion_y, device, \"CNN_Complex_Optimized_Fix\"\n",
        ")"
      ],
      "metadata": {
        "colab": {
          "base_uri": "https://localhost:8080/",
          "height": 1000
        },
        "id": "JZuTwZ_c4bvj",
        "outputId": "6c0107d2-ddde-4d9e-d41d-11928306a75d"
      },
      "execution_count": 41,
      "outputs": [
        {
          "output_type": "stream",
          "name": "stdout",
          "text": [
            "Optimization Fix: Complex Architecture\n"
          ]
        },
        {
          "output_type": "display_data",
          "data": {
            "text/plain": [
              "<IPython.core.display.HTML object>"
            ],
            "text/html": [
              "Tracking run with wandb version 0.20.1"
            ]
          },
          "metadata": {}
        },
        {
          "output_type": "display_data",
          "data": {
            "text/plain": [
              "<IPython.core.display.HTML object>"
            ],
            "text/html": [
              "Run data is saved locally in <code>/content/wandb/run-20250608_142441-5gbj6wit</code>"
            ]
          },
          "metadata": {}
        },
        {
          "output_type": "display_data",
          "data": {
            "text/plain": [
              "<IPython.core.display.HTML object>"
            ],
            "text/html": [
              "Syncing run <strong><a href='https://wandb.ai/b3tameche-free-university-of-tbilisi-/Facial%20Expression%20Recognition/runs/5gbj6wit' target=\"_blank\">CNN_Complex_Optimized_Fix</a></strong> to <a href='https://wandb.ai/b3tameche-free-university-of-tbilisi-/Facial%20Expression%20Recognition' target=\"_blank\">Weights & Biases</a> (<a href='https://wandb.me/developer-guide' target=\"_blank\">docs</a>)<br>"
            ]
          },
          "metadata": {}
        },
        {
          "output_type": "display_data",
          "data": {
            "text/plain": [
              "<IPython.core.display.HTML object>"
            ],
            "text/html": [
              " View project at <a href='https://wandb.ai/b3tameche-free-university-of-tbilisi-/Facial%20Expression%20Recognition' target=\"_blank\">https://wandb.ai/b3tameche-free-university-of-tbilisi-/Facial%20Expression%20Recognition</a>"
            ]
          },
          "metadata": {}
        },
        {
          "output_type": "display_data",
          "data": {
            "text/plain": [
              "<IPython.core.display.HTML object>"
            ],
            "text/html": [
              " View run at <a href='https://wandb.ai/b3tameche-free-university-of-tbilisi-/Facial%20Expression%20Recognition/runs/5gbj6wit' target=\"_blank\">https://wandb.ai/b3tameche-free-university-of-tbilisi-/Facial%20Expression%20Recognition/runs/5gbj6wit</a>"
            ]
          },
          "metadata": {}
        },
        {
          "output_type": "stream",
          "name": "stdout",
          "text": [
            "\n",
            "Epoch 1/15\n",
            "----------\n"
          ]
        },
        {
          "output_type": "stream",
          "name": "stderr",
          "text": [
            "Training: 100%|██████████| 379/379 [00:37<00:00,  9.99it/s]\n",
            "Validation: 100%|██████████| 127/127 [00:07<00:00, 17.27it/s]\n"
          ]
        },
        {
          "output_type": "stream",
          "name": "stdout",
          "text": [
            "Train Loss: 1.9360, Train Acc: 22.61%\n",
            "Val Loss: 1.7509, Val Acc: 31.60%\n",
            "\n",
            "Epoch 2/15\n",
            "----------\n"
          ]
        },
        {
          "output_type": "stream",
          "name": "stderr",
          "text": [
            "Training: 100%|██████████| 379/379 [00:38<00:00,  9.96it/s]\n",
            "Validation: 100%|██████████| 127/127 [00:07<00:00, 16.79it/s]\n"
          ]
        },
        {
          "output_type": "stream",
          "name": "stdout",
          "text": [
            "Train Loss: 1.7064, Train Acc: 34.49%\n",
            "Val Loss: 1.5608, Val Acc: 44.38%\n",
            "\n",
            "Epoch 3/15\n",
            "----------\n"
          ]
        },
        {
          "output_type": "stream",
          "name": "stderr",
          "text": [
            "Training: 100%|██████████| 379/379 [00:38<00:00,  9.81it/s]\n",
            "Validation: 100%|██████████| 127/127 [00:07<00:00, 16.58it/s]\n"
          ]
        },
        {
          "output_type": "stream",
          "name": "stdout",
          "text": [
            "Train Loss: 1.5554, Train Acc: 41.24%\n",
            "Val Loss: 1.4043, Val Acc: 45.24%\n",
            "\n",
            "Epoch 4/15\n",
            "----------\n"
          ]
        },
        {
          "output_type": "stream",
          "name": "stderr",
          "text": [
            "Training: 100%|██████████| 379/379 [00:37<00:00, 10.03it/s]\n",
            "Validation: 100%|██████████| 127/127 [00:08<00:00, 15.08it/s]\n"
          ]
        },
        {
          "output_type": "stream",
          "name": "stdout",
          "text": [
            "Train Loss: 1.4637, Train Acc: 44.25%\n",
            "Val Loss: 1.3542, Val Acc: 48.58%\n",
            "\n",
            "Epoch 5/15\n",
            "----------\n"
          ]
        },
        {
          "output_type": "stream",
          "name": "stderr",
          "text": [
            "Training: 100%|██████████| 379/379 [00:37<00:00, 10.11it/s]\n",
            "Validation: 100%|██████████| 127/127 [00:08<00:00, 15.12it/s]\n"
          ]
        },
        {
          "output_type": "stream",
          "name": "stdout",
          "text": [
            "Train Loss: 1.3943, Train Acc: 47.37%\n",
            "Val Loss: 1.2822, Val Acc: 52.54%\n",
            "\n",
            "Epoch 6/15\n",
            "----------\n"
          ]
        },
        {
          "output_type": "stream",
          "name": "stderr",
          "text": [
            "Training: 100%|██████████| 379/379 [00:37<00:00, 10.23it/s]\n",
            "Validation: 100%|██████████| 127/127 [00:09<00:00, 13.85it/s]\n"
          ]
        },
        {
          "output_type": "stream",
          "name": "stdout",
          "text": [
            "Train Loss: 1.3491, Train Acc: 49.57%\n",
            "Val Loss: 1.2465, Val Acc: 51.75%\n",
            "\n",
            "Epoch 7/15\n",
            "----------\n"
          ]
        },
        {
          "output_type": "stream",
          "name": "stderr",
          "text": [
            "Training: 100%|██████████| 379/379 [00:36<00:00, 10.38it/s]\n",
            "Validation: 100%|██████████| 127/127 [00:08<00:00, 14.39it/s]\n"
          ]
        },
        {
          "output_type": "stream",
          "name": "stdout",
          "text": [
            "Train Loss: 1.2954, Train Acc: 50.69%\n",
            "Val Loss: 1.2254, Val Acc: 54.27%\n",
            "\n",
            "Epoch 8/15\n",
            "----------\n"
          ]
        },
        {
          "output_type": "stream",
          "name": "stderr",
          "text": [
            "Training: 100%|██████████| 379/379 [00:36<00:00, 10.39it/s]\n",
            "Validation: 100%|██████████| 127/127 [00:09<00:00, 13.78it/s]\n"
          ]
        },
        {
          "output_type": "stream",
          "name": "stdout",
          "text": [
            "Train Loss: 1.2547, Train Acc: 52.14%\n",
            "Val Loss: 1.1800, Val Acc: 55.98%\n",
            "\n",
            "Epoch 9/15\n",
            "----------\n"
          ]
        },
        {
          "output_type": "stream",
          "name": "stderr",
          "text": [
            "Training: 100%|██████████| 379/379 [00:36<00:00, 10.39it/s]\n",
            "Validation: 100%|██████████| 127/127 [00:08<00:00, 14.16it/s]\n"
          ]
        },
        {
          "output_type": "stream",
          "name": "stdout",
          "text": [
            "Train Loss: 1.2140, Train Acc: 53.50%\n",
            "Val Loss: 1.1858, Val Acc: 55.71%\n",
            "\n",
            "Epoch 10/15\n",
            "----------\n"
          ]
        },
        {
          "output_type": "stream",
          "name": "stderr",
          "text": [
            "Training: 100%|██████████| 379/379 [00:36<00:00, 10.39it/s]\n",
            "Validation: 100%|██████████| 127/127 [00:09<00:00, 13.88it/s]\n"
          ]
        },
        {
          "output_type": "stream",
          "name": "stdout",
          "text": [
            "Train Loss: 1.1733, Train Acc: 54.71%\n",
            "Val Loss: 1.1548, Val Acc: 56.33%\n",
            "\n",
            "Epoch 11/15\n",
            "----------\n"
          ]
        },
        {
          "output_type": "stream",
          "name": "stderr",
          "text": [
            "Training: 100%|██████████| 379/379 [00:36<00:00, 10.37it/s]\n",
            "Validation: 100%|██████████| 127/127 [00:08<00:00, 14.47it/s]\n"
          ]
        },
        {
          "output_type": "stream",
          "name": "stdout",
          "text": [
            "Train Loss: 1.1506, Train Acc: 55.83%\n",
            "Val Loss: 1.1323, Val Acc: 57.33%\n",
            "\n",
            "Epoch 12/15\n",
            "----------\n"
          ]
        },
        {
          "output_type": "stream",
          "name": "stderr",
          "text": [
            "Training: 100%|██████████| 379/379 [00:36<00:00, 10.33it/s]\n",
            "Validation: 100%|██████████| 127/127 [00:08<00:00, 14.26it/s]\n"
          ]
        },
        {
          "output_type": "stream",
          "name": "stdout",
          "text": [
            "Train Loss: 1.1174, Train Acc: 56.91%\n",
            "Val Loss: 1.1516, Val Acc: 58.52%\n",
            "\n",
            "Epoch 13/15\n",
            "----------\n"
          ]
        },
        {
          "output_type": "stream",
          "name": "stderr",
          "text": [
            "Training: 100%|██████████| 379/379 [00:36<00:00, 10.31it/s]\n",
            "Validation: 100%|██████████| 127/127 [00:08<00:00, 15.26it/s]\n"
          ]
        },
        {
          "output_type": "stream",
          "name": "stdout",
          "text": [
            "Train Loss: 1.0808, Train Acc: 57.95%\n",
            "Val Loss: 1.1395, Val Acc: 59.23%\n",
            "\n",
            "Epoch 14/15\n",
            "----------\n"
          ]
        },
        {
          "output_type": "stream",
          "name": "stderr",
          "text": [
            "Training: 100%|██████████| 379/379 [00:36<00:00, 10.30it/s]\n",
            "Validation: 100%|██████████| 127/127 [00:08<00:00, 14.97it/s]\n"
          ]
        },
        {
          "output_type": "stream",
          "name": "stdout",
          "text": [
            "Train Loss: 1.0673, Train Acc: 58.31%\n",
            "Val Loss: 1.1607, Val Acc: 60.06%\n",
            "\n",
            "Epoch 15/15\n",
            "----------\n"
          ]
        },
        {
          "output_type": "stream",
          "name": "stderr",
          "text": [
            "Training: 100%|██████████| 379/379 [00:37<00:00, 10.23it/s]\n",
            "Validation: 100%|██████████| 127/127 [00:07<00:00, 16.27it/s]\n"
          ]
        },
        {
          "output_type": "stream",
          "name": "stdout",
          "text": [
            "Train Loss: 1.0026, Train Acc: 60.26%\n",
            "Val Loss: 1.0935, Val Acc: 61.59%\n"
          ]
        },
        {
          "output_type": "display_data",
          "data": {
            "text/plain": [
              "<Figure size 1500x500 with 2 Axes>"
            ],
            "image/png": "[encoded data removed]"
          },
          "metadata": {}
        },
        {
          "output_type": "display_data",
          "data": {
            "text/plain": [
              "<IPython.core.display.HTML object>"
            ],
            "text/html": []
          },
          "metadata": {}
        },
        {
          "output_type": "display_data",
          "data": {
            "text/plain": [
              "<IPython.core.display.HTML object>"
            ],
            "text/html": [
              "<br>    <style><br>        .wandb-row {<br>            display: flex;<br>            flex-direction: row;<br>            flex-wrap: wrap;<br>            justify-content: flex-start;<br>            width: 100%;<br>        }<br>        .wandb-col {<br>            display: flex;<br>            flex-direction: column;<br>            flex-basis: 100%;<br>            flex: 1;<br>            padding: 10px;<br>        }<br>    </style><br><div class=\"wandb-row\"><div class=\"wandb-col\"><h3>Run history:</h3><br/><table class=\"wandb\"><tr><td>best_val_accuracy</td><td>▁</td></tr><tr><td>epoch</td><td>▁▁▂▃▃▃▄▅▅▅▆▇▇▇█</td></tr><tr><td>final_train_accuracy</td><td>▁</td></tr><tr><td>final_val_accuracy</td><td>▁</td></tr><tr><td>learning_rate</td><td>██████████████▁</td></tr><tr><td>train_accuracy</td><td>▁▃▄▅▆▆▆▆▇▇▇▇███</td></tr><tr><td>train_loss</td><td>█▆▅▄▄▄▃▃▃▂▂▂▂▁▁</td></tr><tr><td>val_accuracy</td><td>▁▄▄▅▆▆▆▇▇▇▇▇▇██</td></tr><tr><td>val_loss</td><td>█▆▄▄▃▃▂▂▂▂▁▂▁▂▁</td></tr></table><br/></div><div class=\"wandb-col\"><h3>Run summary:</h3><br/><table class=\"wandb\"><tr><td>best_val_accuracy</td><td>61.59277</td></tr><tr><td>epoch</td><td>15</td></tr><tr><td>final_train_accuracy</td><td>60.26255</td></tr><tr><td>final_val_accuracy</td><td>61.59277</td></tr><tr><td>learning_rate</td><td>0.0005</td></tr><tr><td>train_accuracy</td><td>60.26255</td></tr><tr><td>train_loss</td><td>1.00265</td></tr><tr><td>val_accuracy</td><td>61.59277</td></tr><tr><td>val_loss</td><td>1.0935</td></tr></table><br/></div></div>"
            ]
          },
          "metadata": {}
        },
        {
          "output_type": "display_data",
          "data": {
            "text/plain": [
              "<IPython.core.display.HTML object>"
            ],
            "text/html": [
              " View run <strong style=\"color:#cdcd00\">CNN_Complex_Optimized_Fix</strong> at: <a href='https://wandb.ai/b3tameche-free-university-of-tbilisi-/Facial%20Expression%20Recognition/runs/5gbj6wit' target=\"_blank\">https://wandb.ai/b3tameche-free-university-of-tbilisi-/Facial%20Expression%20Recognition/runs/5gbj6wit</a><br> View project at: <a href='https://wandb.ai/b3tameche-free-university-of-tbilisi-/Facial%20Expression%20Recognition' target=\"_blank\">https://wandb.ai/b3tameche-free-university-of-tbilisi-/Facial%20Expression%20Recognition</a><br>Synced 5 W&B file(s), 0 media file(s), 0 artifact file(s) and 1 other file(s)"
            ]
          },
          "metadata": {}
        },
        {
          "output_type": "display_data",
          "data": {
            "text/plain": [
              "<IPython.core.display.HTML object>"
            ],
            "text/html": [
              "Find logs at: <code>./wandb/run-20250608_142441-5gbj6wit/logs</code>"
            ]
          },
          "metadata": {}
        }
      ]
    },
    {
      "cell_type": "code",
      "source": [
        "test_loss_y, test_acc_y, _, _ = validate_epoch(model_y, test_loader_y, criterion_y, device)\n",
        "\n",
        "print(f'\\nTest Loss: {test_loss_y:.4f}, Test Accuracy: {test_acc_y:.4f}')"
      ],
      "metadata": {
        "colab": {
          "base_uri": "https://localhost:8080/"
        },
        "id": "nRF-mda940pi",
        "outputId": "af2bf127-a429-4931-b99d-8b39f2eb055a"
      },
      "execution_count": 46,
      "outputs": [
        {
          "output_type": "stream",
          "name": "stderr",
          "text": [
            "Validation: 100%|██████████| 57/57 [00:04<00:00, 12.48it/s]"
          ]
        },
        {
          "output_type": "stream",
          "name": "stdout",
          "text": [
            "\n",
            "Test Loss: 1.0252, Test Accuracy: 62.7473\n"
          ]
        },
        {
          "output_type": "stream",
          "name": "stderr",
          "text": [
            "\n"
          ]
        }
      ]
    },
    {
      "cell_type": "markdown",
      "source": [
        "# 7. Final Model + Prediction on Testset"
      ],
      "metadata": {
        "id": "r2WqmdZDBmlM"
      }
    },
    {
      "cell_type": "code",
      "source": [
        "def train_epoch_final(model, train_loader, optimizer, criterion, device):\n",
        "    model.train()           # set model to training mode (for BN and Dropout, to only include in training phase)\n",
        "    running_loss = 0.0      # total loss across all batches\n",
        "    correct = 0             # correct predictions\n",
        "    total = 0               # total number of images processed\n",
        "\n",
        "    # iterate through all batches in the training data loader (tqdm for progress bar to estimate time remaining)\n",
        "    for inputs, labels in tqdm(train_loader, desc=\"Training\"):\n",
        "        inputs, labels = inputs.to(device), labels.to(device) # use GPU\n",
        "\n",
        "        optimizer.zero_grad()               # clear gradients from previous batch\n",
        "        output = model(inputs)              # forward\n",
        "        loss = criterion(output, labels)    # loss\n",
        "        loss.backward()                     # backward\n",
        "        torch.nn.utils.clip_grad_norm_(model.parameters(), max_norm=1.0) # gradient scaling\n",
        "        optimizer.step()                    # update model parameters\n",
        "\n",
        "        running_loss += loss.item()\n",
        "        _, predicted = torch.max(output.data, 1)        # predicted class\n",
        "        total += labels.size(0)                         # update total number of images processed\n",
        "        correct += (predicted == labels).sum().item()   # update count of correct predictions\n",
        "\n",
        "    epoch_loss = running_loss / len(train_loader)   # average loss per batch\n",
        "    epoch_acc = correct / total * 100.              # accuracy as percentage\n",
        "\n",
        "    return epoch_loss, epoch_acc\n",
        "\n",
        "def validate_epoch_final(model, val_loader, criterion, device):\n",
        "    model.eval()            # set model to evaluation mode (disables dropout, BN uses running info)\n",
        "    running_loss = 0.0      # total validation loss\n",
        "    correct = 0             # correct predictions\n",
        "    total = 0               # total number of validation images\n",
        "    preds = []              # predictions\n",
        "    true_labels = []        # true labels\n",
        "\n",
        "    # without gradient computation\n",
        "    with torch.no_grad():\n",
        "\n",
        "        # iterate through all batches in the validation data loader\n",
        "        for inputs, labels in tqdm(val_loader, desc=\"Validation\"):\n",
        "            inputs, labels = inputs.to(device), labels.to(device)   # use GPU\n",
        "            output = model(inputs)                                  # forward\n",
        "            loss = criterion(output, labels)                        # loss\n",
        "\n",
        "            running_loss += loss.item()\n",
        "            _, predicted = torch.max(output.data, 1)        # predicted class\n",
        "            total += labels.size(0)                         # update total number of images processed\n",
        "            correct += (predicted == labels).sum().item()   # update count of correct predictions\n",
        "\n",
        "            # numpy works with CPU\n",
        "            preds.extend(predicted.cpu().numpy())\n",
        "            true_labels.extend(labels.cpu().numpy())\n",
        "\n",
        "    epoch_loss = running_loss / len(val_loader)     # average loss per batch\n",
        "    epoch_acc = correct / total * 100.              # accuracy as percentage\n",
        "\n",
        "    return epoch_loss, epoch_acc, preds, true_labels\n",
        "\n",
        "def train_model_final(model, train_loader, val_loader, num_epochs, optimizer, criterion, device, model_name):\n",
        "    # initialize wandb\n",
        "    wandb.init(\n",
        "        project=\"Facial Expression Recognition\",\n",
        "        name=model_name,\n",
        "        config={\n",
        "            \"model\": model_name,\n",
        "            \"epochs\": num_epochs,\n",
        "            \"optimizer\": optimizer.__class__.__name__,\n",
        "            \"learning_rate\": optimizer.param_groups[0]['lr'],\n",
        "            \"batch_size\": train_loader.batch_size,\n",
        "        }\n",
        "    )\n",
        "\n",
        "    # ADDITION: LR scheduler\n",
        "    scheduler = ReduceLROnPlateau(optimizer, mode='min', factor=0.2, patience=1, verbose=True, min_lr=1e-6)\n",
        "\n",
        "    # watch gradients\n",
        "    wandb.watch(model, log=\"all\")\n",
        "\n",
        "    train_losses = []   # training loss per epoch\n",
        "    train_accs = []     # training accuracy per epoch\n",
        "    val_losses = []     # validation loss per epoch\n",
        "    val_accs = []       # validation accuracy per epoch\n",
        "\n",
        "    best_val_acc = 0.0\n",
        "\n",
        "    for epoch in range(num_epochs):\n",
        "        print(f'\\nEpoch {epoch+1}/{num_epochs}')\n",
        "        print('-' * 10)\n",
        "\n",
        "        # train\n",
        "        train_loss, train_acc = train_epoch_final(model, train_loader, optimizer, criterion, device)\n",
        "\n",
        "        # validate\n",
        "        val_loss, val_acc, val_preds, val_targets = validate_epoch_final(model, val_loader, criterion, device)\n",
        "\n",
        "        # store metrics for plotting\n",
        "        train_losses.append(train_loss)\n",
        "        train_accs.append(train_acc)\n",
        "        val_losses.append(val_loss)\n",
        "        val_accs.append(val_acc)\n",
        "\n",
        "        wandb.log({\n",
        "            \"epoch\": epoch + 1,\n",
        "            \"train_loss\": train_loss,\n",
        "            \"train_accuracy\": train_acc,\n",
        "            \"val_loss\": val_loss,\n",
        "            \"val_accuracy\": val_acc,\n",
        "            # ADDITION: log learning rate\n",
        "            \"learning_rate\": optimizer.param_groups[0]['lr']\n",
        "        })\n",
        "\n",
        "        print(f'Train Loss: {train_loss:.4f}, Train Acc: {train_acc:.2f}%')\n",
        "        print(f'Val Loss: {val_loss:.4f}, Val Acc: {val_acc:.2f}%')\n",
        "\n",
        "        # ADDITION: step the scheduler\n",
        "        scheduler.step(val_loss)\n",
        "\n",
        "        # save best model\n",
        "        best_val_acc = max(best_val_acc, val_acc)\n",
        "\n",
        "    # plotting\n",
        "    plt.figure(figsize=(15, 5))\n",
        "\n",
        "    # loss curves\n",
        "    plt.subplot(1, 2, 1)\n",
        "    plt.plot(train_losses, label='Train Loss')      # training loss over epochs\n",
        "    plt.plot(val_losses, label='Val Loss')          # validation loss over epochs\n",
        "    plt.title(f'{model_name} - Loss')\n",
        "    plt.xlabel('Epoch')\n",
        "    plt.ylabel('Loss')\n",
        "    plt.legend()\n",
        "\n",
        "    # accuracy curves\n",
        "    plt.subplot(1, 2, 2)\n",
        "    plt.plot(train_accs, label='Train Acc')     # training accuracy over epochs\n",
        "    plt.plot(val_accs, label='Val Acc')         # validation accuracy over epochs\n",
        "    plt.title(f'{model_name} - Accuracy')\n",
        "    plt.xlabel('Epoch')\n",
        "    plt.ylabel('Accuracy')\n",
        "    plt.legend()\n",
        "\n",
        "    plt.tight_layout()\n",
        "    plt.show()\n",
        "\n",
        "    # log final metrics to wandb\n",
        "    wandb.log({\n",
        "        \"best_val_accuracy\": best_val_acc,\n",
        "        \"final_train_accuracy\": train_accs[-1],\n",
        "        \"final_val_accuracy\": val_accs[-1],\n",
        "    })\n",
        "\n",
        "    # log model\n",
        "    model.eval()\n",
        "    dummy_input = torch.randn(1, 1, 48, 48).to(device) # dummy input for exporting\n",
        "    torch.onnx.export(model, dummy_input, f\"{model_name}.onnx\")\n",
        "    wandb.save(f\"{model_name}.onnx\")\n",
        "\n",
        "    wandb.finish()\n",
        "\n",
        "    return train_losses, train_accs, val_losses, val_accs, best_val_acc"
      ],
      "metadata": {
        "id": "0M3t51HlBsQQ"
      },
      "execution_count": 47,
      "outputs": []
    },
    {
      "cell_type": "code",
      "source": [
        "# light transformation\n",
        "train_transform_chain_final = transforms.Compose([\n",
        "    transforms.RandomHorizontalFlip(p=0.3),\n",
        "    transforms.RandomRotation(degrees=5),\n",
        "    transforms.ToTensor(),\n",
        "    transforms.Normalize(mean=[0.5], std=[0.5])\n",
        "])\n",
        "\n",
        "val_transform_chain_final = transforms.Compose([\n",
        "    transforms.ToTensor(),\n",
        "    transforms.Normalize(mean=[0.5], std=[0.5])\n",
        "])\n",
        "\n",
        "train_dataset_final = FERDataset(train_df.reset_index(drop=True), transform=train_transform_chain_final)\n",
        "val_dataset_final = FERDataset(val_df, transform=val_transform_chain_final)\n",
        "test_dataset_final = FERDataset(test_df, transform=val_transform_chain_final)\n",
        "\n",
        "criterion_final = nn.CrossEntropyLoss(weight=class_weights_tensor)\n",
        "\n",
        "# hyperparameters\n",
        "BATCH_SIZE = 64\n",
        "NUM_EPOCHS = 30\n",
        "\n",
        "# data loaders\n",
        "train_loader_final = DataLoader(train_dataset_final, batch_size=BATCH_SIZE, shuffle=True)\n",
        "val_loader_final = DataLoader(val_dataset_final, batch_size=BATCH_SIZE, shuffle=False)\n",
        "test_loader_final = DataLoader(test_dataset_final, batch_size=BATCH_SIZE, shuffle=False)"
      ],
      "metadata": {
        "id": "-1QM6E0ADHr0"
      },
      "execution_count": 48,
      "outputs": []
    },
    {
      "cell_type": "code",
      "source": [
        "print(\"Final Model\")\n",
        "model_final = ComplexCNN().to(device)\n",
        "optimizer_final = Adam(model_final.parameters(), lr=0.001)\n",
        "\n",
        "train_losses_final, train_accs_final, val_losses_final, val_accs_final, best_acc_final = train_model_final(\n",
        "    model_final, train_loader_final, val_loader_final, NUM_EPOCHS, optimizer_final, criterion_final, device, \"CNN_Final\"\n",
        ")"
      ],
      "metadata": {
        "colab": {
          "base_uri": "https://localhost:8080/",
          "height": 1000
        },
        "id": "rsiWXP-bDmzl",
        "outputId": "63fd43e0-813f-4bf7-e2bc-4485ddc1dcf1"
      },
      "execution_count": null,
      "outputs": [
        {
          "output_type": "stream",
          "name": "stdout",
          "text": [
            "Final Model\n"
          ]
        },
        {
          "output_type": "display_data",
          "data": {
            "text/plain": [
              "<IPython.core.display.HTML object>"
            ],
            "text/html": [
              "Finishing previous runs because reinit is set to 'default'."
            ]
          },
          "metadata": {}
        },
        {
          "output_type": "display_data",
          "data": {
            "text/plain": [
              "<IPython.core.display.HTML object>"
            ],
            "text/html": []
          },
          "metadata": {}
        },
        {
          "output_type": "display_data",
          "data": {
            "text/plain": [
              "<IPython.core.display.HTML object>"
            ],
            "text/html": [
              " View run <strong style=\"color:#cdcd00\">CNN_Final</strong> at: <a href='https://wandb.ai/b3tameche-free-university-of-tbilisi-/Facial%20Expression%20Recognition/runs/5vksjgxx' target=\"_blank\">https://wandb.ai/b3tameche-free-university-of-tbilisi-/Facial%20Expression%20Recognition/runs/5vksjgxx</a><br> View project at: <a href='https://wandb.ai/b3tameche-free-university-of-tbilisi-/Facial%20Expression%20Recognition' target=\"_blank\">https://wandb.ai/b3tameche-free-university-of-tbilisi-/Facial%20Expression%20Recognition</a><br>Synced 5 W&B file(s), 0 media file(s), 0 artifact file(s) and 0 other file(s)"
            ]
          },
          "metadata": {}
        },
        {
          "output_type": "display_data",
          "data": {
            "text/plain": [
              "<IPython.core.display.HTML object>"
            ],
            "text/html": [
              "Find logs at: <code>./wandb/run-20250608_150245-5vksjgxx/logs</code>"
            ]
          },
          "metadata": {}
        },
        {
          "output_type": "display_data",
          "data": {
            "text/plain": [
              "<IPython.core.display.HTML object>"
            ],
            "text/html": [
              "Tracking run with wandb version 0.20.1"
            ]
          },
          "metadata": {}
        },
        {
          "output_type": "display_data",
          "data": {
            "text/plain": [
              "<IPython.core.display.HTML object>"
            ],
            "text/html": [
              "Run data is saved locally in <code>/content/wandb/run-20250608_150306-4lf50nq8</code>"
            ]
          },
          "metadata": {}
        },
        {
          "output_type": "display_data",
          "data": {
            "text/plain": [
              "<IPython.core.display.HTML object>"
            ],
            "text/html": [
              "Syncing run <strong><a href='https://wandb.ai/b3tameche-free-university-of-tbilisi-/Facial%20Expression%20Recognition/runs/4lf50nq8' target=\"_blank\">CNN_Final</a></strong> to <a href='https://wandb.ai/b3tameche-free-university-of-tbilisi-/Facial%20Expression%20Recognition' target=\"_blank\">Weights & Biases</a> (<a href='https://wandb.me/developer-guide' target=\"_blank\">docs</a>)<br>"
            ]
          },
          "metadata": {}
        },
        {
          "output_type": "display_data",
          "data": {
            "text/plain": [
              "<IPython.core.display.HTML object>"
            ],
            "text/html": [
              " View project at <a href='https://wandb.ai/b3tameche-free-university-of-tbilisi-/Facial%20Expression%20Recognition' target=\"_blank\">https://wandb.ai/b3tameche-free-university-of-tbilisi-/Facial%20Expression%20Recognition</a>"
            ]
          },
          "metadata": {}
        },
        {
          "output_type": "display_data",
          "data": {
            "text/plain": [
              "<IPython.core.display.HTML object>"
            ],
            "text/html": [
              " View run at <a href='https://wandb.ai/b3tameche-free-university-of-tbilisi-/Facial%20Expression%20Recognition/runs/4lf50nq8' target=\"_blank\">https://wandb.ai/b3tameche-free-university-of-tbilisi-/Facial%20Expression%20Recognition/runs/4lf50nq8</a>"
            ]
          },
          "metadata": {}
        },
        {
          "output_type": "stream",
          "name": "stderr",
          "text": [
            "/usr/local/lib/python3.11/dist-packages/torch/optim/lr_scheduler.py:62: UserWarning: The verbose parameter is deprecated. Please use get_last_lr() to access the learning rate.\n",
            "  warnings.warn(\n"
          ]
        },
        {
          "output_type": "stream",
          "name": "stdout",
          "text": [
            "\n",
            "Epoch 1/30\n",
            "----------\n"
          ]
        },
        {
          "output_type": "stream",
          "name": "stderr",
          "text": [
            "Training: 100%|██████████| 379/379 [00:37<00:00, 10.17it/s]\n",
            "Validation: 100%|██████████| 127/127 [00:07<00:00, 17.93it/s]\n"
          ]
        },
        {
          "output_type": "stream",
          "name": "stdout",
          "text": [
            "Train Loss: 1.9495, Train Acc: 20.04%\n",
            "Val Loss: 1.7746, Val Acc: 24.50%\n",
            "\n",
            "Epoch 2/30\n",
            "----------\n"
          ]
        },
        {
          "output_type": "stream",
          "name": "stderr",
          "text": [
            "Training: 100%|██████████| 379/379 [00:37<00:00, 10.17it/s]\n",
            "Validation: 100%|██████████| 127/127 [00:07<00:00, 17.04it/s]\n"
          ]
        },
        {
          "output_type": "stream",
          "name": "stdout",
          "text": [
            "Train Loss: 1.7448, Train Acc: 32.79%\n",
            "Val Loss: 1.5828, Val Acc: 41.17%\n",
            "\n",
            "Epoch 3/30\n",
            "----------\n"
          ]
        },
        {
          "output_type": "stream",
          "name": "stderr",
          "text": [
            "Training: 100%|██████████| 379/379 [00:38<00:00,  9.78it/s]\n",
            "Validation: 100%|██████████| 127/127 [00:07<00:00, 15.89it/s]\n"
          ]
        },
        {
          "output_type": "stream",
          "name": "stdout",
          "text": [
            "Train Loss: 1.5868, Train Acc: 40.00%\n",
            "Val Loss: 1.4639, Val Acc: 47.55%\n",
            "\n",
            "Epoch 4/30\n",
            "----------\n"
          ]
        },
        {
          "output_type": "stream",
          "name": "stderr",
          "text": [
            "Training: 100%|██████████| 379/379 [00:37<00:00, 10.04it/s]\n",
            "Validation: 100%|██████████| 127/127 [00:07<00:00, 17.42it/s]\n"
          ]
        },
        {
          "output_type": "stream",
          "name": "stdout",
          "text": [
            "Train Loss: 1.4602, Train Acc: 45.05%\n",
            "Val Loss: 1.3727, Val Acc: 49.37%\n",
            "\n",
            "Epoch 5/30\n",
            "----------\n"
          ]
        },
        {
          "output_type": "stream",
          "name": "stderr",
          "text": [
            "Training: 100%|██████████| 379/379 [00:37<00:00, 10.19it/s]\n",
            "Validation: 100%|██████████| 127/127 [00:07<00:00, 17.75it/s]\n"
          ]
        },
        {
          "output_type": "stream",
          "name": "stdout",
          "text": [
            "Train Loss: 1.3884, Train Acc: 47.91%\n",
            "Val Loss: 1.2684, Val Acc: 52.03%\n",
            "\n",
            "Epoch 6/30\n",
            "----------\n"
          ]
        },
        {
          "output_type": "stream",
          "name": "stderr",
          "text": [
            "Training: 100%|██████████| 379/379 [00:37<00:00, 10.11it/s]\n",
            "Validation: 100%|██████████| 127/127 [00:07<00:00, 16.99it/s]\n"
          ]
        },
        {
          "output_type": "stream",
          "name": "stdout",
          "text": [
            "Train Loss: 1.3314, Train Acc: 49.27%\n",
            "Val Loss: 1.2628, Val Acc: 52.91%\n",
            "\n",
            "Epoch 7/30\n",
            "----------\n"
          ]
        },
        {
          "output_type": "stream",
          "name": "stderr",
          "text": [
            "Training: 100%|██████████| 379/379 [00:37<00:00, 10.03it/s]\n",
            "Validation: 100%|██████████| 127/127 [00:07<00:00, 17.59it/s]\n"
          ]
        },
        {
          "output_type": "stream",
          "name": "stdout",
          "text": [
            "Train Loss: 1.2917, Train Acc: 50.81%\n",
            "Val Loss: 1.2106, Val Acc: 53.63%\n",
            "\n",
            "Epoch 8/30\n",
            "----------\n"
          ]
        },
        {
          "output_type": "stream",
          "name": "stderr",
          "text": [
            "Training: 100%|██████████| 379/379 [00:37<00:00, 10.15it/s]\n",
            "Validation: 100%|██████████| 127/127 [00:07<00:00, 16.84it/s]\n"
          ]
        },
        {
          "output_type": "stream",
          "name": "stdout",
          "text": [
            "Train Loss: 1.2554, Train Acc: 52.47%\n",
            "Val Loss: 1.2062, Val Acc: 53.73%\n",
            "\n",
            "Epoch 9/30\n",
            "----------\n"
          ]
        },
        {
          "output_type": "stream",
          "name": "stderr",
          "text": [
            "Training: 100%|██████████| 379/379 [00:37<00:00, 10.16it/s]\n",
            "Validation: 100%|██████████| 127/127 [00:07<00:00, 17.10it/s]\n"
          ]
        },
        {
          "output_type": "stream",
          "name": "stdout",
          "text": [
            "Train Loss: 1.2185, Train Acc: 53.01%\n",
            "Val Loss: 1.1654, Val Acc: 56.59%\n",
            "\n",
            "Epoch 10/30\n",
            "----------\n"
          ]
        },
        {
          "output_type": "stream",
          "name": "stderr",
          "text": [
            "Training: 100%|██████████| 379/379 [00:36<00:00, 10.31it/s]\n",
            "Validation: 100%|██████████| 127/127 [00:07<00:00, 16.69it/s]\n"
          ]
        },
        {
          "output_type": "stream",
          "name": "stdout",
          "text": [
            "Train Loss: 1.1804, Train Acc: 54.87%\n",
            "Val Loss: 1.1995, Val Acc: 56.94%\n",
            "\n",
            "Epoch 11/30\n",
            "----------\n"
          ]
        },
        {
          "output_type": "stream",
          "name": "stderr",
          "text": [
            "Training: 100%|██████████| 379/379 [00:36<00:00, 10.29it/s]\n",
            "Validation: 100%|██████████| 127/127 [00:07<00:00, 17.53it/s]\n"
          ]
        },
        {
          "output_type": "stream",
          "name": "stdout",
          "text": [
            "Train Loss: 1.1407, Train Acc: 55.57%\n",
            "Val Loss: 1.1663, Val Acc: 57.67%\n",
            "\n",
            "Epoch 12/30\n",
            "----------\n"
          ]
        },
        {
          "output_type": "stream",
          "name": "stderr",
          "text": [
            "Training: 100%|██████████| 379/379 [00:36<00:00, 10.32it/s]\n",
            "Validation: 100%|██████████| 127/127 [00:07<00:00, 16.96it/s]\n"
          ]
        },
        {
          "output_type": "stream",
          "name": "stdout",
          "text": [
            "Train Loss: 1.0751, Train Acc: 57.55%\n",
            "Val Loss: 1.1123, Val Acc: 59.71%\n",
            "\n",
            "Epoch 13/30\n",
            "----------\n"
          ]
        },
        {
          "output_type": "stream",
          "name": "stderr",
          "text": [
            "Training: 100%|██████████| 379/379 [00:36<00:00, 10.31it/s]\n",
            "Validation: 100%|██████████| 127/127 [00:07<00:00, 17.90it/s]\n"
          ]
        },
        {
          "output_type": "stream",
          "name": "stdout",
          "text": [
            "Train Loss: 1.0346, Train Acc: 58.69%\n",
            "Val Loss: 1.1104, Val Acc: 60.64%\n",
            "\n",
            "Epoch 14/30\n",
            "----------\n"
          ]
        },
        {
          "output_type": "stream",
          "name": "stderr",
          "text": [
            "Training: 100%|██████████| 379/379 [00:36<00:00, 10.25it/s]\n",
            "Validation: 100%|██████████| 127/127 [00:07<00:00, 17.09it/s]\n"
          ]
        },
        {
          "output_type": "stream",
          "name": "stdout",
          "text": [
            "Train Loss: 1.0113, Train Acc: 59.78%\n",
            "Val Loss: 1.1099, Val Acc: 60.79%\n",
            "\n",
            "Epoch 15/30\n",
            "----------\n"
          ]
        },
        {
          "output_type": "stream",
          "name": "stderr",
          "text": [
            "Training: 100%|██████████| 379/379 [00:36<00:00, 10.27it/s]\n",
            "Validation: 100%|██████████| 127/127 [00:07<00:00, 17.79it/s]\n"
          ]
        },
        {
          "output_type": "stream",
          "name": "stdout",
          "text": [
            "Train Loss: 1.0023, Train Acc: 60.30%\n",
            "Val Loss: 1.1133, Val Acc: 60.50%\n",
            "\n",
            "Epoch 16/30\n",
            "----------\n"
          ]
        },
        {
          "output_type": "stream",
          "name": "stderr",
          "text": [
            "Training: 100%|██████████| 379/379 [00:37<00:00, 10.14it/s]\n",
            "Validation: 100%|██████████| 127/127 [00:07<00:00, 16.72it/s]\n"
          ]
        },
        {
          "output_type": "stream",
          "name": "stdout",
          "text": [
            "Train Loss: 0.9897, Train Acc: 60.50%\n",
            "Val Loss: 1.1119, Val Acc: 61.13%\n",
            "\n",
            "Epoch 17/30\n",
            "----------\n"
          ]
        },
        {
          "output_type": "stream",
          "name": "stderr",
          "text": [
            "Training: 100%|██████████| 379/379 [00:36<00:00, 10.26it/s]\n",
            "Validation: 100%|██████████| 127/127 [00:07<00:00, 17.98it/s]\n"
          ]
        },
        {
          "output_type": "stream",
          "name": "stdout",
          "text": [
            "Train Loss: 0.9709, Train Acc: 61.25%\n",
            "Val Loss: 1.1014, Val Acc: 61.02%\n",
            "\n",
            "Epoch 18/30\n",
            "----------\n"
          ]
        },
        {
          "output_type": "stream",
          "name": "stderr",
          "text": [
            "Training: 100%|██████████| 379/379 [00:37<00:00, 10.21it/s]\n",
            "Validation: 100%|██████████| 127/127 [00:07<00:00, 16.74it/s]\n"
          ]
        },
        {
          "output_type": "stream",
          "name": "stdout",
          "text": [
            "Train Loss: 0.9564, Train Acc: 61.66%\n",
            "Val Loss: 1.1115, Val Acc: 61.53%\n",
            "\n",
            "Epoch 19/30\n",
            "----------\n"
          ]
        },
        {
          "output_type": "stream",
          "name": "stderr",
          "text": [
            "Training: 100%|██████████| 379/379 [00:36<00:00, 10.28it/s]\n",
            "Validation: 100%|██████████| 127/127 [00:07<00:00, 17.94it/s]\n"
          ]
        },
        {
          "output_type": "stream",
          "name": "stdout",
          "text": [
            "Train Loss: 0.9583, Train Acc: 61.51%\n",
            "Val Loss: 1.1044, Val Acc: 61.31%\n",
            "\n",
            "Epoch 20/30\n",
            "----------\n"
          ]
        },
        {
          "output_type": "stream",
          "name": "stderr",
          "text": [
            "Training: 100%|██████████| 379/379 [00:37<00:00, 10.18it/s]\n",
            "Validation: 100%|██████████| 127/127 [00:07<00:00, 16.42it/s]\n"
          ]
        },
        {
          "output_type": "stream",
          "name": "stdout",
          "text": [
            "Train Loss: 0.9558, Train Acc: 61.84%\n",
            "Val Loss: 1.1108, Val Acc: 61.59%\n",
            "\n",
            "Epoch 21/30\n",
            "----------\n"
          ]
        },
        {
          "output_type": "stream",
          "name": "stderr",
          "text": [
            "Training: 100%|██████████| 379/379 [00:37<00:00, 10.14it/s]\n",
            "Validation: 100%|██████████| 127/127 [00:07<00:00, 17.66it/s]\n"
          ]
        },
        {
          "output_type": "stream",
          "name": "stdout",
          "text": [
            "Train Loss: 0.9498, Train Acc: 61.78%\n",
            "Val Loss: 1.1065, Val Acc: 61.83%\n",
            "\n",
            "Epoch 22/30\n",
            "----------\n"
          ]
        },
        {
          "output_type": "stream",
          "name": "stderr",
          "text": [
            "Training: 100%|██████████| 379/379 [00:37<00:00, 10.16it/s]\n",
            "Validation: 100%|██████████| 127/127 [00:07<00:00, 17.66it/s]\n"
          ]
        },
        {
          "output_type": "stream",
          "name": "stdout",
          "text": [
            "Train Loss: 0.9536, Train Acc: 61.52%\n",
            "Val Loss: 1.1130, Val Acc: 61.28%\n",
            "\n",
            "Epoch 23/30\n",
            "----------\n"
          ]
        },
        {
          "output_type": "stream",
          "name": "stderr",
          "text": [
            "Training:  88%|████████▊ | 334/379 [00:32<00:05,  8.43it/s]"
          ]
        }
      ]
    },
    {
      "cell_type": "code",
      "source": [],
      "metadata": {
        "id": "Lsk0QttPEMDO"
      },
      "execution_count": null,
      "outputs": []
    }
  ],
  "metadata": {
    "colab": {
      "provenance": [],
      "gpuType": "T4"
    },
    "kernelspec": {
      "display_name": "Python 3",
      "name": "python3"
    },
    "language_info": {
      "name": "python"
    },
    "accelerator": "GPU"
  },
  "nbformat": 4,
  "nbformat_minor": 0
}