{
  "cells": [
    {
      "cell_type": "markdown",
      "metadata": {
        "id": "zOB1myDYM4eV"
      },
      "source": [
        "# 1. Initializations and Dataset Download"
      ]
    },
    {
      "cell_type": "code",
      "execution_count": 2,
      "metadata": {
        "colab": {
          "base_uri": "https://localhost:8080/"
        },
        "id": "Fr-W57XmM4eW",
        "outputId": "676a1e11-2aa8-4573-dc33-a3ec6f3fadba"
      },
      "outputs": [
        {
          "output_type": "stream",
          "name": "stdout",
          "text": [
            "\u001b[2K   \u001b[90m━━━━━━━━━━━━━━━━━━━━━━━━━━━━━━━━━━━━━━━━\u001b[0m \u001b[32m23.2/23.2 MB\u001b[0m \u001b[31m73.2 MB/s\u001b[0m eta \u001b[36m0:00:00\u001b[0m\n",
            "\u001b[2K   \u001b[90m━━━━━━━━━━━━━━━━━━━━━━━━━━━━━━━━━━━━━━━━\u001b[0m \u001b[32m17.6/17.6 MB\u001b[0m \u001b[31m75.8 MB/s\u001b[0m eta \u001b[36m0:00:00\u001b[0m\n",
            "\u001b[?25hMounted at /content/drive\n"
          ]
        }
      ],
      "source": [
        "!pip install kaggle wandb onnx -Uq\n",
        "from google.colab import drive\n",
        "drive.mount('/content/drive')"
      ]
    },
    {
      "cell_type": "code",
      "execution_count": 3,
      "metadata": {
        "id": "tn1Tr6q6M4eX"
      },
      "outputs": [],
      "source": [
        "! mkdir ~/.kaggle"
      ]
    },
    {
      "cell_type": "code",
      "execution_count": 4,
      "metadata": {
        "id": "dr3GSGhHM4eX"
      },
      "outputs": [],
      "source": [
        "!cp /content/drive/MyDrive/ML/kaggle/kaggle.json ~/.kaggle/kaggle.json"
      ]
    },
    {
      "cell_type": "code",
      "execution_count": 5,
      "metadata": {
        "id": "e0XzCxHzM4eX"
      },
      "outputs": [],
      "source": [
        "! chmod 600 ~/.kaggle/kaggle.json"
      ]
    },
    {
      "cell_type": "code",
      "execution_count": 6,
      "metadata": {
        "colab": {
          "base_uri": "https://localhost:8080/"
        },
        "id": "1DOrykZSM4eY",
        "outputId": "2ecd3b45-bb97-4bce-c80d-91cfce7e18eb"
      },
      "outputs": [
        {
          "output_type": "stream",
          "name": "stdout",
          "text": [
            "Downloading challenges-in-representation-learning-facial-expression-recognition-challenge.zip to /content\n",
            " 96% 274M/285M [00:00<00:00, 527MB/s]\n",
            "100% 285M/285M [00:00<00:00, 561MB/s]\n"
          ]
        }
      ],
      "source": [
        "! kaggle competitions download -c challenges-in-representation-learning-facial-expression-recognition-challenge"
      ]
    },
    {
      "cell_type": "code",
      "execution_count": 7,
      "metadata": {
        "colab": {
          "base_uri": "https://localhost:8080/"
        },
        "id": "XbF23WCAM4eY",
        "outputId": "c91e43b6-1594-4c7c-e611-570cecfbf2dd"
      },
      "outputs": [
        {
          "output_type": "stream",
          "name": "stdout",
          "text": [
            "Archive:  challenges-in-representation-learning-facial-expression-recognition-challenge.zip\n",
            "  inflating: facial-expression-recognition-dataset/example_submission.csv  \n",
            "  inflating: facial-expression-recognition-dataset/fer2013.tar.gz  \n",
            "  inflating: facial-expression-recognition-dataset/icml_face_data.csv  \n",
            "  inflating: facial-expression-recognition-dataset/test.csv  \n",
            "  inflating: facial-expression-recognition-dataset/train.csv  \n"
          ]
        }
      ],
      "source": [
        "! unzip challenges-in-representation-learning-facial-expression-recognition-challenge.zip -d facial-expression-recognition-dataset"
      ]
    },
    {
      "cell_type": "code",
      "source": [
        "!tar -xzvf facial-expression-recognition-dataset/fer2013.tar.gz"
      ],
      "metadata": {
        "id": "ClIOvCANUl2v",
        "outputId": "0c350407-6fa2-4d5f-eb33-79f7511ed601",
        "colab": {
          "base_uri": "https://localhost:8080/"
        }
      },
      "execution_count": 8,
      "outputs": [
        {
          "output_type": "stream",
          "name": "stdout",
          "text": [
            "fer2013/fer2013.csv\n",
            "fer2013/README\n",
            "fer2013/fer2013.bib\n",
            "fer2013/\n"
          ]
        }
      ]
    },
    {
      "cell_type": "markdown",
      "metadata": {
        "id": "hTBp-uigM4eY"
      },
      "source": [
        "Now I should have directory `facial-expression-recognition-dataset` containing dataset files from kaggle"
      ]
    },
    {
      "cell_type": "markdown",
      "metadata": {
        "id": "HnLmsXVzM4eZ"
      },
      "source": [
        "# 2. Imports\n",
        "Lets start by getting all our imports, keep in mind that PyTorch is not automatically detects and trains on GPU, you have to tell it to use cuda. In case you want to train on Mac Silicon replace cuda with mps."
      ]
    },
    {
      "cell_type": "code",
      "execution_count": 9,
      "metadata": {
        "colab": {
          "base_uri": "https://localhost:8080/"
        },
        "id": "H-b1wLCJM4eZ",
        "outputId": "478f083b-93b7-48a6-baf9-3b3f5b031104"
      },
      "outputs": [
        {
          "output_type": "stream",
          "name": "stdout",
          "text": [
            "Device available:  cuda\n"
          ]
        }
      ],
      "source": [
        "import torch # Main PyTorch Library\n",
        "from torch import nn # Used for creating the layers and loss function\n",
        "from torch.optim import Adam # Adam Optimizer\n",
        "import torchvision.transforms as transforms # Transform function used to modify and preprocess all the images\n",
        "from torch.utils.data import Dataset, DataLoader # Dataset class and DataLoader for creating the objects\n",
        "from sklearn.preprocessing import LabelEncoder # Label Encoder to encode the classes from strings to numbers\n",
        "from sklearn.model_selection import train_test_split # Train/Test split\n",
        "import matplotlib.pyplot as plt # Used for visualizing the images and plotting the training progress\n",
        "from PIL import Image # Used to read the images from the directory\n",
        "import pandas as pd # Used to read/create dataframes (csv) and process tabular data\n",
        "import numpy as np # preprocessing and numerical/mathematical operations\n",
        "import os # Used to read the images path from the directory\n",
        "\n",
        "device = \"cuda\" if torch.cuda.is_available() else \"cpu\" # detect the GPU if any, if not use CPU, change cuda to mps if you have a mac\n",
        "print(\"Device available: \", device)"
      ]
    },
    {
      "cell_type": "markdown",
      "source": [
        "# 3. Data Exploration"
      ],
      "metadata": {
        "id": "U-aQ21lLO2ZQ"
      }
    },
    {
      "cell_type": "markdown",
      "source": [
        "### 3.1 Data Loading"
      ],
      "metadata": {
        "id": "QaMOp_-uUENH"
      }
    },
    {
      "cell_type": "code",
      "source": [
        "df = pd.read_csv('fer2013/fer2013.csv')\n",
        "\n",
        "train_df = df[df['Usage'] == 'Training']\n",
        "val_df = df[df['Usage'] == \"PublicTest\"]\n",
        "test_df = df[df['Usage'] == \"PrivateTest\"]\n",
        "\n",
        "print(f\"trainset shape: {train_df.shape}\")\n",
        "print(f\"valset shape: {val_df.shape}\")\n",
        "print(f\"testset shape: {test_df.shape}\")\n",
        "print(f\"\\nEmotion distribution in trainset:\")\n",
        "print(train_df['emotion'].value_counts().sort_values(ascending=False))\n",
        "\n",
        "emotion_labels = {0: 'Angry', 1: 'Disgust', 2: 'Fear', 3: 'Happy', 4: 'Sad', 5: 'Surprise', 6: 'Neutral'}"
      ],
      "metadata": {
        "id": "OaZ5lKjwQelQ",
        "outputId": "7032aa78-4ea5-4ac3-e8b9-67a1ee1f50bf",
        "colab": {
          "base_uri": "https://localhost:8080/"
        }
      },
      "execution_count": 10,
      "outputs": [
        {
          "output_type": "stream",
          "name": "stdout",
          "text": [
            "trainset shape: (28709, 3)\n",
            "valset shape: (3589, 3)\n",
            "testset shape: (3589, 3)\n",
            "\n",
            "Emotion distribution in trainset:\n",
            "emotion\n",
            "3    7215\n",
            "6    4965\n",
            "4    4830\n",
            "2    4097\n",
            "0    3995\n",
            "5    3171\n",
            "1     436\n",
            "Name: count, dtype: int64\n"
          ]
        }
      ]
    },
    {
      "cell_type": "markdown",
      "source": [
        "### 3.2 Data Inspection"
      ],
      "metadata": {
        "id": "Fga_2S-bQ5h6"
      }
    },
    {
      "cell_type": "code",
      "source": [
        "def plot_sample_images(df, num_samples=8):\n",
        "    _, axes = plt.subplots(2, 4, figsize=(8, 4))\n",
        "    axes = axes.ravel()\n",
        "\n",
        "    for i in range(num_samples):\n",
        "        # random sample\n",
        "        idx = np.random.randint(0, len(df))\n",
        "        emotion = df.iloc[idx]['emotion']\n",
        "        pixels = df.iloc[idx]['pixels']\n",
        "\n",
        "        # convert bytearray to grayscale image\n",
        "        pixel_values = np.array(pixels.split(), dtype=np.uint8)\n",
        "        image = pixel_values.reshape(48, 48)\n",
        "\n",
        "        axes[i].imshow(image, cmap='gray')\n",
        "        axes[i].set_title(f'{emotion_labels[emotion]}')\n",
        "        axes[i].axis('off')\n",
        "\n",
        "    plt.tight_layout()\n",
        "    plt.show()\n",
        "\n",
        "plot_sample_images(train_df)"
      ],
      "metadata": {
        "id": "2BzoO6znUOYR",
        "outputId": "ad98ecae-7d6a-4ea7-edfb-7991ee52a213",
        "colab": {
          "base_uri": "https://localhost:8080/",
          "height": 409
        }
      },
      "execution_count": 11,
      "outputs": [
        {
          "output_type": "display_data",
          "data": {
            "text/plain": [
              "<Figure size 800x400 with 8 Axes>"
            ],
            "image/png": "[encoded data removed]"
          },
          "metadata": {}
        }
      ]
    },
    {
      "cell_type": "markdown",
      "source": [
        "### 3.3 Custom Dataset Class"
      ],
      "metadata": {
        "id": "Xh2dx4hAUahc"
      }
    },
    {
      "cell_type": "code",
      "source": [
        "class FERDataset(Dataset):\n",
        "    def __init__(self, dataframe, transform=None, is_test=False):\n",
        "        self.dataframe = dataframe\n",
        "        self.transform = transform\n",
        "        self.is_test = is_test\n",
        "\n",
        "    def __len__(self):\n",
        "        return self.dataframe.shape[0]\n",
        "\n",
        "    def __getitem__(self, idx):\n",
        "        pixels = self.dataframe.iloc[idx, 1]\n",
        "        pixel_values = np.array(pixels.split(), dtype=np.float32)\n",
        "        image = pixel_values.reshape(48, 48, 1) # add channel\n",
        "        image = Image.fromarray(image.squeeze(), mode='L') # convert to PIL image\n",
        "\n",
        "        if self.transform:\n",
        "            image = self.transform(image).to(device)\n",
        "\n",
        "        if not self.is_test:\n",
        "            emotion = self.dataframe.iloc[idx, 0]\n",
        "            return image, emotion\n",
        "        else:\n",
        "            return image"
      ],
      "metadata": {
        "id": "oaVJ92Z_e5cY"
      },
      "execution_count": 12,
      "outputs": []
    },
    {
      "cell_type": "markdown",
      "source": [
        "### 3.4 Data Transforms and Data Loaders"
      ],
      "metadata": {
        "id": "F3RtY1V7hAb_"
      }
    },
    {
      "cell_type": "code",
      "source": [
        "train_transform_chain = transforms.Compose([\n",
        "    transforms.RandomHorizontalFlip(p=0.5), # randomly flip horizontally, try to maintain symmetry between turned faces\n",
        "    transforms.RandomRotation(degrees=10), # randomly rotate with -10/+10 degrees, try to maintain symmetry between tilted faces\n",
        "    transforms.ToTensor(),\n",
        "    transforms.Normalize(mean=[0.5], std=[0.5])\n",
        "])\n",
        "\n",
        "val_transform_chain = transforms.Compose([\n",
        "    transforms.ToTensor(),\n",
        "    transforms.Normalize(mean=[0.5], std=[0.5])\n",
        "])\n",
        "\n",
        "# create datasets\n",
        "train_dataset = FERDataset(train_df.reset_index(drop=True), transform=train_transform_chain)\n",
        "val_dataset = FERDataset(val_df, transform=val_transform_chain)\n",
        "test_dataset = FERDataset(test_df, transform=val_transform_chain, is_test=True)"
      ],
      "metadata": {
        "id": "pAPT1D6CiipC"
      },
      "execution_count": 13,
      "outputs": []
    },
    {
      "cell_type": "code",
      "source": [],
      "metadata": {
        "id": "v3xWR775sxT3"
      },
      "execution_count": null,
      "outputs": []
    }
  ],
  "metadata": {
    "language_info": {
      "name": "python"
    },
    "colab": {
      "provenance": [],
      "gpuType": "T4"
    },
    "kernelspec": {
      "name": "python3",
      "display_name": "Python 3"
    },
    "accelerator": "GPU"
  },
  "nbformat": 4,
  "nbformat_minor": 0
}