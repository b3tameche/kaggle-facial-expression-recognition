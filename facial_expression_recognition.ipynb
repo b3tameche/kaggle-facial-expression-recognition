{
  "cells": [
    {
      "cell_type": "markdown",
      "metadata": {
        "id": "zOB1myDYM4eV"
      },
      "source": [
        "# 1. Initializations and Dataset Download"
      ]
    },
    {
      "cell_type": "code",
      "execution_count": 5,
      "metadata": {
        "colab": {
          "base_uri": "https://localhost:8080/"
        },
        "id": "Fr-W57XmM4eW",
        "outputId": "f87e631b-b829-4cd6-b0df-e9b5b366f03d"
      },
      "outputs": [
        {
          "output_type": "stream",
          "name": "stdout",
          "text": [
            "Drive already mounted at /content/drive; to attempt to forcibly remount, call drive.mount(\"/content/drive\", force_remount=True).\n"
          ]
        }
      ],
      "source": [
        "!pip install kaggle wandb onnx -Uq\n",
        "from google.colab import drive\n",
        "drive.mount('/content/drive')"
      ]
    },
    {
      "cell_type": "code",
      "execution_count": 6,
      "metadata": {
        "id": "tn1Tr6q6M4eX"
      },
      "outputs": [],
      "source": [
        "! mkdir ~/.kaggle"
      ]
    },
    {
      "cell_type": "code",
      "execution_count": 14,
      "metadata": {
        "id": "dr3GSGhHM4eX"
      },
      "outputs": [],
      "source": [
        "!cp /content/drive/MyDrive/ML/kaggle/kaggle.json ~/.kaggle/kaggle.json"
      ]
    },
    {
      "cell_type": "code",
      "execution_count": 15,
      "metadata": {
        "id": "e0XzCxHzM4eX"
      },
      "outputs": [],
      "source": [
        "! chmod 600 ~/.kaggle/kaggle.json"
      ]
    },
    {
      "cell_type": "code",
      "execution_count": 16,
      "metadata": {
        "colab": {
          "base_uri": "https://localhost:8080/"
        },
        "id": "1DOrykZSM4eY",
        "outputId": "39432236-6f05-4af8-a00b-9c2ff5084257"
      },
      "outputs": [
        {
          "output_type": "stream",
          "name": "stdout",
          "text": [
            "Downloading challenges-in-representation-learning-facial-expression-recognition-challenge.zip to /content\n",
            " 93% 266M/285M [00:03<00:00, 53.4MB/s]\n",
            "100% 285M/285M [00:05<00:00, 54.3MB/s]\n"
          ]
        }
      ],
      "source": [
        "! kaggle competitions download -c challenges-in-representation-learning-facial-expression-recognition-challenge"
      ]
    },
    {
      "cell_type": "code",
      "execution_count": 17,
      "metadata": {
        "colab": {
          "base_uri": "https://localhost:8080/"
        },
        "id": "XbF23WCAM4eY",
        "outputId": "16297079-437b-4971-83fc-922a785b6adf"
      },
      "outputs": [
        {
          "output_type": "stream",
          "name": "stdout",
          "text": [
            "Archive:  challenges-in-representation-learning-facial-expression-recognition-challenge.zip\n",
            "  inflating: facial-expression-recognition-dataset/example_submission.csv  \n",
            "  inflating: facial-expression-recognition-dataset/fer2013.tar.gz  \n",
            "  inflating: facial-expression-recognition-dataset/icml_face_data.csv  \n",
            "  inflating: facial-expression-recognition-dataset/test.csv  \n",
            "  inflating: facial-expression-recognition-dataset/train.csv  \n"
          ]
        }
      ],
      "source": [
        "! unzip challenges-in-representation-learning-facial-expression-recognition-challenge.zip -d facial-expression-recognition-dataset"
      ]
    },
    {
      "cell_type": "code",
      "execution_count": 18,
      "metadata": {
        "colab": {
          "base_uri": "https://localhost:8080/"
        },
        "id": "ClIOvCANUl2v",
        "outputId": "25cc4f66-9c35-47ec-9209-fd8c154b54ff"
      },
      "outputs": [
        {
          "output_type": "stream",
          "name": "stdout",
          "text": [
            "fer2013/fer2013.csv\n",
            "fer2013/README\n",
            "fer2013/fer2013.bib\n",
            "fer2013/\n"
          ]
        }
      ],
      "source": [
        "!tar -xzvf facial-expression-recognition-dataset/fer2013.tar.gz"
      ]
    },
    {
      "cell_type": "markdown",
      "metadata": {
        "id": "hTBp-uigM4eY"
      },
      "source": [
        "Now I should have directory `facial-expression-recognition-dataset` containing dataset files from kaggle"
      ]
    },
    {
      "cell_type": "markdown",
      "metadata": {
        "id": "HnLmsXVzM4eZ"
      },
      "source": [
        "# 2. Imports\n",
        "Lets start by getting all our imports, keep in mind that PyTorch is not automatically detects and trains on GPU, you have to tell it to use cuda. In case you want to train on Mac Silicon replace cuda with mps."
      ]
    },
    {
      "cell_type": "code",
      "execution_count": 19,
      "metadata": {
        "colab": {
          "base_uri": "https://localhost:8080/"
        },
        "id": "H-b1wLCJM4eZ",
        "outputId": "561461a5-75f9-424b-bd3b-8df702e4461e"
      },
      "outputs": [
        {
          "output_type": "stream",
          "name": "stdout",
          "text": [
            "Device available:  cuda\n"
          ]
        }
      ],
      "source": [
        "import torch # Main PyTorch Library\n",
        "import torchvision.transforms as transforms # Transform function used to modify and preprocess all the images\n",
        "import matplotlib.pyplot as plt # Used for visualizing the images and plotting the training progress\n",
        "import pandas as pd # Used to read/create dataframes (csv) and process tabular data\n",
        "import numpy as np # preprocessing and numerical/mathematical operations\n",
        "import os # Used to read the images path from the directory\n",
        "import wandb\n",
        "import seaborn as sns\n",
        "\n",
        "from torch import nn # Used for creating the layers and loss function\n",
        "from torch.optim import Adam # Adam Optimizer\n",
        "from torch.utils.data import Dataset, DataLoader # Dataset class and DataLoader for creating the objects\n",
        "from sklearn.preprocessing import LabelEncoder # Label Encoder to encode the classes from strings to numbers\n",
        "from sklearn.model_selection import train_test_split # Train/Test split\n",
        "from sklearn.metrics import confusion_matrix\n",
        "from tqdm import tqdm\n",
        "from PIL import Image # Used to read the images from the directory\n",
        "\n",
        "device = \"cuda\" if torch.cuda.is_available() else \"cpu\" # detect the GPU if any, if not use CPU, change cuda to mps if you have a mac\n",
        "print(\"Device available: \", device)"
      ]
    },
    {
      "cell_type": "markdown",
      "metadata": {
        "id": "U-aQ21lLO2ZQ"
      },
      "source": [
        "# 3. Data Exploration"
      ]
    },
    {
      "cell_type": "markdown",
      "metadata": {
        "id": "QaMOp_-uUENH"
      },
      "source": [
        "### 3.1 Data Loading"
      ]
    },
    {
      "cell_type": "code",
      "execution_count": 21,
      "metadata": {
        "colab": {
          "base_uri": "https://localhost:8080/"
        },
        "id": "OaZ5lKjwQelQ",
        "outputId": "c3a329f9-7d61-447e-903d-3927727f3d9d"
      },
      "outputs": [
        {
          "output_type": "stream",
          "name": "stdout",
          "text": [
            "trainset shape: (24224, 2)\n",
            "valset shape: (8074, 2)\n",
            "testset shape: (3589, 2)\n",
            "\n",
            "Emotion distribution in trainset:\n",
            "emotion\n",
            "3    6026\n",
            "6    4187\n",
            "4    4121\n",
            "2    3466\n",
            "0    3386\n",
            "5    2667\n",
            "1     371\n",
            "Name: count, dtype: int64\n"
          ]
        }
      ],
      "source": [
        "df = pd.read_csv('fer2013/fer2013.csv')\n",
        "\n",
        "df_train_val = df[df['Usage'].isin([\"Training\", \"PublicTest\"])].drop('Usage', axis=1)\n",
        "\n",
        "train_df = df_train_val.sample(frac=0.75, random_state=42)\n",
        "val_df = df_train_val.drop(train_df.index)\n",
        "\n",
        "test_df = df[df['Usage'] == \"PrivateTest\"].drop('Usage', axis=1)\n",
        "\n",
        "print(f\"trainset shape: {train_df.shape}\")\n",
        "print(f\"valset shape: {val_df.shape}\")\n",
        "print(f\"testset shape: {test_df.shape}\")\n",
        "print(f\"\\nEmotion distribution in trainset:\")\n",
        "print(train_df['emotion'].value_counts().sort_values(ascending=False))\n",
        "\n",
        "emotion_labels = {0: 'Angry', 1: 'Disgust', 2: 'Fear', 3: 'Happy', 4: 'Sad', 5: 'Surprise', 6: 'Neutral'}"
      ]
    },
    {
      "cell_type": "markdown",
      "metadata": {
        "id": "Fga_2S-bQ5h6"
      },
      "source": [
        "### 3.2 Data Inspection"
      ]
    },
    {
      "cell_type": "code",
      "execution_count": 22,
      "metadata": {
        "colab": {
          "base_uri": "https://localhost:8080/",
          "height": 409
        },
        "id": "2BzoO6znUOYR",
        "outputId": "b176f0e5-1f6f-4a3f-898f-bc1a6b0c97a8"
      },
      "outputs": [
        {
          "output_type": "display_data",
          "data": {
            "text/plain": [
              "<Figure size 800x400 with 8 Axes>"
            ],
            "image/png": "[encoded data removed]"
          },
          "metadata": {}
        }
      ],
      "source": [
        "def plot_sample_images(df, num_samples=8):\n",
        "    _, axes = plt.subplots(2, 4, figsize=(8, 4))\n",
        "    axes = axes.ravel()\n",
        "\n",
        "    for i in range(num_samples):\n",
        "        # random sample\n",
        "        idx = np.random.randint(0, len(df))\n",
        "        emotion = df.iloc[idx]['emotion']\n",
        "        pixels = df.iloc[idx]['pixels']\n",
        "\n",
        "        # convert bytearray to grayscale image\n",
        "        pixel_values = np.array(pixels.split(), dtype=np.uint8)\n",
        "        image = pixel_values.reshape(48, 48)\n",
        "\n",
        "        axes[i].imshow(image, cmap='gray')\n",
        "        axes[i].set_title(f'{emotion_labels[emotion]}')\n",
        "        axes[i].axis('off')\n",
        "\n",
        "    plt.tight_layout()\n",
        "    plt.show()\n",
        "\n",
        "plot_sample_images(train_df)"
      ]
    },
    {
      "cell_type": "markdown",
      "metadata": {
        "id": "Xh2dx4hAUahc"
      },
      "source": [
        "### 3.3 Custom Dataset Class"
      ]
    },
    {
      "cell_type": "code",
      "execution_count": 23,
      "metadata": {
        "id": "oaVJ92Z_e5cY"
      },
      "outputs": [],
      "source": [
        "class FERDataset(Dataset):\n",
        "    def __init__(self, dataframe, transform=None):\n",
        "        self.dataframe = dataframe\n",
        "        self.transform = transform\n",
        "\n",
        "    def __len__(self):\n",
        "        return self.dataframe.shape[0]\n",
        "\n",
        "    def __getitem__(self, idx):\n",
        "        pixels = self.dataframe.iloc[idx]['pixels']\n",
        "        pixel_values = np.array(pixels.split(), dtype=np.uint8)\n",
        "        image = pixel_values.reshape(48, 48, 1) # add channel\n",
        "        image = Image.fromarray(image.squeeze(), mode='L') # convert to PIL image\n",
        "\n",
        "        if self.transform:\n",
        "            image = self.transform(image)\n",
        "\n",
        "        emotion = self.dataframe.iloc[idx]['emotion']\n",
        "        return image, emotion"
      ]
    },
    {
      "cell_type": "markdown",
      "metadata": {
        "id": "F3RtY1V7hAb_"
      },
      "source": [
        "### 3.4 Data Transforms and Data Loaders"
      ]
    },
    {
      "cell_type": "code",
      "execution_count": 34,
      "metadata": {
        "id": "pAPT1D6CiipC"
      },
      "outputs": [],
      "source": [
        "train_transform_chain = transforms.Compose([\n",
        "    transforms.RandomHorizontalFlip(p=0.5), # randomly flip horizontally, try to maintain symmetry between turned faces\n",
        "    transforms.RandomRotation(degrees=10), # randomly rotate with -10/+10 degrees, try to maintain symmetry between tilted faces\n",
        "    transforms.ToTensor(),\n",
        "    transforms.Normalize(mean=[0.5], std=[0.5])\n",
        "])\n",
        "\n",
        "val_transform_chain = transforms.Compose([\n",
        "    transforms.ToTensor(),\n",
        "    transforms.Normalize(mean=[0.5], std=[0.5])\n",
        "])\n",
        "\n",
        "# create datasets\n",
        "train_dataset = FERDataset(train_df.reset_index(drop=True), transform=train_transform_chain)\n",
        "val_dataset = FERDataset(val_df, transform=val_transform_chain)\n",
        "test_dataset = FERDataset(test_df, transform=val_transform_chain)"
      ]
    },
    {
      "cell_type": "markdown",
      "metadata": {
        "id": "v3xWR775sxT3"
      },
      "source": [
        "# 4. Training"
      ]
    },
    {
      "cell_type": "markdown",
      "metadata": {
        "id": "u7XyI6VohKLR"
      },
      "source": [
        "## 4.1 Define training helpers"
      ]
    },
    {
      "cell_type": "code",
      "execution_count": 25,
      "metadata": {
        "id": "_emn_RNHhN3O"
      },
      "outputs": [],
      "source": [
        "def train_epoch(model, train_loader, optimizer, criterion, device):\n",
        "    model.train()           # set model to training mode (for BN and Dropout, to only include in training phase)\n",
        "    running_loss = 0.0      # total loss across all batches\n",
        "    correct = 0             # correct predictions\n",
        "    total = 0               # total number of images processed\n",
        "\n",
        "    # iterate through all batches in the training data loader (tqdm for progress bar to estimate time remaining)\n",
        "    for inputs, labels in tqdm(train_loader, desc=\"Training\"):\n",
        "        inputs, labels = inputs.to(device), labels.to(device) # use GPU\n",
        "\n",
        "        optimizer.zero_grad()               # clear gradients from previous batch\n",
        "        output = model(inputs)              # forward\n",
        "        loss = criterion(output, labels)    # loss\n",
        "        loss.backward()                     # backward\n",
        "        optimizer.step()                    # update model parameters\n",
        "\n",
        "        running_loss += loss.item()\n",
        "        _, predicted = torch.max(output.data, 1)        # predicted class\n",
        "        total += labels.size(0)                         # update total number of images processed\n",
        "        correct += (predicted == labels).sum().item()   # update count of correct predictions\n",
        "\n",
        "    epoch_loss = running_loss / len(train_loader)   # average loss per batch\n",
        "    epoch_acc = correct / total * 100.              # accuracy as percentage\n",
        "\n",
        "    return epoch_loss, epoch_acc\n",
        "\n",
        "def validate_epoch(model, val_loader, criterion, device):\n",
        "    model.eval()            # set model to evaluation mode (disables dropout, BN uses running info)\n",
        "    running_loss = 0.0      # total validation loss\n",
        "    correct = 0             # correct predictions\n",
        "    total = 0               # total number of validation images\n",
        "    preds = []              # predictions\n",
        "    true_labels = []        # true labels\n",
        "\n",
        "    # without gradient computation\n",
        "    with torch.no_grad():\n",
        "\n",
        "        # iterate through all batches in the validation data loader\n",
        "        for inputs, labels in tqdm(val_loader, desc=\"Validation\"):\n",
        "            inputs, labels = inputs.to(device), labels.to(device)   # use GPU\n",
        "            output = model(inputs)                                  # forward\n",
        "            loss = criterion(output, labels)                        # loss\n",
        "\n",
        "            running_loss += loss.item()\n",
        "            _, predicted = torch.max(output.data, 1)        # predicted class\n",
        "            total += labels.size(0)                         # update total number of images processed\n",
        "            correct += (predicted == labels).sum().item()   # update count of correct predictions\n",
        "\n",
        "            # numpy works with CPU\n",
        "            preds.extend(predicted.cpu().numpy())\n",
        "            true_labels.extend(labels.cpu().numpy())\n",
        "\n",
        "    epoch_loss = running_loss / len(val_loader)     # average loss per batch\n",
        "    epoch_acc = correct / total * 100.              # accuracy as percentage\n",
        "\n",
        "    return epoch_loss, epoch_acc, preds, true_labels\n",
        "\n",
        "def train_model(model, train_loader, val_loader, num_epochs, optimizer, criterion, device, model_name):\n",
        "    # initialize wandb\n",
        "    wandb.init(\n",
        "        project=\"Facial Expression Recognition\",\n",
        "        name=model_name,\n",
        "        config={\n",
        "            \"model\": model_name,\n",
        "            \"epochs\": num_epochs,\n",
        "            \"optimizer\": optimizer.__class__.__name__,\n",
        "            \"learning_rate\": optimizer.param_groups[0]['lr'],\n",
        "            \"batch_size\": train_loader.batch_size,\n",
        "        }\n",
        "    )\n",
        "\n",
        "    # watch gradients\n",
        "    wandb.watch(model, log=\"all\")\n",
        "\n",
        "    train_losses = []   # training loss per epoch\n",
        "    train_accs = []     # training accuracy per epoch\n",
        "    val_losses = []     # validation loss per epoch\n",
        "    val_accs = []       # validation accuracy per epoch\n",
        "\n",
        "    best_val_acc = 0.0\n",
        "\n",
        "    for epoch in range(num_epochs):\n",
        "        print(f'\\nEpoch {epoch+1}/{num_epochs}')\n",
        "        print('-' * 10)\n",
        "\n",
        "        # train\n",
        "        train_loss, train_acc = train_epoch(model, train_loader, optimizer, criterion, device)\n",
        "\n",
        "        # validate\n",
        "        val_loss, val_acc, val_preds, val_targets = validate_epoch(model, val_loader, criterion, device)\n",
        "\n",
        "        # store metrics for plotting\n",
        "        train_losses.append(train_loss)\n",
        "        train_accs.append(train_acc)\n",
        "        val_losses.append(val_loss)\n",
        "        val_accs.append(val_acc)\n",
        "\n",
        "        wandb.log({\n",
        "            \"epoch\": epoch + 1,\n",
        "            \"train_loss\": train_loss,\n",
        "            \"train_accuracy\": train_acc,\n",
        "            \"val_loss\": val_loss,\n",
        "            \"val_accuracy\": val_acc,\n",
        "        })\n",
        "\n",
        "        print(f'Train Loss: {train_loss:.4f}, Train Acc: {train_acc:.2f}%')\n",
        "        print(f'Val Loss: {val_loss:.4f}, Val Acc: {val_acc:.2f}%')\n",
        "\n",
        "        # save best model\n",
        "        best_val_acc = max(best_val_acc, val_acc)\n",
        "\n",
        "    # plotting\n",
        "    plt.figure(figsize=(15, 5))\n",
        "\n",
        "    # loss curves\n",
        "    plt.subplot(1, 2, 1)\n",
        "    plt.plot(train_losses, label='Train Loss')      # training loss over epochs\n",
        "    plt.plot(val_losses, label='Val Loss')          # validation loss over epochs\n",
        "    plt.title(f'{model_name} - Loss')\n",
        "    plt.xlabel('Epoch')\n",
        "    plt.ylabel('Loss')\n",
        "    plt.legend()\n",
        "\n",
        "    # accuracy curves\n",
        "    plt.subplot(1, 2, 2)\n",
        "    plt.plot(train_accs, label='Train Acc')     # training accuracy over epochs\n",
        "    plt.plot(val_accs, label='Val Acc')         # validation accuracy over epochs\n",
        "    plt.title(f'{model_name} - Accuracy')\n",
        "    plt.xlabel('Epoch')\n",
        "    plt.ylabel('Accuracy')\n",
        "    plt.legend()\n",
        "\n",
        "    plt.tight_layout()\n",
        "    plt.show()\n",
        "\n",
        "    # log final metrics to wandb\n",
        "    wandb.log({\n",
        "        \"best_val_accuracy\": best_val_acc,\n",
        "        \"final_train_accuracy\": train_accs[-1],\n",
        "        \"final_val_accuracy\": val_accs[-1],\n",
        "    })\n",
        "\n",
        "    # log model\n",
        "    model.eval()\n",
        "    dummy_input = torch.randn(1, 1, 48, 48).to(device) # dummy input for exporting\n",
        "    torch.onnx.export(model, dummy_input, f\"{model_name}.onnx\")\n",
        "    wandb.save(f\"{model_name}.onnx\")\n",
        "\n",
        "    wandb.finish()\n",
        "\n",
        "    return train_losses, train_accs, val_losses, val_accs, best_val_acc"
      ]
    },
    {
      "cell_type": "code",
      "execution_count": 32,
      "metadata": {
        "id": "d0o9QujahodM"
      },
      "outputs": [],
      "source": [
        "# hyperparameters\n",
        "BATCH_SIZE = 64\n",
        "NUM_EPOCHS = 10\n",
        "\n",
        "# data loaders\n",
        "train_loader = DataLoader(train_dataset, batch_size=BATCH_SIZE, shuffle=True)\n",
        "val_loader = DataLoader(val_dataset, batch_size=BATCH_SIZE, shuffle=False)\n",
        "test_loader = DataLoader(test_dataset, batch_size=BATCH_SIZE, shuffle=False)\n",
        "\n",
        "# results\n",
        "results = {}"
      ]
    },
    {
      "cell_type": "markdown",
      "metadata": {
        "id": "KoEZdO_Hh6qQ"
      },
      "source": [
        "## 4.2 Architectures"
      ]
    },
    {
      "cell_type": "markdown",
      "metadata": {
        "id": "JrMJBsc2iB1G"
      },
      "source": [
        "### 4.2.1 Basic CNN (No BatchNorm, No Dropout)"
      ]
    },
    {
      "cell_type": "code",
      "execution_count": 27,
      "metadata": {
        "id": "HaFUel-ziHyl"
      },
      "outputs": [],
      "source": [
        "# 1. conv layer 1\n",
        "#    ReLU\n",
        "#    max pooling\n",
        "\n",
        "# 2. conv layer 2\n",
        "#    ReLU\n",
        "#    max pooling\n",
        "\n",
        "# 3. conv layer 3\n",
        "#    ReLU\n",
        "#    max pooling\n",
        "\n",
        "# 4. flatten\n",
        "# 5. linear layer\n",
        "# 6. ReLU\n",
        "# 6. linear layer\n",
        "\n",
        "class BasicCNN(nn.Module):\n",
        "    def __init__(self, num_classes=7):\n",
        "        super().__init__()\n",
        "\n",
        "        self.conv_layers = nn.Sequential(\n",
        "            # conv 1\n",
        "            nn.Conv2d(1, 32, kernel_size=3, padding=1), # 32 x 48 x 48\n",
        "            nn.ReLU(),\n",
        "            nn.MaxPool2d(2, 2), # 32 x 24 x 24\n",
        "\n",
        "            # conv 2\n",
        "            nn.Conv2d(32, 64, kernel_size=3, padding=1), # 64 x 24 x 24\n",
        "            nn.ReLU(),\n",
        "            nn.MaxPool2d(2, 2), # 64 x 12 x 12\n",
        "\n",
        "            # conv 3\n",
        "            nn.Conv2d(64, 128, kernel_size=3, padding=1), # 128 x 12 x 12\n",
        "            nn.ReLU(),\n",
        "            nn.MaxPool2d(2, 2), # 128 x 6 x 6\n",
        "        )\n",
        "\n",
        "        self.classifier = nn.Sequential(\n",
        "            nn.Flatten(),\n",
        "            nn.Linear(128 * 6 * 6, 512),\n",
        "            nn.ReLU(), # breaking linearity\n",
        "            nn.Linear(512, num_classes)\n",
        "        )\n",
        "\n",
        "    def forward(self, x):\n",
        "        x = self.conv_layers(x)\n",
        "        x = self.classifier(x)\n",
        "        return x"
      ]
    },
    {
      "cell_type": "code",
      "execution_count": 28,
      "metadata": {
        "id": "ay7g96BcidBT",
        "colab": {
          "base_uri": "https://localhost:8080/",
          "height": 1000
        },
        "outputId": "c330ef0f-be9c-455d-ece1-fdcd8e470c6c"
      },
      "outputs": [
        {
          "output_type": "stream",
          "name": "stdout",
          "text": [
            "Architecture 1: Basic CNN (No BatchNorm, No Dropout)\n"
          ]
        },
        {
          "output_type": "display_data",
          "data": {
            "text/plain": [
              "<IPython.core.display.Javascript object>"
            ],
            "application/javascript": [
              "\n",
              "        window._wandbApiKey = new Promise((resolve, reject) => {\n",
              "            function loadScript(url) {\n",
              "            return new Promise(function(resolve, reject) {\n",
              "                let newScript = document.createElement(\"script\");\n",
              "                newScript.onerror = reject;\n",
              "                newScript.onload = resolve;\n",
              "                document.body.appendChild(newScript);\n",
              "                newScript.src = url;\n",
              "            });\n",
              "            }\n",
              "            loadScript(\"https://cdn.jsdelivr.net/npm/postmate/build/postmate.min.js\").then(() => {\n",
              "            const iframe = document.createElement('iframe')\n",
              "            iframe.style.cssText = \"width:0;height:0;border:none\"\n",
              "            document.body.appendChild(iframe)\n",
              "            const handshake = new Postmate({\n",
              "                container: iframe,\n",
              "                url: 'https://wandb.ai/authorize'\n",
              "            });\n",
              "            const timeout = setTimeout(() => reject(\"Couldn't auto authenticate\"), 5000)\n",
              "            handshake.then(function(child) {\n",
              "                child.on('authorize', data => {\n",
              "                    clearTimeout(timeout)\n",
              "                    resolve(data)\n",
              "                });\n",
              "            });\n",
              "            })\n",
              "        });\n",
              "    "
            ]
          },
          "metadata": {}
        },
        {
          "output_type": "stream",
          "name": "stderr",
          "text": [
            "\u001b[34m\u001b[1mwandb\u001b[0m: Logging into wandb.ai. (Learn how to deploy a W&B server locally: https://wandb.me/wandb-server)\n",
            "\u001b[34m\u001b[1mwandb\u001b[0m: You can find your API key in your browser here: https://wandb.ai/authorize?ref=models\n",
            "wandb: Paste an API key from your profile and hit enter:"
          ]
        },
        {
          "name": "stdout",
          "output_type": "stream",
          "text": [
            " ··········\n"
          ]
        },
        {
          "output_type": "stream",
          "name": "stderr",
          "text": [
            "\u001b[34m\u001b[1mwandb\u001b[0m: \u001b[33mWARNING\u001b[0m If you're specifying your api key in code, ensure this code is not shared publicly.\n",
            "\u001b[34m\u001b[1mwandb\u001b[0m: \u001b[33mWARNING\u001b[0m Consider setting the WANDB_API_KEY environment variable, or running `wandb login` from the command line.\n",
            "\u001b[34m\u001b[1mwandb\u001b[0m: No netrc file found, creating one.\n",
            "\u001b[34m\u001b[1mwandb\u001b[0m: Appending key for api.wandb.ai to your netrc file: /root/.netrc\n",
            "\u001b[34m\u001b[1mwandb\u001b[0m: Currently logged in as: \u001b[33mb3tameche\u001b[0m (\u001b[33mb3tameche-free-university-of-tbilisi-\u001b[0m) to \u001b[32mhttps://api.wandb.ai\u001b[0m. Use \u001b[1m`wandb login --relogin`\u001b[0m to force relogin\n"
          ]
        },
        {
          "output_type": "display_data",
          "data": {
            "text/plain": [
              "<IPython.core.display.HTML object>"
            ],
            "text/html": [
              "Tracking run with wandb version 0.20.1"
            ]
          },
          "metadata": {}
        },
        {
          "output_type": "display_data",
          "data": {
            "text/plain": [
              "<IPython.core.display.HTML object>"
            ],
            "text/html": [
              "Run data is saved locally in <code>/content/wandb/run-20250607_200626-ts8eqoyk</code>"
            ]
          },
          "metadata": {}
        },
        {
          "output_type": "display_data",
          "data": {
            "text/plain": [
              "<IPython.core.display.HTML object>"
            ],
            "text/html": [
              "Syncing run <strong><a href='https://wandb.ai/b3tameche-free-university-of-tbilisi-/Facial%20Expression%20Recognition/runs/ts8eqoyk' target=\"_blank\">Basic_CNN</a></strong> to <a href='https://wandb.ai/b3tameche-free-university-of-tbilisi-/Facial%20Expression%20Recognition' target=\"_blank\">Weights & Biases</a> (<a href='https://wandb.me/developer-guide' target=\"_blank\">docs</a>)<br>"
            ]
          },
          "metadata": {}
        },
        {
          "output_type": "display_data",
          "data": {
            "text/plain": [
              "<IPython.core.display.HTML object>"
            ],
            "text/html": [
              " View project at <a href='https://wandb.ai/b3tameche-free-university-of-tbilisi-/Facial%20Expression%20Recognition' target=\"_blank\">https://wandb.ai/b3tameche-free-university-of-tbilisi-/Facial%20Expression%20Recognition</a>"
            ]
          },
          "metadata": {}
        },
        {
          "output_type": "display_data",
          "data": {
            "text/plain": [
              "<IPython.core.display.HTML object>"
            ],
            "text/html": [
              " View run at <a href='https://wandb.ai/b3tameche-free-university-of-tbilisi-/Facial%20Expression%20Recognition/runs/ts8eqoyk' target=\"_blank\">https://wandb.ai/b3tameche-free-university-of-tbilisi-/Facial%20Expression%20Recognition/runs/ts8eqoyk</a>"
            ]
          },
          "metadata": {}
        },
        {
          "output_type": "stream",
          "name": "stdout",
          "text": [
            "\n",
            "Epoch 1/10\n",
            "----------\n"
          ]
        },
        {
          "output_type": "stream",
          "name": "stderr",
          "text": [
            "Training: 100%|██████████| 379/379 [00:26<00:00, 14.28it/s]\n",
            "Validation: 100%|██████████| 127/127 [00:06<00:00, 18.36it/s]\n"
          ]
        },
        {
          "output_type": "stream",
          "name": "stdout",
          "text": [
            "Train Loss: 1.7664, Train Acc: 28.08%\n",
            "Val Loss: 1.6409, Val Acc: 35.72%\n",
            "\n",
            "Epoch 2/10\n",
            "----------\n"
          ]
        },
        {
          "output_type": "stream",
          "name": "stderr",
          "text": [
            "Training: 100%|██████████| 379/379 [00:26<00:00, 14.35it/s]\n",
            "Validation: 100%|██████████| 127/127 [00:05<00:00, 21.48it/s]\n"
          ]
        },
        {
          "output_type": "stream",
          "name": "stdout",
          "text": [
            "Train Loss: 1.6160, Train Acc: 36.17%\n",
            "Val Loss: 1.5611, Val Acc: 39.01%\n",
            "\n",
            "Epoch 3/10\n",
            "----------\n"
          ]
        },
        {
          "output_type": "stream",
          "name": "stderr",
          "text": [
            "Training: 100%|██████████| 379/379 [00:26<00:00, 14.10it/s]\n",
            "Validation: 100%|██████████| 127/127 [00:05<00:00, 21.77it/s]\n"
          ]
        },
        {
          "output_type": "stream",
          "name": "stdout",
          "text": [
            "Train Loss: 1.5682, Train Acc: 38.36%\n",
            "Val Loss: 1.5058, Val Acc: 41.57%\n",
            "\n",
            "Epoch 4/10\n",
            "----------\n"
          ]
        },
        {
          "output_type": "stream",
          "name": "stderr",
          "text": [
            "Training: 100%|██████████| 379/379 [00:26<00:00, 14.22it/s]\n",
            "Validation: 100%|██████████| 127/127 [00:07<00:00, 17.13it/s]\n"
          ]
        },
        {
          "output_type": "stream",
          "name": "stdout",
          "text": [
            "Train Loss: 1.5328, Train Acc: 40.29%\n",
            "Val Loss: 1.4894, Val Acc: 42.42%\n",
            "\n",
            "Epoch 5/10\n",
            "----------\n"
          ]
        },
        {
          "output_type": "stream",
          "name": "stderr",
          "text": [
            "Training: 100%|██████████| 379/379 [00:25<00:00, 14.79it/s]\n",
            "Validation: 100%|██████████| 127/127 [00:07<00:00, 16.34it/s]\n"
          ]
        },
        {
          "output_type": "stream",
          "name": "stdout",
          "text": [
            "Train Loss: 1.5061, Train Acc: 41.22%\n",
            "Val Loss: 1.4814, Val Acc: 43.16%\n",
            "\n",
            "Epoch 6/10\n",
            "----------\n"
          ]
        },
        {
          "output_type": "stream",
          "name": "stderr",
          "text": [
            "Training: 100%|██████████| 379/379 [00:26<00:00, 14.22it/s]\n",
            "Validation: 100%|██████████| 127/127 [00:06<00:00, 19.93it/s]\n"
          ]
        },
        {
          "output_type": "stream",
          "name": "stdout",
          "text": [
            "Train Loss: 1.4841, Train Acc: 42.24%\n",
            "Val Loss: 1.4560, Val Acc: 43.51%\n",
            "\n",
            "Epoch 7/10\n",
            "----------\n"
          ]
        },
        {
          "output_type": "stream",
          "name": "stderr",
          "text": [
            "Training: 100%|██████████| 379/379 [00:26<00:00, 14.24it/s]\n",
            "Validation: 100%|██████████| 127/127 [00:05<00:00, 21.40it/s]\n"
          ]
        },
        {
          "output_type": "stream",
          "name": "stdout",
          "text": [
            "Train Loss: 1.4688, Train Acc: 42.88%\n",
            "Val Loss: 1.4467, Val Acc: 44.46%\n",
            "\n",
            "Epoch 8/10\n",
            "----------\n"
          ]
        },
        {
          "output_type": "stream",
          "name": "stderr",
          "text": [
            "Training: 100%|██████████| 379/379 [00:26<00:00, 14.16it/s]\n",
            "Validation: 100%|██████████| 127/127 [00:06<00:00, 19.05it/s]\n"
          ]
        },
        {
          "output_type": "stream",
          "name": "stdout",
          "text": [
            "Train Loss: 1.4544, Train Acc: 43.68%\n",
            "Val Loss: 1.4334, Val Acc: 44.36%\n",
            "\n",
            "Epoch 9/10\n",
            "----------\n"
          ]
        },
        {
          "output_type": "stream",
          "name": "stderr",
          "text": [
            "Training: 100%|██████████| 379/379 [00:26<00:00, 14.45it/s]\n",
            "Validation: 100%|██████████| 127/127 [00:07<00:00, 16.35it/s]\n"
          ]
        },
        {
          "output_type": "stream",
          "name": "stdout",
          "text": [
            "Train Loss: 1.4388, Train Acc: 44.35%\n",
            "Val Loss: 1.4242, Val Acc: 45.13%\n",
            "\n",
            "Epoch 10/10\n",
            "----------\n"
          ]
        },
        {
          "output_type": "stream",
          "name": "stderr",
          "text": [
            "Training: 100%|██████████| 379/379 [00:26<00:00, 14.49it/s]\n",
            "Validation: 100%|██████████| 127/127 [00:06<00:00, 18.23it/s]\n"
          ]
        },
        {
          "output_type": "stream",
          "name": "stdout",
          "text": [
            "Train Loss: 1.4306, Train Acc: 44.59%\n",
            "Val Loss: 1.4124, Val Acc: 45.88%\n"
          ]
        },
        {
          "output_type": "display_data",
          "data": {
            "text/plain": [
              "<Figure size 1500x500 with 2 Axes>"
            ],
            "image/png": "[encoded data removed]"
          },
          "metadata": {}
        },
        {
          "output_type": "display_data",
          "data": {
            "text/plain": [
              "<IPython.core.display.HTML object>"
            ],
            "text/html": []
          },
          "metadata": {}
        },
        {
          "output_type": "display_data",
          "data": {
            "text/plain": [
              "<IPython.core.display.HTML object>"
            ],
            "text/html": [
              "<br>    <style><br>        .wandb-row {<br>            display: flex;<br>            flex-direction: row;<br>            flex-wrap: wrap;<br>            justify-content: flex-start;<br>            width: 100%;<br>        }<br>        .wandb-col {<br>            display: flex;<br>            flex-direction: column;<br>            flex-basis: 100%;<br>            flex: 1;<br>            padding: 10px;<br>        }<br>    </style><br><div class=\"wandb-row\"><div class=\"wandb-col\"><h3>Run history:</h3><br/><table class=\"wandb\"><tr><td>best_val_accuracy</td><td>▁</td></tr><tr><td>epoch</td><td>▁▂▃▃▄▅▆▆▇█</td></tr><tr><td>final_train_accuracy</td><td>▁</td></tr><tr><td>final_val_accuracy</td><td>▁</td></tr><tr><td>train_accuracy</td><td>▁▄▅▆▇▇▇███</td></tr><tr><td>train_loss</td><td>█▅▄▃▃▂▂▁▁▁</td></tr><tr><td>val_accuracy</td><td>▁▃▅▆▆▆▇▇▇█</td></tr><tr><td>val_loss</td><td>█▆▄▃▃▂▂▂▁▁</td></tr></table><br/></div><div class=\"wandb-col\"><h3>Run summary:</h3><br/><table class=\"wandb\"><tr><td>best_val_accuracy</td><td>45.87565</td></tr><tr><td>epoch</td><td>10</td></tr><tr><td>final_train_accuracy</td><td>44.59214</td></tr><tr><td>final_val_accuracy</td><td>45.87565</td></tr><tr><td>train_accuracy</td><td>44.59214</td></tr><tr><td>train_loss</td><td>1.43063</td></tr><tr><td>val_accuracy</td><td>45.87565</td></tr><tr><td>val_loss</td><td>1.41236</td></tr></table><br/></div></div>"
            ]
          },
          "metadata": {}
        },
        {
          "output_type": "display_data",
          "data": {
            "text/plain": [
              "<IPython.core.display.HTML object>"
            ],
            "text/html": [
              " View run <strong style=\"color:#cdcd00\">Basic_CNN</strong> at: <a href='https://wandb.ai/b3tameche-free-university-of-tbilisi-/Facial%20Expression%20Recognition/runs/ts8eqoyk' target=\"_blank\">https://wandb.ai/b3tameche-free-university-of-tbilisi-/Facial%20Expression%20Recognition/runs/ts8eqoyk</a><br> View project at: <a href='https://wandb.ai/b3tameche-free-university-of-tbilisi-/Facial%20Expression%20Recognition' target=\"_blank\">https://wandb.ai/b3tameche-free-university-of-tbilisi-/Facial%20Expression%20Recognition</a><br>Synced 5 W&B file(s), 0 media file(s), 0 artifact file(s) and 1 other file(s)"
            ]
          },
          "metadata": {}
        },
        {
          "output_type": "display_data",
          "data": {
            "text/plain": [
              "<IPython.core.display.HTML object>"
            ],
            "text/html": [
              "Find logs at: <code>./wandb/run-20250607_200626-ts8eqoyk/logs</code>"
            ]
          },
          "metadata": {}
        }
      ],
      "source": [
        "print(\"Architecture 1: Basic CNN (No BatchNorm, No Dropout)\")\n",
        "model1 = BasicCNN().to(device)\n",
        "optimizer1 = Adam(model1.parameters(), lr=0.005)\n",
        "criterion = nn.CrossEntropyLoss()\n",
        "\n",
        "train_losses1, train_accs1, val_losses1, val_accs1, best_acc1 = train_model(\n",
        "    model1, train_loader, val_loader, NUM_EPOCHS, optimizer1, criterion, device, \"Basic_CNN\"\n",
        ")\n",
        "results[\"Basic_CNN\"] = best_acc1"
      ]
    },
    {
      "cell_type": "code",
      "source": [
        "def init_weights_kaiming(m):\n",
        "    if isinstance(m, nn.Conv2d) or isinstance(m, nn.Linear):\n",
        "        nn.init.kaiming_normal_(m.weight, mode='fan_out', nonlinearity='relu')"
      ],
      "metadata": {
        "id": "CzOIxo4Qdj14"
      },
      "execution_count": 29,
      "outputs": []
    },
    {
      "cell_type": "code",
      "source": [
        "model2 = BasicCNN().to(device)\n",
        "model2.apply(init_weights_kaiming)\n",
        "optimizer2 = Adam(model2.parameters(), lr=0.005)\n",
        "criterion = nn.CrossEntropyLoss()\n",
        "\n",
        "train_losses2, train_accs2, val_losses2, val_accs2, best_acc2 = train_model(\n",
        "    model2, train_loader, val_loader, NUM_EPOCHS, optimizer2, criterion, device, \"Basic_CNN\"\n",
        ")"
      ],
      "metadata": {
        "colab": {
          "base_uri": "https://localhost:8080/",
          "height": 1000
        },
        "id": "4SgiU1bug1xb",
        "outputId": "d0b0c06c-ed6a-457c-d17e-c278f3c49929"
      },
      "execution_count": 30,
      "outputs": [
        {
          "output_type": "display_data",
          "data": {
            "text/plain": [
              "<IPython.core.display.HTML object>"
            ],
            "text/html": [
              "Tracking run with wandb version 0.20.1"
            ]
          },
          "metadata": {}
        },
        {
          "output_type": "display_data",
          "data": {
            "text/plain": [
              "<IPython.core.display.HTML object>"
            ],
            "text/html": [
              "Run data is saved locally in <code>/content/wandb/run-20250607_201226-8k1hh00s</code>"
            ]
          },
          "metadata": {}
        },
        {
          "output_type": "display_data",
          "data": {
            "text/plain": [
              "<IPython.core.display.HTML object>"
            ],
            "text/html": [
              "Syncing run <strong><a href='https://wandb.ai/b3tameche-free-university-of-tbilisi-/Facial%20Expression%20Recognition/runs/8k1hh00s' target=\"_blank\">Basic_CNN</a></strong> to <a href='https://wandb.ai/b3tameche-free-university-of-tbilisi-/Facial%20Expression%20Recognition' target=\"_blank\">Weights & Biases</a> (<a href='https://wandb.me/developer-guide' target=\"_blank\">docs</a>)<br>"
            ]
          },
          "metadata": {}
        },
        {
          "output_type": "display_data",
          "data": {
            "text/plain": [
              "<IPython.core.display.HTML object>"
            ],
            "text/html": [
              " View project at <a href='https://wandb.ai/b3tameche-free-university-of-tbilisi-/Facial%20Expression%20Recognition' target=\"_blank\">https://wandb.ai/b3tameche-free-university-of-tbilisi-/Facial%20Expression%20Recognition</a>"
            ]
          },
          "metadata": {}
        },
        {
          "output_type": "display_data",
          "data": {
            "text/plain": [
              "<IPython.core.display.HTML object>"
            ],
            "text/html": [
              " View run at <a href='https://wandb.ai/b3tameche-free-university-of-tbilisi-/Facial%20Expression%20Recognition/runs/8k1hh00s' target=\"_blank\">https://wandb.ai/b3tameche-free-university-of-tbilisi-/Facial%20Expression%20Recognition/runs/8k1hh00s</a>"
            ]
          },
          "metadata": {}
        },
        {
          "output_type": "stream",
          "name": "stdout",
          "text": [
            "\n",
            "Epoch 1/10\n",
            "----------\n"
          ]
        },
        {
          "output_type": "stream",
          "name": "stderr",
          "text": [
            "Training: 100%|██████████| 379/379 [00:26<00:00, 14.04it/s]\n",
            "Validation: 100%|██████████| 127/127 [00:05<00:00, 21.45it/s]\n"
          ]
        },
        {
          "output_type": "stream",
          "name": "stdout",
          "text": [
            "Train Loss: 2.2152, Train Acc: 28.14%\n",
            "Val Loss: 1.6600, Val Acc: 34.65%\n",
            "\n",
            "Epoch 2/10\n",
            "----------\n"
          ]
        },
        {
          "output_type": "stream",
          "name": "stderr",
          "text": [
            "Training: 100%|██████████| 379/379 [00:26<00:00, 14.21it/s]\n",
            "Validation: 100%|██████████| 127/127 [00:07<00:00, 18.06it/s]\n"
          ]
        },
        {
          "output_type": "stream",
          "name": "stdout",
          "text": [
            "Train Loss: 1.6547, Train Acc: 34.05%\n",
            "Val Loss: 1.5994, Val Acc: 37.60%\n",
            "\n",
            "Epoch 3/10\n",
            "----------\n"
          ]
        },
        {
          "output_type": "stream",
          "name": "stderr",
          "text": [
            "Training: 100%|██████████| 379/379 [00:25<00:00, 14.62it/s]\n",
            "Validation: 100%|██████████| 127/127 [00:07<00:00, 16.35it/s]\n"
          ]
        },
        {
          "output_type": "stream",
          "name": "stdout",
          "text": [
            "Train Loss: 1.5939, Train Acc: 37.22%\n",
            "Val Loss: 1.5739, Val Acc: 38.87%\n",
            "\n",
            "Epoch 4/10\n",
            "----------\n"
          ]
        },
        {
          "output_type": "stream",
          "name": "stderr",
          "text": [
            "Training: 100%|██████████| 379/379 [00:26<00:00, 14.57it/s]\n",
            "Validation: 100%|██████████| 127/127 [00:06<00:00, 18.38it/s]\n"
          ]
        },
        {
          "output_type": "stream",
          "name": "stdout",
          "text": [
            "Train Loss: 1.5379, Train Acc: 40.48%\n",
            "Val Loss: 1.5163, Val Acc: 40.31%\n",
            "\n",
            "Epoch 5/10\n",
            "----------\n"
          ]
        },
        {
          "output_type": "stream",
          "name": "stderr",
          "text": [
            "Training: 100%|██████████| 379/379 [00:26<00:00, 14.13it/s]\n",
            "Validation: 100%|██████████| 127/127 [00:05<00:00, 21.45it/s]\n"
          ]
        },
        {
          "output_type": "stream",
          "name": "stdout",
          "text": [
            "Train Loss: 1.4963, Train Acc: 41.91%\n",
            "Val Loss: 1.4719, Val Acc: 43.24%\n",
            "\n",
            "Epoch 6/10\n",
            "----------\n"
          ]
        },
        {
          "output_type": "stream",
          "name": "stderr",
          "text": [
            "Training: 100%|██████████| 379/379 [00:26<00:00, 14.12it/s]\n",
            "Validation: 100%|██████████| 127/127 [00:06<00:00, 20.24it/s]\n"
          ]
        },
        {
          "output_type": "stream",
          "name": "stdout",
          "text": [
            "Train Loss: 1.4660, Train Acc: 43.06%\n",
            "Val Loss: 1.4691, Val Acc: 43.16%\n",
            "\n",
            "Epoch 7/10\n",
            "----------\n"
          ]
        },
        {
          "output_type": "stream",
          "name": "stderr",
          "text": [
            "Training: 100%|██████████| 379/379 [00:27<00:00, 14.03it/s]\n",
            "Validation: 100%|██████████| 127/127 [00:07<00:00, 15.91it/s]\n"
          ]
        },
        {
          "output_type": "stream",
          "name": "stdout",
          "text": [
            "Train Loss: 1.4333, Train Acc: 44.27%\n",
            "Val Loss: 1.4022, Val Acc: 45.37%\n",
            "\n",
            "Epoch 8/10\n",
            "----------\n"
          ]
        },
        {
          "output_type": "stream",
          "name": "stderr",
          "text": [
            "Training: 100%|██████████| 379/379 [00:25<00:00, 14.77it/s]\n",
            "Validation: 100%|██████████| 127/127 [00:07<00:00, 17.03it/s]\n"
          ]
        },
        {
          "output_type": "stream",
          "name": "stdout",
          "text": [
            "Train Loss: 1.4180, Train Acc: 45.20%\n",
            "Val Loss: 1.4328, Val Acc: 44.45%\n",
            "\n",
            "Epoch 9/10\n",
            "----------\n"
          ]
        },
        {
          "output_type": "stream",
          "name": "stderr",
          "text": [
            "Training: 100%|██████████| 379/379 [00:26<00:00, 14.13it/s]\n",
            "Validation: 100%|██████████| 127/127 [00:05<00:00, 21.46it/s]\n"
          ]
        },
        {
          "output_type": "stream",
          "name": "stdout",
          "text": [
            "Train Loss: 1.3952, Train Acc: 46.13%\n",
            "Val Loss: 1.4001, Val Acc: 46.10%\n",
            "\n",
            "Epoch 10/10\n",
            "----------\n"
          ]
        },
        {
          "output_type": "stream",
          "name": "stderr",
          "text": [
            "Training: 100%|██████████| 379/379 [00:26<00:00, 14.12it/s]\n",
            "Validation: 100%|██████████| 127/127 [00:06<00:00, 20.89it/s]\n"
          ]
        },
        {
          "output_type": "stream",
          "name": "stdout",
          "text": [
            "Train Loss: 1.3808, Train Acc: 46.72%\n",
            "Val Loss: 1.3877, Val Acc: 45.80%\n"
          ]
        },
        {
          "output_type": "display_data",
          "data": {
            "text/plain": [
              "<Figure size 1500x500 with 2 Axes>"
            ],
            "image/png": "[encoded data removed]"
          },
          "metadata": {}
        },
        {
          "output_type": "display_data",
          "data": {
            "text/plain": [
              "<IPython.core.display.HTML object>"
            ],
            "text/html": []
          },
          "metadata": {}
        },
        {
          "output_type": "display_data",
          "data": {
            "text/plain": [
              "<IPython.core.display.HTML object>"
            ],
            "text/html": [
              "<br>    <style><br>        .wandb-row {<br>            display: flex;<br>            flex-direction: row;<br>            flex-wrap: wrap;<br>            justify-content: flex-start;<br>            width: 100%;<br>        }<br>        .wandb-col {<br>            display: flex;<br>            flex-direction: column;<br>            flex-basis: 100%;<br>            flex: 1;<br>            padding: 10px;<br>        }<br>    </style><br><div class=\"wandb-row\"><div class=\"wandb-col\"><h3>Run history:</h3><br/><table class=\"wandb\"><tr><td>best_val_accuracy</td><td>▁</td></tr><tr><td>epoch</td><td>▁▂▃▃▄▅▆▆▇█</td></tr><tr><td>final_train_accuracy</td><td>▁</td></tr><tr><td>final_val_accuracy</td><td>▁</td></tr><tr><td>train_accuracy</td><td>▁▃▄▆▆▇▇▇██</td></tr><tr><td>train_loss</td><td>█▃▃▂▂▂▁▁▁▁</td></tr><tr><td>val_accuracy</td><td>▁▃▄▄▆▆█▇██</td></tr><tr><td>val_loss</td><td>█▆▆▄▃▃▁▂▁▁</td></tr></table><br/></div><div class=\"wandb-col\"><h3>Run summary:</h3><br/><table class=\"wandb\"><tr><td>best_val_accuracy</td><td>46.09859</td></tr><tr><td>epoch</td><td>10</td></tr><tr><td>final_train_accuracy</td><td>46.71813</td></tr><tr><td>final_val_accuracy</td><td>45.80134</td></tr><tr><td>train_accuracy</td><td>46.71813</td></tr><tr><td>train_loss</td><td>1.38078</td></tr><tr><td>val_accuracy</td><td>45.80134</td></tr><tr><td>val_loss</td><td>1.38768</td></tr></table><br/></div></div>"
            ]
          },
          "metadata": {}
        },
        {
          "output_type": "display_data",
          "data": {
            "text/plain": [
              "<IPython.core.display.HTML object>"
            ],
            "text/html": [
              " View run <strong style=\"color:#cdcd00\">Basic_CNN</strong> at: <a href='https://wandb.ai/b3tameche-free-university-of-tbilisi-/Facial%20Expression%20Recognition/runs/8k1hh00s' target=\"_blank\">https://wandb.ai/b3tameche-free-university-of-tbilisi-/Facial%20Expression%20Recognition/runs/8k1hh00s</a><br> View project at: <a href='https://wandb.ai/b3tameche-free-university-of-tbilisi-/Facial%20Expression%20Recognition' target=\"_blank\">https://wandb.ai/b3tameche-free-university-of-tbilisi-/Facial%20Expression%20Recognition</a><br>Synced 5 W&B file(s), 0 media file(s), 0 artifact file(s) and 1 other file(s)"
            ]
          },
          "metadata": {}
        },
        {
          "output_type": "display_data",
          "data": {
            "text/plain": [
              "<IPython.core.display.HTML object>"
            ],
            "text/html": [
              "Find logs at: <code>./wandb/run-20250607_201226-8k1hh00s/logs</code>"
            ]
          },
          "metadata": {}
        }
      ]
    },
    {
      "cell_type": "markdown",
      "source": [
        "### 4.2.2 CNN with BatchNorm"
      ],
      "metadata": {
        "id": "ZhpoSz4gir_b"
      }
    },
    {
      "cell_type": "code",
      "source": [
        "# 1. conv layer 1\n",
        "#    BN\n",
        "#    ReLU\n",
        "#    max pooling\n",
        "\n",
        "# 2. conv layer 2\n",
        "#    BN\n",
        "#    ReLU\n",
        "#    max pooling\n",
        "\n",
        "# 3. conv layer 3\n",
        "#    BN\n",
        "#    ReLU\n",
        "#    max pooling\n",
        "\n",
        "# 4. flatten\n",
        "# 5. linear layer\n",
        "# 6. BN\n",
        "# 7. ReLU\n",
        "# 8. linear layer\n",
        "\n",
        "class CNNWithBatchNorm(nn.Module):\n",
        "    def __init__(self, num_classes=7):\n",
        "        super().__init__()\n",
        "\n",
        "        self.features = nn.Sequential(\n",
        "            # conv 1\n",
        "            nn.Conv2d(1, 32, kernel_size=3, padding=1), # 32 x 48 x 48\n",
        "            nn.BatchNorm2d(32),\n",
        "            nn.ReLU(),\n",
        "            nn.MaxPool2d(2, 2), # 32 x 24 x 24\n",
        "\n",
        "            # conv 2\n",
        "            nn.Conv2d(32, 64, kernel_size=3, padding=1), # 64 x 24 x 24\n",
        "            nn.BatchNorm2d(64),\n",
        "            nn.ReLU(),\n",
        "            nn.MaxPool2d(2, 2), # 64 x 12 x 12\n",
        "\n",
        "            # conv 3\n",
        "            nn.Conv2d(64, 128, kernel_size=3, padding=1), # 128 x 12 x 12\n",
        "            nn.BatchNorm2d(128),\n",
        "            nn.ReLU(),\n",
        "            nn.MaxPool2d(2, 2), # 128 x 6 x 6\n",
        "        )\n",
        "\n",
        "        self.classifier = nn.Sequential(\n",
        "            nn.Flatten(),\n",
        "            nn.Linear(128 * 6 * 6, 512),\n",
        "            nn.BatchNorm1d(512),\n",
        "            nn.ReLU(),\n",
        "            nn.Linear(512, num_classes)\n",
        "        )\n",
        "\n",
        "    def forward(self, x):\n",
        "        x = self.features(x)\n",
        "        x = self.classifier(x)\n",
        "        return x"
      ],
      "metadata": {
        "id": "VorvhNFXjFSb"
      },
      "execution_count": 35,
      "outputs": []
    },
    {
      "cell_type": "code",
      "source": [
        "print(\"Architecture 2: CNN with Batch Normalization\")\n",
        "model3 = CNNWithBatchNorm().to(device)\n",
        "model3.apply(init_weights_kaiming)\n",
        "optimizer3 = Adam(model3.parameters(), lr=0.01)\n",
        "\n",
        "train_losses3, train_accs3, val_losses3, val_accs3, best_acc3 = train_model(\n",
        "    model3, train_loader, val_loader, NUM_EPOCHS, optimizer3, criterion, device, \"CNN_BatchNorm\"\n",
        ")\n",
        "results[\"CNN_BatchNorm\"] = best_acc3"
      ],
      "metadata": {
        "colab": {
          "base_uri": "https://localhost:8080/",
          "height": 1000
        },
        "id": "FFHpPQlbo3ze",
        "outputId": "27f78ee4-28c9-4997-e78d-129c3575abe0"
      },
      "execution_count": 36,
      "outputs": [
        {
          "output_type": "stream",
          "name": "stdout",
          "text": [
            "Architecture 2: CNN with Batch Normalization\n"
          ]
        },
        {
          "output_type": "display_data",
          "data": {
            "text/plain": [
              "<IPython.core.display.HTML object>"
            ],
            "text/html": [
              "Finishing previous runs because reinit is set to 'default'."
            ]
          },
          "metadata": {}
        },
        {
          "output_type": "display_data",
          "data": {
            "text/plain": [
              "<IPython.core.display.HTML object>"
            ],
            "text/html": []
          },
          "metadata": {}
        },
        {
          "output_type": "display_data",
          "data": {
            "text/plain": [
              "<IPython.core.display.HTML object>"
            ],
            "text/html": [
              "<br>    <style><br>        .wandb-row {<br>            display: flex;<br>            flex-direction: row;<br>            flex-wrap: wrap;<br>            justify-content: flex-start;<br>            width: 100%;<br>        }<br>        .wandb-col {<br>            display: flex;<br>            flex-direction: column;<br>            flex-basis: 100%;<br>            flex: 1;<br>            padding: 10px;<br>        }<br>    </style><br><div class=\"wandb-row\"><div class=\"wandb-col\"><h3>Run history:</h3><br/><table class=\"wandb\"><tr><td>epoch</td><td>▁▅█</td></tr><tr><td>train_accuracy</td><td>▁▅█</td></tr><tr><td>train_loss</td><td>█▂▁</td></tr><tr><td>val_accuracy</td><td>▁▆█</td></tr><tr><td>val_loss</td><td>█▄▁</td></tr></table><br/></div><div class=\"wandb-col\"><h3>Run summary:</h3><br/><table class=\"wandb\"><tr><td>epoch</td><td>3</td></tr><tr><td>train_accuracy</td><td>40.59197</td></tr><tr><td>train_loss</td><td>1.52755</td></tr><tr><td>val_accuracy</td><td>43.52242</td></tr><tr><td>val_loss</td><td>1.47259</td></tr></table><br/></div></div>"
            ]
          },
          "metadata": {}
        },
        {
          "output_type": "display_data",
          "data": {
            "text/plain": [
              "<IPython.core.display.HTML object>"
            ],
            "text/html": [
              " View run <strong style=\"color:#cdcd00\">Basic_CNN</strong> at: <a href='https://wandb.ai/b3tameche-free-university-of-tbilisi-/Facial%20Expression%20Recognition/runs/vtsqd3cn' target=\"_blank\">https://wandb.ai/b3tameche-free-university-of-tbilisi-/Facial%20Expression%20Recognition/runs/vtsqd3cn</a><br> View project at: <a href='https://wandb.ai/b3tameche-free-university-of-tbilisi-/Facial%20Expression%20Recognition' target=\"_blank\">https://wandb.ai/b3tameche-free-university-of-tbilisi-/Facial%20Expression%20Recognition</a><br>Synced 5 W&B file(s), 0 media file(s), 0 artifact file(s) and 0 other file(s)"
            ]
          },
          "metadata": {}
        },
        {
          "output_type": "display_data",
          "data": {
            "text/plain": [
              "<IPython.core.display.HTML object>"
            ],
            "text/html": [
              "Find logs at: <code>./wandb/run-20250607_202612-vtsqd3cn/logs</code>"
            ]
          },
          "metadata": {}
        },
        {
          "output_type": "display_data",
          "data": {
            "text/plain": [
              "<IPython.core.display.HTML object>"
            ],
            "text/html": [
              "Tracking run with wandb version 0.20.1"
            ]
          },
          "metadata": {}
        },
        {
          "output_type": "display_data",
          "data": {
            "text/plain": [
              "<IPython.core.display.HTML object>"
            ],
            "text/html": [
              "Run data is saved locally in <code>/content/wandb/run-20250607_204735-b26tv2zh</code>"
            ]
          },
          "metadata": {}
        },
        {
          "output_type": "display_data",
          "data": {
            "text/plain": [
              "<IPython.core.display.HTML object>"
            ],
            "text/html": [
              "Syncing run <strong><a href='https://wandb.ai/b3tameche-free-university-of-tbilisi-/Facial%20Expression%20Recognition/runs/b26tv2zh' target=\"_blank\">CNN_BatchNorm</a></strong> to <a href='https://wandb.ai/b3tameche-free-university-of-tbilisi-/Facial%20Expression%20Recognition' target=\"_blank\">Weights & Biases</a> (<a href='https://wandb.me/developer-guide' target=\"_blank\">docs</a>)<br>"
            ]
          },
          "metadata": {}
        },
        {
          "output_type": "display_data",
          "data": {
            "text/plain": [
              "<IPython.core.display.HTML object>"
            ],
            "text/html": [
              " View project at <a href='https://wandb.ai/b3tameche-free-university-of-tbilisi-/Facial%20Expression%20Recognition' target=\"_blank\">https://wandb.ai/b3tameche-free-university-of-tbilisi-/Facial%20Expression%20Recognition</a>"
            ]
          },
          "metadata": {}
        },
        {
          "output_type": "display_data",
          "data": {
            "text/plain": [
              "<IPython.core.display.HTML object>"
            ],
            "text/html": [
              " View run at <a href='https://wandb.ai/b3tameche-free-university-of-tbilisi-/Facial%20Expression%20Recognition/runs/b26tv2zh' target=\"_blank\">https://wandb.ai/b3tameche-free-university-of-tbilisi-/Facial%20Expression%20Recognition/runs/b26tv2zh</a>"
            ]
          },
          "metadata": {}
        },
        {
          "output_type": "stream",
          "name": "stdout",
          "text": [
            "\n",
            "Epoch 1/10\n",
            "----------\n"
          ]
        },
        {
          "output_type": "stream",
          "name": "stderr",
          "text": [
            "Training: 100%|██████████| 379/379 [00:24<00:00, 15.78it/s]\n",
            "Validation: 100%|██████████| 127/127 [00:05<00:00, 21.34it/s]\n"
          ]
        },
        {
          "output_type": "stream",
          "name": "stdout",
          "text": [
            "Train Loss: 2.7896, Train Acc: 30.45%\n",
            "Val Loss: 2.0123, Val Acc: 36.20%\n",
            "\n",
            "Epoch 2/10\n",
            "----------\n"
          ]
        },
        {
          "output_type": "stream",
          "name": "stderr",
          "text": [
            "Training: 100%|██████████| 379/379 [00:23<00:00, 15.90it/s]\n",
            "Validation: 100%|██████████| 127/127 [00:06<00:00, 20.85it/s]\n"
          ]
        },
        {
          "output_type": "stream",
          "name": "stdout",
          "text": [
            "Train Loss: 1.6480, Train Acc: 42.16%\n",
            "Val Loss: 1.4946, Val Acc: 44.29%\n",
            "\n",
            "Epoch 3/10\n",
            "----------\n"
          ]
        },
        {
          "output_type": "stream",
          "name": "stderr",
          "text": [
            "Training: 100%|██████████| 379/379 [00:23<00:00, 15.98it/s]\n",
            "Validation: 100%|██████████| 127/127 [00:05<00:00, 21.40it/s]\n"
          ]
        },
        {
          "output_type": "stream",
          "name": "stdout",
          "text": [
            "Train Loss: 1.4764, Train Acc: 47.48%\n",
            "Val Loss: 1.5142, Val Acc: 45.32%\n",
            "\n",
            "Epoch 4/10\n",
            "----------\n"
          ]
        },
        {
          "output_type": "stream",
          "name": "stderr",
          "text": [
            "Training: 100%|██████████| 379/379 [00:23<00:00, 16.07it/s]\n",
            "Validation: 100%|██████████| 127/127 [00:06<00:00, 20.81it/s]\n"
          ]
        },
        {
          "output_type": "stream",
          "name": "stdout",
          "text": [
            "Train Loss: 1.3325, Train Acc: 51.61%\n",
            "Val Loss: 1.3815, Val Acc: 50.11%\n",
            "\n",
            "Epoch 5/10\n",
            "----------\n"
          ]
        },
        {
          "output_type": "stream",
          "name": "stderr",
          "text": [
            "Training: 100%|██████████| 379/379 [00:23<00:00, 16.27it/s]\n",
            "Validation: 100%|██████████| 127/127 [00:05<00:00, 21.88it/s]\n"
          ]
        },
        {
          "output_type": "stream",
          "name": "stdout",
          "text": [
            "Train Loss: 1.2055, Train Acc: 57.11%\n",
            "Val Loss: 1.3511, Val Acc: 52.04%\n",
            "\n",
            "Epoch 6/10\n",
            "----------\n"
          ]
        },
        {
          "output_type": "stream",
          "name": "stderr",
          "text": [
            "Training: 100%|██████████| 379/379 [00:23<00:00, 16.22it/s]\n",
            "Validation: 100%|██████████| 127/127 [00:05<00:00, 21.57it/s]\n"
          ]
        },
        {
          "output_type": "stream",
          "name": "stdout",
          "text": [
            "Train Loss: 1.0733, Train Acc: 61.50%\n",
            "Val Loss: 1.3797, Val Acc: 52.91%\n",
            "\n",
            "Epoch 7/10\n",
            "----------\n"
          ]
        },
        {
          "output_type": "stream",
          "name": "stderr",
          "text": [
            "Training: 100%|██████████| 379/379 [00:23<00:00, 16.41it/s]\n",
            "Validation: 100%|██████████| 127/127 [00:05<00:00, 22.10it/s]\n"
          ]
        },
        {
          "output_type": "stream",
          "name": "stdout",
          "text": [
            "Train Loss: 0.9315, Train Acc: 66.42%\n",
            "Val Loss: 1.3706, Val Acc: 53.00%\n",
            "\n",
            "Epoch 8/10\n",
            "----------\n"
          ]
        },
        {
          "output_type": "stream",
          "name": "stderr",
          "text": [
            "Training: 100%|██████████| 379/379 [00:23<00:00, 16.41it/s]\n",
            "Validation: 100%|██████████| 127/127 [00:05<00:00, 21.89it/s]\n"
          ]
        },
        {
          "output_type": "stream",
          "name": "stdout",
          "text": [
            "Train Loss: 0.7949, Train Acc: 71.76%\n",
            "Val Loss: 1.3827, Val Acc: 53.42%\n",
            "\n",
            "Epoch 9/10\n",
            "----------\n"
          ]
        },
        {
          "output_type": "stream",
          "name": "stderr",
          "text": [
            "Training: 100%|██████████| 379/379 [00:23<00:00, 16.40it/s]\n",
            "Validation: 100%|██████████| 127/127 [00:05<00:00, 21.61it/s]\n"
          ]
        },
        {
          "output_type": "stream",
          "name": "stdout",
          "text": [
            "Train Loss: 0.6168, Train Acc: 78.08%\n",
            "Val Loss: 1.4897, Val Acc: 52.79%\n",
            "\n",
            "Epoch 10/10\n",
            "----------\n"
          ]
        },
        {
          "output_type": "stream",
          "name": "stderr",
          "text": [
            "Training: 100%|██████████| 379/379 [00:22<00:00, 16.59it/s]\n",
            "Validation: 100%|██████████| 127/127 [00:06<00:00, 19.80it/s]\n"
          ]
        },
        {
          "output_type": "stream",
          "name": "stdout",
          "text": [
            "Train Loss: 0.4730, Train Acc: 83.42%\n",
            "Val Loss: 1.5831, Val Acc: 56.22%\n"
          ]
        },
        {
          "output_type": "display_data",
          "data": {
            "text/plain": [
              "<Figure size 1500x500 with 2 Axes>"
            ],
            "image/png": "[encoded data removed]"
          },
          "metadata": {}
        },
        {
          "output_type": "display_data",
          "data": {
            "text/plain": [
              "<IPython.core.display.HTML object>"
            ],
            "text/html": []
          },
          "metadata": {}
        },
        {
          "output_type": "display_data",
          "data": {
            "text/plain": [
              "<IPython.core.display.HTML object>"
            ],
            "text/html": [
              "<br>    <style><br>        .wandb-row {<br>            display: flex;<br>            flex-direction: row;<br>            flex-wrap: wrap;<br>            justify-content: flex-start;<br>            width: 100%;<br>        }<br>        .wandb-col {<br>            display: flex;<br>            flex-direction: column;<br>            flex-basis: 100%;<br>            flex: 1;<br>            padding: 10px;<br>        }<br>    </style><br><div class=\"wandb-row\"><div class=\"wandb-col\"><h3>Run history:</h3><br/><table class=\"wandb\"><tr><td>best_val_accuracy</td><td>▁</td></tr><tr><td>epoch</td><td>▁▂▃▃▄▅▆▆▇█</td></tr><tr><td>final_train_accuracy</td><td>▁</td></tr><tr><td>final_val_accuracy</td><td>▁</td></tr><tr><td>train_accuracy</td><td>▁▃▃▄▅▅▆▆▇█</td></tr><tr><td>train_loss</td><td>█▅▄▄▃▃▂▂▁▁</td></tr><tr><td>val_accuracy</td><td>▁▄▄▆▇▇▇▇▇█</td></tr><tr><td>val_loss</td><td>█▃▃▁▁▁▁▁▂▃</td></tr></table><br/></div><div class=\"wandb-col\"><h3>Run summary:</h3><br/><table class=\"wandb\"><tr><td>best_val_accuracy</td><td>56.21749</td></tr><tr><td>epoch</td><td>10</td></tr><tr><td>final_train_accuracy</td><td>83.4214</td></tr><tr><td>final_val_accuracy</td><td>56.21749</td></tr><tr><td>train_accuracy</td><td>83.4214</td></tr><tr><td>train_loss</td><td>0.47297</td></tr><tr><td>val_accuracy</td><td>56.21749</td></tr><tr><td>val_loss</td><td>1.5831</td></tr></table><br/></div></div>"
            ]
          },
          "metadata": {}
        },
        {
          "output_type": "display_data",
          "data": {
            "text/plain": [
              "<IPython.core.display.HTML object>"
            ],
            "text/html": [
              " View run <strong style=\"color:#cdcd00\">CNN_BatchNorm</strong> at: <a href='https://wandb.ai/b3tameche-free-university-of-tbilisi-/Facial%20Expression%20Recognition/runs/b26tv2zh' target=\"_blank\">https://wandb.ai/b3tameche-free-university-of-tbilisi-/Facial%20Expression%20Recognition/runs/b26tv2zh</a><br> View project at: <a href='https://wandb.ai/b3tameche-free-university-of-tbilisi-/Facial%20Expression%20Recognition' target=\"_blank\">https://wandb.ai/b3tameche-free-university-of-tbilisi-/Facial%20Expression%20Recognition</a><br>Synced 5 W&B file(s), 0 media file(s), 0 artifact file(s) and 1 other file(s)"
            ]
          },
          "metadata": {}
        },
        {
          "output_type": "display_data",
          "data": {
            "text/plain": [
              "<IPython.core.display.HTML object>"
            ],
            "text/html": [
              "Find logs at: <code>./wandb/run-20250607_204735-b26tv2zh/logs</code>"
            ]
          },
          "metadata": {}
        }
      ]
    },
    {
      "cell_type": "markdown",
      "source": [
        "### 4.2.3 CNN with Batchnorm and Dropout"
      ],
      "metadata": {
        "id": "jLdxVDTTpTfW"
      }
    },
    {
      "cell_type": "code",
      "source": [
        "# 1. conv layer 1\n",
        "#    BN\n",
        "#    ReLU\n",
        "#    max pooling\n",
        "#    dropout\n",
        "\n",
        "# 2. conv layer 2\n",
        "#    BN\n",
        "#    ReLU\n",
        "#    max pooling\n",
        "#    dropout\n",
        "\n",
        "# 3. conv layer 3\n",
        "#    BN\n",
        "#    ReLU\n",
        "#    max pooling\n",
        "#    dropout\n",
        "\n",
        "# 4. flatten\n",
        "# 5. linear layer\n",
        "# 6. BN\n",
        "# 7. ReLU\n",
        "# 8. dropout\n",
        "# 9. linear layer\n",
        "\n",
        "class CNNWithBatchNormDropout(nn.Module):\n",
        "    def __init__(self, num_classes=7, dropout_rate=0.5):\n",
        "        super().__init__()\n",
        "\n",
        "        self.features = nn.Sequential(\n",
        "            # conv 1\n",
        "            nn.Conv2d(1, 32, kernel_size=3, padding=1),\n",
        "            nn.BatchNorm2d(32),\n",
        "            nn.ReLU(),\n",
        "            nn.MaxPool2d(2, 2),\n",
        "            nn.Dropout2d(0.25),\n",
        "\n",
        "            # conv 2\n",
        "            nn.Conv2d(32, 64, kernel_size=3, padding=1),\n",
        "            nn.BatchNorm2d(64),\n",
        "            nn.ReLU(),\n",
        "            nn.MaxPool2d(2, 2),\n",
        "            nn.Dropout2d(0.25),\n",
        "\n",
        "            # conv 3\n",
        "            nn.Conv2d(64, 128, kernel_size=3, padding=1),\n",
        "            nn.BatchNorm2d(128),\n",
        "            nn.ReLU(),\n",
        "            nn.MaxPool2d(2, 2),\n",
        "            nn.Dropout2d(0.25),\n",
        "        )\n",
        "\n",
        "        self.classifier = nn.Sequential(\n",
        "            nn.Flatten(),\n",
        "            nn.Linear(128 * 6 * 6, 512),\n",
        "            nn.BatchNorm1d(512),\n",
        "            nn.ReLU(),\n",
        "            nn.Dropout(dropout_rate),\n",
        "            nn.Linear(512, num_classes)\n",
        "        )\n",
        "\n",
        "    def forward(self, x):\n",
        "        x = self.features(x)\n",
        "        x = self.classifier(x)\n",
        "        return x"
      ],
      "metadata": {
        "id": "9a7zmD731klS"
      },
      "execution_count": 54,
      "outputs": []
    },
    {
      "cell_type": "code",
      "source": [
        "print(\"Architecture 4: CNN with BatchNorm and Dropout\")\n",
        "model4 = CNNWithBatchNormDropout().to(device)\n",
        "optimizer4 = Adam(model4.parameters(), lr=0.01)\n",
        "\n",
        "train_losses4, train_accs4, val_losses4, val_accs4, best_acc4 = train_model(\n",
        "    model4, train_loader, val_loader, NUM_EPOCHS, optimizer4, criterion, device, \"CNN_BatchNorm_Dropout\"\n",
        ")\n",
        "results[\"CNN_BatchNorm_Dropout\"] = best_acc4"
      ],
      "metadata": {
        "colab": {
          "base_uri": "https://localhost:8080/",
          "height": 1000
        },
        "id": "OlABaPUt2sdc",
        "outputId": "0d627d11-c180-485f-98ba-1f314c363de8"
      },
      "execution_count": 55,
      "outputs": [
        {
          "output_type": "stream",
          "name": "stdout",
          "text": [
            "Architecture 4: CNN with BatchNorm and Dropout\n"
          ]
        },
        {
          "output_type": "display_data",
          "data": {
            "text/plain": [
              "<IPython.core.display.HTML object>"
            ],
            "text/html": [
              "Changes to your `wandb` environment variables will be ignored because your `wandb` session has already started. For more information on how to modify your settings with `wandb.init()` arguments, please refer to <a href='https://wandb.me/wandb-init' target=\"_blank\">the W&B docs</a>."
            ]
          },
          "metadata": {}
        },
        {
          "output_type": "display_data",
          "data": {
            "text/plain": [
              "<IPython.core.display.HTML object>"
            ],
            "text/html": [
              "Finishing previous runs because reinit is set to 'default'."
            ]
          },
          "metadata": {}
        },
        {
          "output_type": "display_data",
          "data": {
            "text/plain": [
              "<IPython.core.display.HTML object>"
            ],
            "text/html": []
          },
          "metadata": {}
        },
        {
          "output_type": "display_data",
          "data": {
            "text/plain": [
              "<IPython.core.display.HTML object>"
            ],
            "text/html": [
              " View run <strong style=\"color:#cdcd00\">comfy-dragon-2</strong> at: <a href='https://wandb.ai/b3tameche-free-university-of-tbilisi-/uncategorized/runs/v5tk2jvf' target=\"_blank\">https://wandb.ai/b3tameche-free-university-of-tbilisi-/uncategorized/runs/v5tk2jvf</a><br> View project at: <a href='https://wandb.ai/b3tameche-free-university-of-tbilisi-/uncategorized' target=\"_blank\">https://wandb.ai/b3tameche-free-university-of-tbilisi-/uncategorized</a><br>Synced 5 W&B file(s), 0 media file(s), 0 artifact file(s) and 0 other file(s)"
            ]
          },
          "metadata": {}
        },
        {
          "output_type": "display_data",
          "data": {
            "text/plain": [
              "<IPython.core.display.HTML object>"
            ],
            "text/html": [
              "Find logs at: <code>./wandb/run-20250607_210952-v5tk2jvf/logs</code>"
            ]
          },
          "metadata": {}
        },
        {
          "output_type": "display_data",
          "data": {
            "text/plain": [
              "<IPython.core.display.HTML object>"
            ],
            "text/html": [
              "Tracking run with wandb version 0.20.1"
            ]
          },
          "metadata": {}
        },
        {
          "output_type": "display_data",
          "data": {
            "text/plain": [
              "<IPython.core.display.HTML object>"
            ],
            "text/html": [
              "Run data is saved locally in <code>/content/wandb/run-20250607_211333-42wk6lh8</code>"
            ]
          },
          "metadata": {}
        },
        {
          "output_type": "display_data",
          "data": {
            "text/plain": [
              "<IPython.core.display.HTML object>"
            ],
            "text/html": [
              "Syncing run <strong><a href='https://wandb.ai/b3tameche-free-university-of-tbilisi-/Facial%20Expression%20Recognition/runs/42wk6lh8' target=\"_blank\">CNN_BatchNorm_Dropout</a></strong> to <a href='https://wandb.ai/b3tameche-free-university-of-tbilisi-/Facial%20Expression%20Recognition' target=\"_blank\">Weights & Biases</a> (<a href='https://wandb.me/developer-guide' target=\"_blank\">docs</a>)<br>"
            ]
          },
          "metadata": {}
        },
        {
          "output_type": "display_data",
          "data": {
            "text/plain": [
              "<IPython.core.display.HTML object>"
            ],
            "text/html": [
              " View project at <a href='https://wandb.ai/b3tameche-free-university-of-tbilisi-/Facial%20Expression%20Recognition' target=\"_blank\">https://wandb.ai/b3tameche-free-university-of-tbilisi-/Facial%20Expression%20Recognition</a>"
            ]
          },
          "metadata": {}
        },
        {
          "output_type": "display_data",
          "data": {
            "text/plain": [
              "<IPython.core.display.HTML object>"
            ],
            "text/html": [
              " View run at <a href='https://wandb.ai/b3tameche-free-university-of-tbilisi-/Facial%20Expression%20Recognition/runs/42wk6lh8' target=\"_blank\">https://wandb.ai/b3tameche-free-university-of-tbilisi-/Facial%20Expression%20Recognition/runs/42wk6lh8</a>"
            ]
          },
          "metadata": {}
        },
        {
          "output_type": "stream",
          "name": "stdout",
          "text": [
            "\n",
            "Epoch 1/10\n",
            "----------\n"
          ]
        },
        {
          "output_type": "stream",
          "name": "stderr",
          "text": [
            "Training: 100%|██████████| 379/379 [00:23<00:00, 15.91it/s]\n",
            "Validation: 100%|██████████| 127/127 [00:05<00:00, 21.35it/s]\n"
          ]
        },
        {
          "output_type": "stream",
          "name": "stdout",
          "text": [
            "Train Loss: 1.8254, Train Acc: 28.43%\n",
            "Val Loss: 1.5260, Val Acc: 40.83%\n",
            "\n",
            "Epoch 2/10\n",
            "----------\n"
          ]
        },
        {
          "output_type": "stream",
          "name": "stderr",
          "text": [
            "Training: 100%|██████████| 379/379 [00:23<00:00, 15.85it/s]\n",
            "Validation: 100%|██████████| 127/127 [00:06<00:00, 20.85it/s]\n"
          ]
        },
        {
          "output_type": "stream",
          "name": "stdout",
          "text": [
            "Train Loss: 1.5415, Train Acc: 39.80%\n",
            "Val Loss: 1.3994, Val Acc: 45.94%\n",
            "\n",
            "Epoch 3/10\n",
            "----------\n"
          ]
        },
        {
          "output_type": "stream",
          "name": "stderr",
          "text": [
            "Training: 100%|██████████| 379/379 [00:23<00:00, 15.93it/s]\n",
            "Validation: 100%|██████████| 127/127 [00:05<00:00, 21.37it/s]\n"
          ]
        },
        {
          "output_type": "stream",
          "name": "stdout",
          "text": [
            "Train Loss: 1.4421, Train Acc: 44.14%\n",
            "Val Loss: 1.3250, Val Acc: 49.78%\n",
            "\n",
            "Epoch 4/10\n",
            "----------\n"
          ]
        },
        {
          "output_type": "stream",
          "name": "stderr",
          "text": [
            "Training: 100%|██████████| 379/379 [00:23<00:00, 15.89it/s]\n",
            "Validation: 100%|██████████| 127/127 [00:06<00:00, 21.02it/s]\n"
          ]
        },
        {
          "output_type": "stream",
          "name": "stdout",
          "text": [
            "Train Loss: 1.3735, Train Acc: 47.08%\n",
            "Val Loss: 1.2616, Val Acc: 51.75%\n",
            "\n",
            "Epoch 5/10\n",
            "----------\n"
          ]
        },
        {
          "output_type": "stream",
          "name": "stderr",
          "text": [
            "Training: 100%|██████████| 379/379 [00:23<00:00, 15.97it/s]\n",
            "Validation: 100%|██████████| 127/127 [00:05<00:00, 21.58it/s]\n"
          ]
        },
        {
          "output_type": "stream",
          "name": "stdout",
          "text": [
            "Train Loss: 1.3205, Train Acc: 49.01%\n",
            "Val Loss: 1.2186, Val Acc: 53.48%\n",
            "\n",
            "Epoch 6/10\n",
            "----------\n"
          ]
        },
        {
          "output_type": "stream",
          "name": "stderr",
          "text": [
            "Training: 100%|██████████| 379/379 [00:23<00:00, 15.85it/s]\n",
            "Validation: 100%|██████████| 127/127 [00:06<00:00, 21.04it/s]\n"
          ]
        },
        {
          "output_type": "stream",
          "name": "stdout",
          "text": [
            "Train Loss: 1.2787, Train Acc: 50.78%\n",
            "Val Loss: 1.1891, Val Acc: 55.50%\n",
            "\n",
            "Epoch 7/10\n",
            "----------\n"
          ]
        },
        {
          "output_type": "stream",
          "name": "stderr",
          "text": [
            "Training: 100%|██████████| 379/379 [00:23<00:00, 15.94it/s]\n",
            "Validation: 100%|██████████| 127/127 [00:05<00:00, 21.56it/s]\n"
          ]
        },
        {
          "output_type": "stream",
          "name": "stdout",
          "text": [
            "Train Loss: 1.2372, Train Acc: 52.65%\n",
            "Val Loss: 1.1696, Val Acc: 56.44%\n",
            "\n",
            "Epoch 8/10\n",
            "----------\n"
          ]
        },
        {
          "output_type": "stream",
          "name": "stderr",
          "text": [
            "Training: 100%|██████████| 379/379 [00:23<00:00, 16.10it/s]\n",
            "Validation: 100%|██████████| 127/127 [00:05<00:00, 21.26it/s]\n"
          ]
        },
        {
          "output_type": "stream",
          "name": "stdout",
          "text": [
            "Train Loss: 1.2074, Train Acc: 54.14%\n",
            "Val Loss: 1.1568, Val Acc: 56.22%\n",
            "\n",
            "Epoch 9/10\n",
            "----------\n"
          ]
        },
        {
          "output_type": "stream",
          "name": "stderr",
          "text": [
            "Training: 100%|██████████| 379/379 [00:24<00:00, 15.70it/s]\n",
            "Validation: 100%|██████████| 127/127 [00:06<00:00, 20.94it/s]\n"
          ]
        },
        {
          "output_type": "stream",
          "name": "stdout",
          "text": [
            "Train Loss: 1.1789, Train Acc: 55.28%\n",
            "Val Loss: 1.1591, Val Acc: 57.03%\n",
            "\n",
            "Epoch 10/10\n",
            "----------\n"
          ]
        },
        {
          "output_type": "stream",
          "name": "stderr",
          "text": [
            "Training: 100%|██████████| 379/379 [00:24<00:00, 15.56it/s]\n",
            "Validation: 100%|██████████| 127/127 [00:06<00:00, 20.49it/s]\n"
          ]
        },
        {
          "output_type": "stream",
          "name": "stdout",
          "text": [
            "Train Loss: 1.1463, Train Acc: 56.26%\n",
            "Val Loss: 1.1387, Val Acc: 57.10%\n"
          ]
        },
        {
          "output_type": "display_data",
          "data": {
            "text/plain": [
              "<Figure size 1500x500 with 2 Axes>"
            ],
            "image/png": "[encoded data removed]"
          },
          "metadata": {}
        },
        {
          "output_type": "display_data",
          "data": {
            "text/plain": [
              "<IPython.core.display.HTML object>"
            ],
            "text/html": []
          },
          "metadata": {}
        },
        {
          "output_type": "display_data",
          "data": {
            "text/plain": [
              "<IPython.core.display.HTML object>"
            ],
            "text/html": [
              "<br>    <style><br>        .wandb-row {<br>            display: flex;<br>            flex-direction: row;<br>            flex-wrap: wrap;<br>            justify-content: flex-start;<br>            width: 100%;<br>        }<br>        .wandb-col {<br>            display: flex;<br>            flex-direction: column;<br>            flex-basis: 100%;<br>            flex: 1;<br>            padding: 10px;<br>        }<br>    </style><br><div class=\"wandb-row\"><div class=\"wandb-col\"><h3>Run history:</h3><br/><table class=\"wandb\"><tr><td>best_val_accuracy</td><td>▁</td></tr><tr><td>epoch</td><td>▁▂▃▃▄▅▆▆▇█</td></tr><tr><td>final_train_accuracy</td><td>▁</td></tr><tr><td>final_val_accuracy</td><td>▁</td></tr><tr><td>train_accuracy</td><td>▁▄▅▆▆▇▇▇██</td></tr><tr><td>train_loss</td><td>█▅▄▃▃▂▂▂▁▁</td></tr><tr><td>val_accuracy</td><td>▁▃▅▆▆▇████</td></tr><tr><td>val_loss</td><td>█▆▄▃▂▂▂▁▁▁</td></tr></table><br/></div><div class=\"wandb-col\"><h3>Run summary:</h3><br/><table class=\"wandb\"><tr><td>best_val_accuracy</td><td>57.09685</td></tr><tr><td>epoch</td><td>10</td></tr><tr><td>final_train_accuracy</td><td>56.26238</td></tr><tr><td>final_val_accuracy</td><td>57.09685</td></tr><tr><td>train_accuracy</td><td>56.26238</td></tr><tr><td>train_loss</td><td>1.1463</td></tr><tr><td>val_accuracy</td><td>57.09685</td></tr><tr><td>val_loss</td><td>1.13875</td></tr></table><br/></div></div>"
            ]
          },
          "metadata": {}
        },
        {
          "output_type": "display_data",
          "data": {
            "text/plain": [
              "<IPython.core.display.HTML object>"
            ],
            "text/html": [
              " View run <strong style=\"color:#cdcd00\">CNN_BatchNorm_Dropout</strong> at: <a href='https://wandb.ai/b3tameche-free-university-of-tbilisi-/Facial%20Expression%20Recognition/runs/42wk6lh8' target=\"_blank\">https://wandb.ai/b3tameche-free-university-of-tbilisi-/Facial%20Expression%20Recognition/runs/42wk6lh8</a><br> View project at: <a href='https://wandb.ai/b3tameche-free-university-of-tbilisi-/Facial%20Expression%20Recognition' target=\"_blank\">https://wandb.ai/b3tameche-free-university-of-tbilisi-/Facial%20Expression%20Recognition</a><br>Synced 5 W&B file(s), 0 media file(s), 0 artifact file(s) and 1 other file(s)"
            ]
          },
          "metadata": {}
        },
        {
          "output_type": "display_data",
          "data": {
            "text/plain": [
              "<IPython.core.display.HTML object>"
            ],
            "text/html": [
              "Find logs at: <code>./wandb/run-20250607_211333-42wk6lh8/logs</code>"
            ]
          },
          "metadata": {}
        }
      ]
    },
    {
      "cell_type": "code",
      "source": [],
      "metadata": {
        "id": "fP-2VcX923lZ"
      },
      "execution_count": null,
      "outputs": []
    }
  ],
  "metadata": {
    "colab": {
      "provenance": [],
      "gpuType": "T4"
    },
    "kernelspec": {
      "display_name": "Python 3",
      "name": "python3"
    },
    "language_info": {
      "name": "python"
    },
    "accelerator": "GPU"
  },
  "nbformat": 4,
  "nbformat_minor": 0
}